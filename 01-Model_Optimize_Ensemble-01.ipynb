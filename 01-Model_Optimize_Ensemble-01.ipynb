{
 "cells": [
  {
   "cell_type": "markdown",
   "id": "8ceaba96-102a-4a4a-9640-338093dc2105",
   "metadata": {},
   "source": [
    "## EDA Pass 04\n",
    "#### Check what features are good predictors and consider narrowing features"
   ]
  },
  {
   "cell_type": "code",
   "execution_count": 3,
   "id": "cc8730f5-bb49-4343-8fa6-39ecaf4f7b72",
   "metadata": {},
   "outputs": [],
   "source": [
    "import numpy as np\n",
    "import pandas as pd\n",
    "import matplotlib.pyplot as plt\n",
    "plt.style.use('seaborn-darkgrid')\n",
    "\n",
    "import seaborn as sns\n",
    "SEED = 14"
   ]
  },
  {
   "cell_type": "markdown",
   "id": "2f211d7a-7a1a-4bc6-9415-cb73beb2fcc4",
   "metadata": {},
   "source": [
    "#### Create folder structure"
   ]
  },
  {
   "cell_type": "code",
   "execution_count": 4,
   "id": "90ebe448-4cd6-4fc2-93fe-87c16e17f9b9",
   "metadata": {},
   "outputs": [],
   "source": [
    "import os\n",
    "for d in ['orig\\data', 'output']:\n",
    "    os.makedirs(d, exist_ok=True)"
   ]
  },
  {
   "cell_type": "markdown",
   "id": "0d9b7e82-db94-4396-8771-9dcdcb4f9c2c",
   "metadata": {},
   "source": [
    "### Use *_train for training and testing model\n",
    "#### Build a baseline model\n",
    "#### Use sklearns Pipelines"
   ]
  },
  {
   "cell_type": "markdown",
   "id": "661af6e9-9904-4a42-8c9c-bbd8f854ceb9",
   "metadata": {},
   "source": [
    "Import data to dataframe"
   ]
  },
  {
   "cell_type": "code",
   "execution_count": 5,
   "id": "029f870a-668c-4c6d-9828-f664aba23d47",
   "metadata": {},
   "outputs": [
    {
     "name": "stdout",
     "output_type": "stream",
     "text": [
      "(25012, 2)\n"
     ]
    },
    {
     "data": {
      "text/html": [
       "<div>\n",
       "<style scoped>\n",
       "    .dataframe tbody tr th:only-of-type {\n",
       "        vertical-align: middle;\n",
       "    }\n",
       "\n",
       "    .dataframe tbody tr th {\n",
       "        vertical-align: top;\n",
       "    }\n",
       "\n",
       "    .dataframe thead th {\n",
       "        text-align: right;\n",
       "    }\n",
       "</style>\n",
       "<table border=\"1\" class=\"dataframe\">\n",
       "  <thead>\n",
       "    <tr style=\"text-align: right;\">\n",
       "      <th></th>\n",
       "      <th>Customer</th>\n",
       "      <th>Account</th>\n",
       "    </tr>\n",
       "  </thead>\n",
       "  <tbody>\n",
       "    <tr>\n",
       "      <th>0</th>\n",
       "      <td>828247016</td>\n",
       "      <td>Investment</td>\n",
       "    </tr>\n",
       "    <tr>\n",
       "      <th>1</th>\n",
       "      <td>828247016</td>\n",
       "      <td>Current</td>\n",
       "    </tr>\n",
       "    <tr>\n",
       "      <th>2</th>\n",
       "      <td>828247016</td>\n",
       "      <td>Credit Card</td>\n",
       "    </tr>\n",
       "    <tr>\n",
       "      <th>3</th>\n",
       "      <td>828247016</td>\n",
       "      <td>On Demand Deposit</td>\n",
       "    </tr>\n",
       "    <tr>\n",
       "      <th>4</th>\n",
       "      <td>828247016</td>\n",
       "      <td>Mortgage</td>\n",
       "    </tr>\n",
       "    <tr>\n",
       "      <th>5</th>\n",
       "      <td>828247016</td>\n",
       "      <td>Joint</td>\n",
       "    </tr>\n",
       "    <tr>\n",
       "      <th>6</th>\n",
       "      <td>794487117</td>\n",
       "      <td>On Demand Deposit</td>\n",
       "    </tr>\n",
       "    <tr>\n",
       "      <th>7</th>\n",
       "      <td>794487117</td>\n",
       "      <td>Mortgage</td>\n",
       "    </tr>\n",
       "    <tr>\n",
       "      <th>8</th>\n",
       "      <td>794487117</td>\n",
       "      <td>Current</td>\n",
       "    </tr>\n",
       "    <tr>\n",
       "      <th>9</th>\n",
       "      <td>794487117</td>\n",
       "      <td>Credit Card</td>\n",
       "    </tr>\n",
       "  </tbody>\n",
       "</table>\n",
       "</div>"
      ],
      "text/plain": [
       "    Customer            Account\n",
       "0  828247016         Investment\n",
       "1  828247016            Current\n",
       "2  828247016        Credit Card\n",
       "3  828247016  On Demand Deposit\n",
       "4  828247016           Mortgage\n",
       "5  828247016              Joint\n",
       "6  794487117  On Demand Deposit\n",
       "7  794487117           Mortgage\n",
       "8  794487117            Current\n",
       "9  794487117        Credit Card"
      ]
     },
     "execution_count": 5,
     "metadata": {},
     "output_type": "execute_result"
    }
   ],
   "source": [
    "df_accounts = pd.read_csv(\"orig/accounts_train.csv\")\n",
    "print(df_accounts.shape)\n",
    "df_accounts.head(10)"
   ]
  },
  {
   "cell_type": "code",
   "execution_count": 6,
   "id": "241ded49-10d6-4663-864d-38dc371d22fb",
   "metadata": {},
   "outputs": [],
   "source": [
    "cols = df_accounts.Account.unique()\n"
   ]
  },
  {
   "cell_type": "markdown",
   "id": "633b8a17-392f-4ba6-bafb-6dbe04082919",
   "metadata": {},
   "source": [
    "### Make each account a binary feature as each account customer relates to multiple accounts"
   ]
  },
  {
   "cell_type": "code",
   "execution_count": 7,
   "id": "934a077d-97d3-4400-bbc5-bfa5a9bd440c",
   "metadata": {},
   "outputs": [
    {
     "data": {
      "text/html": [
       "<div>\n",
       "<style scoped>\n",
       "    .dataframe tbody tr th:only-of-type {\n",
       "        vertical-align: middle;\n",
       "    }\n",
       "\n",
       "    .dataframe tbody tr th {\n",
       "        vertical-align: top;\n",
       "    }\n",
       "\n",
       "    .dataframe thead th {\n",
       "        text-align: right;\n",
       "    }\n",
       "</style>\n",
       "<table border=\"1\" class=\"dataframe\">\n",
       "  <thead>\n",
       "    <tr style=\"text-align: right;\">\n",
       "      <th></th>\n",
       "      <th>On_Demand_Deposit</th>\n",
       "      <th>Deposit</th>\n",
       "      <th>Credit_Card</th>\n",
       "      <th>Investment</th>\n",
       "      <th>Mortgage</th>\n",
       "      <th>Current</th>\n",
       "      <th>Joint</th>\n",
       "      <th>Loan</th>\n",
       "    </tr>\n",
       "  </thead>\n",
       "  <tbody>\n",
       "  </tbody>\n",
       "</table>\n",
       "</div>"
      ],
      "text/plain": [
       "Empty DataFrame\n",
       "Columns: [On_Demand_Deposit, Deposit, Credit_Card, Investment, Mortgage, Current, Joint, Loan]\n",
       "Index: []"
      ]
     },
     "execution_count": 7,
     "metadata": {},
     "output_type": "execute_result"
    }
   ],
   "source": [
    "df_accounts2 = pd.DataFrame(columns ={'Investment', 'Current', 'Credit_Card', 'On_Demand_Deposit','Mortgage', 'Joint', 'Deposit', 'Loan'})\n",
    "df_accounts2"
   ]
  },
  {
   "cell_type": "code",
   "execution_count": 8,
   "id": "394ad956-3b71-4efb-a50c-84fdd4cec160",
   "metadata": {},
   "outputs": [
    {
     "data": {
      "text/html": [
       "<div>\n",
       "<style scoped>\n",
       "    .dataframe tbody tr th:only-of-type {\n",
       "        vertical-align: middle;\n",
       "    }\n",
       "\n",
       "    .dataframe tbody tr th {\n",
       "        vertical-align: top;\n",
       "    }\n",
       "\n",
       "    .dataframe thead th {\n",
       "        text-align: right;\n",
       "    }\n",
       "</style>\n",
       "<table border=\"1\" class=\"dataframe\">\n",
       "  <thead>\n",
       "    <tr style=\"text-align: right;\">\n",
       "      <th></th>\n",
       "      <th>Customer</th>\n",
       "      <th>Account</th>\n",
       "      <th>On_Demand_Deposit</th>\n",
       "      <th>Deposit</th>\n",
       "      <th>Credit_Card</th>\n",
       "      <th>Investment</th>\n",
       "      <th>Mortgage</th>\n",
       "      <th>Current</th>\n",
       "      <th>Joint</th>\n",
       "      <th>Loan</th>\n",
       "    </tr>\n",
       "  </thead>\n",
       "  <tbody>\n",
       "    <tr>\n",
       "      <th>0</th>\n",
       "      <td>828247016.0</td>\n",
       "      <td>Investment</td>\n",
       "      <td>NaN</td>\n",
       "      <td>NaN</td>\n",
       "      <td>NaN</td>\n",
       "      <td>NaN</td>\n",
       "      <td>NaN</td>\n",
       "      <td>NaN</td>\n",
       "      <td>NaN</td>\n",
       "      <td>NaN</td>\n",
       "    </tr>\n",
       "    <tr>\n",
       "      <th>1</th>\n",
       "      <td>828247016.0</td>\n",
       "      <td>Current</td>\n",
       "      <td>NaN</td>\n",
       "      <td>NaN</td>\n",
       "      <td>NaN</td>\n",
       "      <td>NaN</td>\n",
       "      <td>NaN</td>\n",
       "      <td>NaN</td>\n",
       "      <td>NaN</td>\n",
       "      <td>NaN</td>\n",
       "    </tr>\n",
       "    <tr>\n",
       "      <th>2</th>\n",
       "      <td>828247016.0</td>\n",
       "      <td>Credit Card</td>\n",
       "      <td>NaN</td>\n",
       "      <td>NaN</td>\n",
       "      <td>NaN</td>\n",
       "      <td>NaN</td>\n",
       "      <td>NaN</td>\n",
       "      <td>NaN</td>\n",
       "      <td>NaN</td>\n",
       "      <td>NaN</td>\n",
       "    </tr>\n",
       "    <tr>\n",
       "      <th>3</th>\n",
       "      <td>828247016.0</td>\n",
       "      <td>On Demand Deposit</td>\n",
       "      <td>NaN</td>\n",
       "      <td>NaN</td>\n",
       "      <td>NaN</td>\n",
       "      <td>NaN</td>\n",
       "      <td>NaN</td>\n",
       "      <td>NaN</td>\n",
       "      <td>NaN</td>\n",
       "      <td>NaN</td>\n",
       "    </tr>\n",
       "    <tr>\n",
       "      <th>4</th>\n",
       "      <td>828247016.0</td>\n",
       "      <td>Mortgage</td>\n",
       "      <td>NaN</td>\n",
       "      <td>NaN</td>\n",
       "      <td>NaN</td>\n",
       "      <td>NaN</td>\n",
       "      <td>NaN</td>\n",
       "      <td>NaN</td>\n",
       "      <td>NaN</td>\n",
       "      <td>NaN</td>\n",
       "    </tr>\n",
       "    <tr>\n",
       "      <th>...</th>\n",
       "      <td>...</td>\n",
       "      <td>...</td>\n",
       "      <td>...</td>\n",
       "      <td>...</td>\n",
       "      <td>...</td>\n",
       "      <td>...</td>\n",
       "      <td>...</td>\n",
       "      <td>...</td>\n",
       "      <td>...</td>\n",
       "      <td>...</td>\n",
       "    </tr>\n",
       "    <tr>\n",
       "      <th>25007</th>\n",
       "      <td>812694049.0</td>\n",
       "      <td>Deposit</td>\n",
       "      <td>NaN</td>\n",
       "      <td>NaN</td>\n",
       "      <td>NaN</td>\n",
       "      <td>NaN</td>\n",
       "      <td>NaN</td>\n",
       "      <td>NaN</td>\n",
       "      <td>NaN</td>\n",
       "      <td>NaN</td>\n",
       "    </tr>\n",
       "    <tr>\n",
       "      <th>25008</th>\n",
       "      <td>812694049.0</td>\n",
       "      <td>Mortgage</td>\n",
       "      <td>NaN</td>\n",
       "      <td>NaN</td>\n",
       "      <td>NaN</td>\n",
       "      <td>NaN</td>\n",
       "      <td>NaN</td>\n",
       "      <td>NaN</td>\n",
       "      <td>NaN</td>\n",
       "      <td>NaN</td>\n",
       "    </tr>\n",
       "    <tr>\n",
       "      <th>25009</th>\n",
       "      <td>812694049.0</td>\n",
       "      <td>Credit Card</td>\n",
       "      <td>NaN</td>\n",
       "      <td>NaN</td>\n",
       "      <td>NaN</td>\n",
       "      <td>NaN</td>\n",
       "      <td>NaN</td>\n",
       "      <td>NaN</td>\n",
       "      <td>NaN</td>\n",
       "      <td>NaN</td>\n",
       "    </tr>\n",
       "    <tr>\n",
       "      <th>25010</th>\n",
       "      <td>812694049.0</td>\n",
       "      <td>Investment</td>\n",
       "      <td>NaN</td>\n",
       "      <td>NaN</td>\n",
       "      <td>NaN</td>\n",
       "      <td>NaN</td>\n",
       "      <td>NaN</td>\n",
       "      <td>NaN</td>\n",
       "      <td>NaN</td>\n",
       "      <td>NaN</td>\n",
       "    </tr>\n",
       "    <tr>\n",
       "      <th>25011</th>\n",
       "      <td>812694049.0</td>\n",
       "      <td>Joint</td>\n",
       "      <td>NaN</td>\n",
       "      <td>NaN</td>\n",
       "      <td>NaN</td>\n",
       "      <td>NaN</td>\n",
       "      <td>NaN</td>\n",
       "      <td>NaN</td>\n",
       "      <td>NaN</td>\n",
       "      <td>NaN</td>\n",
       "    </tr>\n",
       "  </tbody>\n",
       "</table>\n",
       "<p>25012 rows × 10 columns</p>\n",
       "</div>"
      ],
      "text/plain": [
       "          Customer            Account On_Demand_Deposit Deposit Credit_Card  \\\n",
       "0      828247016.0         Investment               NaN     NaN         NaN   \n",
       "1      828247016.0            Current               NaN     NaN         NaN   \n",
       "2      828247016.0        Credit Card               NaN     NaN         NaN   \n",
       "3      828247016.0  On Demand Deposit               NaN     NaN         NaN   \n",
       "4      828247016.0           Mortgage               NaN     NaN         NaN   \n",
       "...            ...                ...               ...     ...         ...   \n",
       "25007  812694049.0            Deposit               NaN     NaN         NaN   \n",
       "25008  812694049.0           Mortgage               NaN     NaN         NaN   \n",
       "25009  812694049.0        Credit Card               NaN     NaN         NaN   \n",
       "25010  812694049.0         Investment               NaN     NaN         NaN   \n",
       "25011  812694049.0              Joint               NaN     NaN         NaN   \n",
       "\n",
       "      Investment Mortgage Current Joint Loan  \n",
       "0            NaN      NaN     NaN   NaN  NaN  \n",
       "1            NaN      NaN     NaN   NaN  NaN  \n",
       "2            NaN      NaN     NaN   NaN  NaN  \n",
       "3            NaN      NaN     NaN   NaN  NaN  \n",
       "4            NaN      NaN     NaN   NaN  NaN  \n",
       "...          ...      ...     ...   ...  ...  \n",
       "25007        NaN      NaN     NaN   NaN  NaN  \n",
       "25008        NaN      NaN     NaN   NaN  NaN  \n",
       "25009        NaN      NaN     NaN   NaN  NaN  \n",
       "25010        NaN      NaN     NaN   NaN  NaN  \n",
       "25011        NaN      NaN     NaN   NaN  NaN  \n",
       "\n",
       "[25012 rows x 10 columns]"
      ]
     },
     "execution_count": 8,
     "metadata": {},
     "output_type": "execute_result"
    }
   ],
   "source": [
    "frames = [df_accounts,df_accounts2]\n",
    "df_accounts3 = pd.concat(frames)\n",
    "df_accounts3"
   ]
  },
  {
   "cell_type": "code",
   "execution_count": 9,
   "id": "90e4b372-cbcc-4aca-bdae-b0bb74a14887",
   "metadata": {},
   "outputs": [
    {
     "name": "stdout",
     "output_type": "stream",
     "text": [
      "<class 'pandas.core.frame.DataFrame'>\n",
      "Int64Index: 25012 entries, 0 to 25011\n",
      "Data columns (total 10 columns):\n",
      " #   Column             Non-Null Count  Dtype  \n",
      "---  ------             --------------  -----  \n",
      " 0   Customer           25012 non-null  float64\n",
      " 1   Account            25012 non-null  object \n",
      " 2   On_Demand_Deposit  0 non-null      object \n",
      " 3   Deposit            0 non-null      object \n",
      " 4   Credit_Card        0 non-null      object \n",
      " 5   Investment         0 non-null      object \n",
      " 6   Mortgage           0 non-null      object \n",
      " 7   Current            0 non-null      object \n",
      " 8   Joint              0 non-null      object \n",
      " 9   Loan               0 non-null      object \n",
      "dtypes: float64(1), object(9)\n",
      "memory usage: 2.1+ MB\n"
     ]
    }
   ],
   "source": [
    "df_accounts3.info()"
   ]
  },
  {
   "cell_type": "code",
   "execution_count": null,
   "id": "e7384ef9-12d6-4c73-ae8d-f3b067cb3406",
   "metadata": {},
   "outputs": [],
   "source": []
  },
  {
   "cell_type": "code",
   "execution_count": 10,
   "id": "baa33134-61e8-484f-9b46-5fb9b4f3a6db",
   "metadata": {},
   "outputs": [
    {
     "name": "stderr",
     "output_type": "stream",
     "text": [
      "C:\\Users\\mccab\\AppData\\Local\\Temp\\ipykernel_21520\\2919217629.py:1: SettingWithCopyWarning: \n",
      "A value is trying to be set on a copy of a slice from a DataFrame\n",
      "\n",
      "See the caveats in the documentation: https://pandas.pydata.org/pandas-docs/stable/user_guide/indexing.html#returning-a-view-versus-a-copy\n",
      "  df_accounts3['On_Demand_Deposit'].loc[df_accounts3['Account']=='On Demand Deposit'] = 1\n",
      "C:\\Users\\mccab\\AppData\\Local\\Temp\\ipykernel_21520\\2919217629.py:2: SettingWithCopyWarning: \n",
      "A value is trying to be set on a copy of a slice from a DataFrame\n",
      "\n",
      "See the caveats in the documentation: https://pandas.pydata.org/pandas-docs/stable/user_guide/indexing.html#returning-a-view-versus-a-copy\n",
      "  df_accounts3['Credit_Card'].loc[df_accounts3['Account']=='Credit Card'] = 1\n",
      "C:\\Users\\mccab\\AppData\\Local\\Temp\\ipykernel_21520\\2919217629.py:3: SettingWithCopyWarning: \n",
      "A value is trying to be set on a copy of a slice from a DataFrame\n",
      "\n",
      "See the caveats in the documentation: https://pandas.pydata.org/pandas-docs/stable/user_guide/indexing.html#returning-a-view-versus-a-copy\n",
      "  df_accounts3['Loan'].loc[df_accounts3['Account']=='Loan'] = 1\n",
      "C:\\Users\\mccab\\AppData\\Local\\Temp\\ipykernel_21520\\2919217629.py:4: SettingWithCopyWarning: \n",
      "A value is trying to be set on a copy of a slice from a DataFrame\n",
      "\n",
      "See the caveats in the documentation: https://pandas.pydata.org/pandas-docs/stable/user_guide/indexing.html#returning-a-view-versus-a-copy\n",
      "  df_accounts3['Joint'].loc[df_accounts3['Account']=='Joint'] = 1\n",
      "C:\\Users\\mccab\\AppData\\Local\\Temp\\ipykernel_21520\\2919217629.py:5: SettingWithCopyWarning: \n",
      "A value is trying to be set on a copy of a slice from a DataFrame\n",
      "\n",
      "See the caveats in the documentation: https://pandas.pydata.org/pandas-docs/stable/user_guide/indexing.html#returning-a-view-versus-a-copy\n",
      "  df_accounts3['Deposit'].loc[df_accounts3['Account']=='Deposit'] = 1\n",
      "C:\\Users\\mccab\\AppData\\Local\\Temp\\ipykernel_21520\\2919217629.py:6: SettingWithCopyWarning: \n",
      "A value is trying to be set on a copy of a slice from a DataFrame\n",
      "\n",
      "See the caveats in the documentation: https://pandas.pydata.org/pandas-docs/stable/user_guide/indexing.html#returning-a-view-versus-a-copy\n",
      "  df_accounts3['Mortgage'].loc[df_accounts3['Account']=='Mortgage'] = 1\n",
      "C:\\Users\\mccab\\AppData\\Local\\Temp\\ipykernel_21520\\2919217629.py:7: SettingWithCopyWarning: \n",
      "A value is trying to be set on a copy of a slice from a DataFrame\n",
      "\n",
      "See the caveats in the documentation: https://pandas.pydata.org/pandas-docs/stable/user_guide/indexing.html#returning-a-view-versus-a-copy\n",
      "  df_accounts3['Current'].loc[df_accounts3['Account']=='Current'] = 1\n",
      "C:\\Users\\mccab\\AppData\\Local\\Temp\\ipykernel_21520\\2919217629.py:8: SettingWithCopyWarning: \n",
      "A value is trying to be set on a copy of a slice from a DataFrame\n",
      "\n",
      "See the caveats in the documentation: https://pandas.pydata.org/pandas-docs/stable/user_guide/indexing.html#returning-a-view-versus-a-copy\n",
      "  df_accounts3['Investment'].loc[df_accounts3['Account']=='Investment'] = 1\n"
     ]
    }
   ],
   "source": [
    "df_accounts3['On_Demand_Deposit'].loc[df_accounts3['Account']=='On Demand Deposit'] = 1\n",
    "df_accounts3['Credit_Card'].loc[df_accounts3['Account']=='Credit Card'] = 1\n",
    "df_accounts3['Loan'].loc[df_accounts3['Account']=='Loan'] = 1\n",
    "df_accounts3['Joint'].loc[df_accounts3['Account']=='Joint'] = 1\n",
    "df_accounts3['Deposit'].loc[df_accounts3['Account']=='Deposit'] = 1\n",
    "df_accounts3['Mortgage'].loc[df_accounts3['Account']=='Mortgage'] = 1\n",
    "df_accounts3['Current'].loc[df_accounts3['Account']=='Current'] = 1\n",
    "df_accounts3['Investment'].loc[df_accounts3['Account']=='Investment'] = 1\n",
    "\n",
    "\n",
    "\n",
    "df_accounts3=df_accounts3.fillna(0)"
   ]
  },
  {
   "cell_type": "code",
   "execution_count": 11,
   "id": "1f4b0f78-1976-489f-9b43-435ca88f8847",
   "metadata": {},
   "outputs": [],
   "source": [
    "df_accounts3 = df_accounts3.drop_duplicates()"
   ]
  },
  {
   "cell_type": "code",
   "execution_count": 12,
   "id": "3d9835a2-e4a7-416b-b6dc-3beb8eeea7d4",
   "metadata": {},
   "outputs": [],
   "source": [
    "df_accounts3 = df_accounts3.drop(columns='Account')\n"
   ]
  },
  {
   "cell_type": "code",
   "execution_count": 13,
   "id": "f0df7dfe-23b1-4134-ad28-ac32cf647422",
   "metadata": {},
   "outputs": [],
   "source": [
    "df_accounts3 =df_accounts3.groupby(['Customer']).sum().reset_index()"
   ]
  },
  {
   "cell_type": "code",
   "execution_count": 14,
   "id": "819ada53-5cd1-4156-b9f9-a0c9a3983a80",
   "metadata": {},
   "outputs": [
    {
     "data": {
      "text/html": [
       "<div>\n",
       "<style scoped>\n",
       "    .dataframe tbody tr th:only-of-type {\n",
       "        vertical-align: middle;\n",
       "    }\n",
       "\n",
       "    .dataframe tbody tr th {\n",
       "        vertical-align: top;\n",
       "    }\n",
       "\n",
       "    .dataframe thead th {\n",
       "        text-align: right;\n",
       "    }\n",
       "</style>\n",
       "<table border=\"1\" class=\"dataframe\">\n",
       "  <thead>\n",
       "    <tr style=\"text-align: right;\">\n",
       "      <th></th>\n",
       "      <th>Customer</th>\n",
       "      <th>On_Demand_Deposit</th>\n",
       "      <th>Deposit</th>\n",
       "      <th>Credit_Card</th>\n",
       "      <th>Investment</th>\n",
       "      <th>Mortgage</th>\n",
       "      <th>Current</th>\n",
       "      <th>Joint</th>\n",
       "      <th>Loan</th>\n",
       "    </tr>\n",
       "  </thead>\n",
       "  <tbody>\n",
       "    <tr>\n",
       "      <th>0</th>\n",
       "      <td>708115009.0</td>\n",
       "      <td>0</td>\n",
       "      <td>0</td>\n",
       "      <td>1</td>\n",
       "      <td>0</td>\n",
       "      <td>0</td>\n",
       "      <td>0</td>\n",
       "      <td>0</td>\n",
       "      <td>0</td>\n",
       "    </tr>\n",
       "    <tr>\n",
       "      <th>1</th>\n",
       "      <td>708117651.0</td>\n",
       "      <td>0</td>\n",
       "      <td>0</td>\n",
       "      <td>1</td>\n",
       "      <td>0</td>\n",
       "      <td>0</td>\n",
       "      <td>1</td>\n",
       "      <td>0</td>\n",
       "      <td>0</td>\n",
       "    </tr>\n",
       "    <tr>\n",
       "      <th>2</th>\n",
       "      <td>708163600.0</td>\n",
       "      <td>1</td>\n",
       "      <td>0</td>\n",
       "      <td>1</td>\n",
       "      <td>0</td>\n",
       "      <td>0</td>\n",
       "      <td>1</td>\n",
       "      <td>0</td>\n",
       "      <td>0</td>\n",
       "    </tr>\n",
       "    <tr>\n",
       "      <th>3</th>\n",
       "      <td>708166361.0</td>\n",
       "      <td>0</td>\n",
       "      <td>1</td>\n",
       "      <td>1</td>\n",
       "      <td>0</td>\n",
       "      <td>1</td>\n",
       "      <td>1</td>\n",
       "      <td>0</td>\n",
       "      <td>0</td>\n",
       "    </tr>\n",
       "    <tr>\n",
       "      <th>4</th>\n",
       "      <td>708169780.0</td>\n",
       "      <td>0</td>\n",
       "      <td>0</td>\n",
       "      <td>1</td>\n",
       "      <td>0</td>\n",
       "      <td>0</td>\n",
       "      <td>1</td>\n",
       "      <td>0</td>\n",
       "      <td>0</td>\n",
       "    </tr>\n",
       "    <tr>\n",
       "      <th>...</th>\n",
       "      <td>...</td>\n",
       "      <td>...</td>\n",
       "      <td>...</td>\n",
       "      <td>...</td>\n",
       "      <td>...</td>\n",
       "      <td>...</td>\n",
       "      <td>...</td>\n",
       "      <td>...</td>\n",
       "      <td>...</td>\n",
       "    </tr>\n",
       "    <tr>\n",
       "      <th>6572</th>\n",
       "      <td>828277434.0</td>\n",
       "      <td>0</td>\n",
       "      <td>1</td>\n",
       "      <td>1</td>\n",
       "      <td>0</td>\n",
       "      <td>0</td>\n",
       "      <td>1</td>\n",
       "      <td>0</td>\n",
       "      <td>0</td>\n",
       "    </tr>\n",
       "    <tr>\n",
       "      <th>6573</th>\n",
       "      <td>828283866.0</td>\n",
       "      <td>1</td>\n",
       "      <td>1</td>\n",
       "      <td>1</td>\n",
       "      <td>0</td>\n",
       "      <td>0</td>\n",
       "      <td>0</td>\n",
       "      <td>0</td>\n",
       "      <td>0</td>\n",
       "    </tr>\n",
       "    <tr>\n",
       "      <th>6574</th>\n",
       "      <td>828288658.0</td>\n",
       "      <td>1</td>\n",
       "      <td>0</td>\n",
       "      <td>1</td>\n",
       "      <td>1</td>\n",
       "      <td>1</td>\n",
       "      <td>1</td>\n",
       "      <td>0</td>\n",
       "      <td>1</td>\n",
       "    </tr>\n",
       "    <tr>\n",
       "      <th>6575</th>\n",
       "      <td>828290781.0</td>\n",
       "      <td>0</td>\n",
       "      <td>0</td>\n",
       "      <td>1</td>\n",
       "      <td>0</td>\n",
       "      <td>0</td>\n",
       "      <td>1</td>\n",
       "      <td>0</td>\n",
       "      <td>0</td>\n",
       "    </tr>\n",
       "    <tr>\n",
       "      <th>6576</th>\n",
       "      <td>828317722.0</td>\n",
       "      <td>0</td>\n",
       "      <td>0</td>\n",
       "      <td>1</td>\n",
       "      <td>0</td>\n",
       "      <td>0</td>\n",
       "      <td>0</td>\n",
       "      <td>0</td>\n",
       "      <td>0</td>\n",
       "    </tr>\n",
       "  </tbody>\n",
       "</table>\n",
       "<p>6577 rows × 9 columns</p>\n",
       "</div>"
      ],
      "text/plain": [
       "         Customer  On_Demand_Deposit  Deposit  Credit_Card  Investment  \\\n",
       "0     708115009.0                  0        0            1           0   \n",
       "1     708117651.0                  0        0            1           0   \n",
       "2     708163600.0                  1        0            1           0   \n",
       "3     708166361.0                  0        1            1           0   \n",
       "4     708169780.0                  0        0            1           0   \n",
       "...           ...                ...      ...          ...         ...   \n",
       "6572  828277434.0                  0        1            1           0   \n",
       "6573  828283866.0                  1        1            1           0   \n",
       "6574  828288658.0                  1        0            1           1   \n",
       "6575  828290781.0                  0        0            1           0   \n",
       "6576  828317722.0                  0        0            1           0   \n",
       "\n",
       "      Mortgage  Current  Joint  Loan  \n",
       "0            0        0      0     0  \n",
       "1            0        1      0     0  \n",
       "2            0        1      0     0  \n",
       "3            1        1      0     0  \n",
       "4            0        1      0     0  \n",
       "...        ...      ...    ...   ...  \n",
       "6572         0        1      0     0  \n",
       "6573         0        0      0     0  \n",
       "6574         1        1      0     1  \n",
       "6575         0        1      0     0  \n",
       "6576         0        0      0     0  \n",
       "\n",
       "[6577 rows x 9 columns]"
      ]
     },
     "execution_count": 14,
     "metadata": {},
     "output_type": "execute_result"
    }
   ],
   "source": [
    "df_accounts3"
   ]
  },
  {
   "cell_type": "code",
   "execution_count": 15,
   "id": "4b014cd6-524b-41f5-b6db-5d9ed608e8f2",
   "metadata": {},
   "outputs": [
    {
     "data": {
      "text/plain": [
       "0       708115009\n",
       "1       708117651\n",
       "2       708163600\n",
       "3       708166361\n",
       "4       708169780\n",
       "          ...    \n",
       "6572    828277434\n",
       "6573    828283866\n",
       "6574    828288658\n",
       "6575    828290781\n",
       "6576    828317722\n",
       "Name: Customer, Length: 6577, dtype: int32"
      ]
     },
     "execution_count": 15,
     "metadata": {},
     "output_type": "execute_result"
    }
   ],
   "source": [
    "df_accounts3.Customer.astype(int)"
   ]
  },
  {
   "cell_type": "code",
   "execution_count": 16,
   "id": "8d6f2396-b25e-419f-9081-a76c2a0dd1dc",
   "metadata": {},
   "outputs": [
    {
     "name": "stdout",
     "output_type": "stream",
     "text": [
      "<class 'pandas.core.frame.DataFrame'>\n",
      "RangeIndex: 25012 entries, 0 to 25011\n",
      "Data columns (total 2 columns):\n",
      " #   Column    Non-Null Count  Dtype \n",
      "---  ------    --------------  ----- \n",
      " 0   Customer  25012 non-null  int64 \n",
      " 1   Account   25012 non-null  object\n",
      "dtypes: int64(1), object(1)\n",
      "memory usage: 390.9+ KB\n"
     ]
    }
   ],
   "source": [
    "df_accounts.info()"
   ]
  },
  {
   "cell_type": "code",
   "execution_count": 17,
   "id": "604da7de-7cc9-4005-b3c2-be630c91e675",
   "metadata": {},
   "outputs": [
    {
     "name": "stdout",
     "output_type": "stream",
     "text": [
      "(6577, 15)\n"
     ]
    },
    {
     "data": {
      "text/html": [
       "<div>\n",
       "<style scoped>\n",
       "    .dataframe tbody tr th:only-of-type {\n",
       "        vertical-align: middle;\n",
       "    }\n",
       "\n",
       "    .dataframe tbody tr th {\n",
       "        vertical-align: top;\n",
       "    }\n",
       "\n",
       "    .dataframe thead th {\n",
       "        text-align: right;\n",
       "    }\n",
       "</style>\n",
       "<table border=\"1\" class=\"dataframe\">\n",
       "  <thead>\n",
       "    <tr style=\"text-align: right;\">\n",
       "      <th></th>\n",
       "      <th>Customer</th>\n",
       "      <th>Churn</th>\n",
       "      <th>Card</th>\n",
       "      <th>Start_Date</th>\n",
       "      <th>Customer_Service_Calls</th>\n",
       "      <th>Credit_Limit</th>\n",
       "      <th>Total_Revolving_Balance</th>\n",
       "      <th>Average_Open_To_Buy</th>\n",
       "      <th>Average_Utilisation_Ratio</th>\n",
       "      <th>Age</th>\n",
       "      <th>Gender</th>\n",
       "      <th>Education</th>\n",
       "      <th>Marital_Status</th>\n",
       "      <th>Dependents</th>\n",
       "      <th>Income</th>\n",
       "    </tr>\n",
       "  </thead>\n",
       "  <tbody>\n",
       "    <tr>\n",
       "      <th>0</th>\n",
       "      <td>797197508</td>\n",
       "      <td>No</td>\n",
       "      <td>Silver</td>\n",
       "      <td>2020-06-01</td>\n",
       "      <td>1</td>\n",
       "      <td>2315.0</td>\n",
       "      <td>1565</td>\n",
       "      <td>750.0</td>\n",
       "      <td>0.676</td>\n",
       "      <td>48.0</td>\n",
       "      <td>F</td>\n",
       "      <td>Graduate</td>\n",
       "      <td>Married</td>\n",
       "      <td>2</td>\n",
       "      <td>Less than €30K</td>\n",
       "    </tr>\n",
       "    <tr>\n",
       "      <th>1</th>\n",
       "      <td>812854728</td>\n",
       "      <td>No</td>\n",
       "      <td>Silver</td>\n",
       "      <td>2020-01-01</td>\n",
       "      <td>1</td>\n",
       "      <td>7645.0</td>\n",
       "      <td>2076</td>\n",
       "      <td>5569.0</td>\n",
       "      <td>0.272</td>\n",
       "      <td>58.0</td>\n",
       "      <td>F</td>\n",
       "      <td>Second level</td>\n",
       "      <td>Single</td>\n",
       "      <td>5</td>\n",
       "      <td>Less than €30K</td>\n",
       "    </tr>\n",
       "    <tr>\n",
       "      <th>2</th>\n",
       "      <td>768000743</td>\n",
       "      <td>No</td>\n",
       "      <td>Silver</td>\n",
       "      <td>2020-01-01</td>\n",
       "      <td>2</td>\n",
       "      <td>6394.0</td>\n",
       "      <td>0</td>\n",
       "      <td>6394.0</td>\n",
       "      <td>0.000</td>\n",
       "      <td>55.0</td>\n",
       "      <td>F</td>\n",
       "      <td>Second level</td>\n",
       "      <td>Single</td>\n",
       "      <td>2</td>\n",
       "      <td>Less than €30K</td>\n",
       "    </tr>\n",
       "    <tr>\n",
       "      <th>3</th>\n",
       "      <td>722161439</td>\n",
       "      <td>No</td>\n",
       "      <td>Silver</td>\n",
       "      <td>2020-08-01</td>\n",
       "      <td>3</td>\n",
       "      <td>4663.0</td>\n",
       "      <td>0</td>\n",
       "      <td>4663.0</td>\n",
       "      <td>0.000</td>\n",
       "      <td>41.0</td>\n",
       "      <td>F</td>\n",
       "      <td>Graduate</td>\n",
       "      <td>NaN</td>\n",
       "      <td>2</td>\n",
       "      <td>€30K - €50K</td>\n",
       "    </tr>\n",
       "    <tr>\n",
       "      <th>4</th>\n",
       "      <td>759029725</td>\n",
       "      <td>No</td>\n",
       "      <td>Silver</td>\n",
       "      <td>2021-02-01</td>\n",
       "      <td>4</td>\n",
       "      <td>1879.0</td>\n",
       "      <td>1486</td>\n",
       "      <td>393.0</td>\n",
       "      <td>0.791</td>\n",
       "      <td>37.0</td>\n",
       "      <td>F</td>\n",
       "      <td>Second level</td>\n",
       "      <td>Single</td>\n",
       "      <td>1</td>\n",
       "      <td>Less than €30K</td>\n",
       "    </tr>\n",
       "    <tr>\n",
       "      <th>5</th>\n",
       "      <td>764982590</td>\n",
       "      <td>No</td>\n",
       "      <td>Silver</td>\n",
       "      <td>2018-10-01</td>\n",
       "      <td>4</td>\n",
       "      <td>6036.0</td>\n",
       "      <td>1409</td>\n",
       "      <td>4627.0</td>\n",
       "      <td>0.233</td>\n",
       "      <td>56.0</td>\n",
       "      <td>M</td>\n",
       "      <td>PhD</td>\n",
       "      <td>Married</td>\n",
       "      <td>2</td>\n",
       "      <td>€50K - €80K</td>\n",
       "    </tr>\n",
       "    <tr>\n",
       "      <th>6</th>\n",
       "      <td>726241334</td>\n",
       "      <td>No</td>\n",
       "      <td>Platinum</td>\n",
       "      <td>2019-02-01</td>\n",
       "      <td>1</td>\n",
       "      <td>34516.0</td>\n",
       "      <td>1464</td>\n",
       "      <td>33052.0</td>\n",
       "      <td>0.042</td>\n",
       "      <td>52.0</td>\n",
       "      <td>M</td>\n",
       "      <td>Post LC</td>\n",
       "      <td>Married</td>\n",
       "      <td>0</td>\n",
       "      <td>€100K +</td>\n",
       "    </tr>\n",
       "    <tr>\n",
       "      <th>7</th>\n",
       "      <td>816118170</td>\n",
       "      <td>Yes</td>\n",
       "      <td>Silver</td>\n",
       "      <td>2020-01-01</td>\n",
       "      <td>2</td>\n",
       "      <td>1819.0</td>\n",
       "      <td>725</td>\n",
       "      <td>1094.0</td>\n",
       "      <td>0.399</td>\n",
       "      <td>NaN</td>\n",
       "      <td>M</td>\n",
       "      <td>Graduate</td>\n",
       "      <td>Single</td>\n",
       "      <td>1</td>\n",
       "      <td>€50K - €80K</td>\n",
       "    </tr>\n",
       "    <tr>\n",
       "      <th>8</th>\n",
       "      <td>794814582</td>\n",
       "      <td>No</td>\n",
       "      <td>Silver</td>\n",
       "      <td>2021-04-01</td>\n",
       "      <td>2</td>\n",
       "      <td>2591.0</td>\n",
       "      <td>2340</td>\n",
       "      <td>251.0</td>\n",
       "      <td>0.903</td>\n",
       "      <td>33.0</td>\n",
       "      <td>F</td>\n",
       "      <td>Graduate</td>\n",
       "      <td>Married</td>\n",
       "      <td>1</td>\n",
       "      <td>Less than €30K</td>\n",
       "    </tr>\n",
       "    <tr>\n",
       "      <th>9</th>\n",
       "      <td>782671532</td>\n",
       "      <td>No</td>\n",
       "      <td>Silver</td>\n",
       "      <td>2019-02-01</td>\n",
       "      <td>3</td>\n",
       "      <td>1438.3</td>\n",
       "      <td>0</td>\n",
       "      <td>1438.3</td>\n",
       "      <td>0.000</td>\n",
       "      <td>61.0</td>\n",
       "      <td>F</td>\n",
       "      <td>Unknown</td>\n",
       "      <td>Married</td>\n",
       "      <td>1</td>\n",
       "      <td>Unknown</td>\n",
       "    </tr>\n",
       "  </tbody>\n",
       "</table>\n",
       "</div>"
      ],
      "text/plain": [
       "    Customer Churn      Card  Start_Date  Customer_Service_Calls  \\\n",
       "0  797197508    No    Silver  2020-06-01                       1   \n",
       "1  812854728    No    Silver  2020-01-01                       1   \n",
       "2  768000743    No    Silver  2020-01-01                       2   \n",
       "3  722161439    No    Silver  2020-08-01                       3   \n",
       "4  759029725    No    Silver  2021-02-01                       4   \n",
       "5  764982590    No    Silver  2018-10-01                       4   \n",
       "6  726241334    No  Platinum  2019-02-01                       1   \n",
       "7  816118170   Yes    Silver  2020-01-01                       2   \n",
       "8  794814582    No    Silver  2021-04-01                       2   \n",
       "9  782671532    No    Silver  2019-02-01                       3   \n",
       "\n",
       "   Credit_Limit  Total_Revolving_Balance  Average_Open_To_Buy  \\\n",
       "0        2315.0                     1565                750.0   \n",
       "1        7645.0                     2076               5569.0   \n",
       "2        6394.0                        0               6394.0   \n",
       "3        4663.0                        0               4663.0   \n",
       "4        1879.0                     1486                393.0   \n",
       "5        6036.0                     1409               4627.0   \n",
       "6       34516.0                     1464              33052.0   \n",
       "7        1819.0                      725               1094.0   \n",
       "8        2591.0                     2340                251.0   \n",
       "9        1438.3                        0               1438.3   \n",
       "\n",
       "   Average_Utilisation_Ratio   Age Gender     Education Marital_Status  \\\n",
       "0                      0.676  48.0      F      Graduate        Married   \n",
       "1                      0.272  58.0      F  Second level         Single   \n",
       "2                      0.000  55.0      F  Second level         Single   \n",
       "3                      0.000  41.0      F      Graduate            NaN   \n",
       "4                      0.791  37.0      F  Second level         Single   \n",
       "5                      0.233  56.0      M           PhD        Married   \n",
       "6                      0.042  52.0      M       Post LC        Married   \n",
       "7                      0.399   NaN      M      Graduate         Single   \n",
       "8                      0.903  33.0      F      Graduate        Married   \n",
       "9                      0.000  61.0      F       Unknown        Married   \n",
       "\n",
       "   Dependents          Income  \n",
       "0           2  Less than €30K  \n",
       "1           5  Less than €30K  \n",
       "2           2  Less than €30K  \n",
       "3           2     €30K - €50K  \n",
       "4           1  Less than €30K  \n",
       "5           2     €50K - €80K  \n",
       "6           0         €100K +  \n",
       "7           1     €50K - €80K  \n",
       "8           1  Less than €30K  \n",
       "9           1         Unknown  "
      ]
     },
     "execution_count": 17,
     "metadata": {},
     "output_type": "execute_result"
    }
   ],
   "source": [
    "df_customers = pd.read_csv(\"orig/customers_train.csv\")\n",
    "print(df_customers.shape)\n",
    "df_customers.head(10)"
   ]
  },
  {
   "cell_type": "code",
   "execution_count": 18,
   "id": "fe071105-d7ea-4d7e-84ea-281810ee068e",
   "metadata": {},
   "outputs": [
    {
     "name": "stdout",
     "output_type": "stream",
     "text": [
      "<class 'pandas.core.frame.DataFrame'>\n",
      "RangeIndex: 6577 entries, 0 to 6576\n",
      "Data columns (total 15 columns):\n",
      " #   Column                     Non-Null Count  Dtype  \n",
      "---  ------                     --------------  -----  \n",
      " 0   Customer                   6577 non-null   int64  \n",
      " 1   Churn                      6556 non-null   object \n",
      " 2   Card                       6577 non-null   object \n",
      " 3   Start_Date                 6577 non-null   object \n",
      " 4   Customer_Service_Calls     6577 non-null   int64  \n",
      " 5   Credit_Limit               6577 non-null   float64\n",
      " 6   Total_Revolving_Balance    6577 non-null   int64  \n",
      " 7   Average_Open_To_Buy        6577 non-null   float64\n",
      " 8   Average_Utilisation_Ratio  6577 non-null   float64\n",
      " 9   Age                        6312 non-null   float64\n",
      " 10  Gender                     6577 non-null   object \n",
      " 11  Education                  6577 non-null   object \n",
      " 12  Marital_Status             6102 non-null   object \n",
      " 13  Dependents                 6577 non-null   int64  \n",
      " 14  Income                     6577 non-null   object \n",
      "dtypes: float64(4), int64(4), object(7)\n",
      "memory usage: 770.9+ KB\n"
     ]
    }
   ],
   "source": [
    "df_customers.info()"
   ]
  },
  {
   "cell_type": "markdown",
   "id": "5fdd751a-45df-474e-916b-56983d50e1da",
   "metadata": {},
   "source": [
    "What % of customers churn?"
   ]
  },
  {
   "cell_type": "markdown",
   "id": "a1c666ba-ce86-4818-bcca-44c753209520",
   "metadata": {},
   "source": [
    "For unknown age set the age to the median and record where age was not set"
   ]
  },
  {
   "cell_type": "code",
   "execution_count": 19,
   "id": "b18df152-8f9e-4960-85c1-a482b8d8349f",
   "metadata": {},
   "outputs": [],
   "source": [
    "df_customers.insert(loc=10, column = 'Age_was_NA',value=0)"
   ]
  },
  {
   "cell_type": "code",
   "execution_count": 20,
   "id": "d8173793-59fe-476a-94b7-e9e3ba8ab516",
   "metadata": {},
   "outputs": [
    {
     "name": "stderr",
     "output_type": "stream",
     "text": [
      "C:\\Users\\mccab\\AppData\\Local\\Temp\\ipykernel_21520\\2165951604.py:1: SettingWithCopyWarning: \n",
      "A value is trying to be set on a copy of a slice from a DataFrame\n",
      "\n",
      "See the caveats in the documentation: https://pandas.pydata.org/pandas-docs/stable/user_guide/indexing.html#returning-a-view-versus-a-copy\n",
      "  df_customers['Age_was_NA'].loc[df_customers['Age'].isnull()] = 1\n"
     ]
    }
   ],
   "source": [
    "df_customers['Age_was_NA'].loc[df_customers['Age'].isnull()] = 1"
   ]
  },
  {
   "cell_type": "code",
   "execution_count": 21,
   "id": "f7c112df-4e9c-4ab0-afe3-c13d7284fb7e",
   "metadata": {},
   "outputs": [
    {
     "data": {
      "text/plain": [
       "48.0"
      ]
     },
     "execution_count": 21,
     "metadata": {},
     "output_type": "execute_result"
    }
   ],
   "source": [
    "median_age = df_customers.Age.median()\n",
    "median_age"
   ]
  },
  {
   "cell_type": "code",
   "execution_count": 22,
   "id": "11019a04-3cbe-4020-bc1b-40365c4d0464",
   "metadata": {},
   "outputs": [
    {
     "name": "stderr",
     "output_type": "stream",
     "text": [
      "C:\\Users\\mccab\\AppData\\Local\\Temp\\ipykernel_21520\\1104418757.py:1: SettingWithCopyWarning: \n",
      "A value is trying to be set on a copy of a slice from a DataFrame\n",
      "\n",
      "See the caveats in the documentation: https://pandas.pydata.org/pandas-docs/stable/user_guide/indexing.html#returning-a-view-versus-a-copy\n",
      "  df_customers['Age'].loc[df_customers['Age'].isnull()] = median_age\n"
     ]
    }
   ],
   "source": [
    "df_customers['Age'].loc[df_customers['Age'].isnull()] = median_age"
   ]
  },
  {
   "cell_type": "code",
   "execution_count": 23,
   "id": "35897a8e-69e9-4626-8c65-bc824f59db94",
   "metadata": {},
   "outputs": [
    {
     "name": "stdout",
     "output_type": "stream",
     "text": [
      "<class 'pandas.core.frame.DataFrame'>\n",
      "RangeIndex: 6577 entries, 0 to 6576\n",
      "Data columns (total 16 columns):\n",
      " #   Column                     Non-Null Count  Dtype  \n",
      "---  ------                     --------------  -----  \n",
      " 0   Customer                   6577 non-null   int64  \n",
      " 1   Churn                      6556 non-null   object \n",
      " 2   Card                       6577 non-null   object \n",
      " 3   Start_Date                 6577 non-null   object \n",
      " 4   Customer_Service_Calls     6577 non-null   int64  \n",
      " 5   Credit_Limit               6577 non-null   float64\n",
      " 6   Total_Revolving_Balance    6577 non-null   int64  \n",
      " 7   Average_Open_To_Buy        6577 non-null   float64\n",
      " 8   Average_Utilisation_Ratio  6577 non-null   float64\n",
      " 9   Age                        6577 non-null   float64\n",
      " 10  Age_was_NA                 6577 non-null   int64  \n",
      " 11  Gender                     6577 non-null   object \n",
      " 12  Education                  6577 non-null   object \n",
      " 13  Marital_Status             6102 non-null   object \n",
      " 14  Dependents                 6577 non-null   int64  \n",
      " 15  Income                     6577 non-null   object \n",
      "dtypes: float64(4), int64(5), object(7)\n",
      "memory usage: 822.2+ KB\n"
     ]
    }
   ],
   "source": [
    "df_customers.info()"
   ]
  },
  {
   "cell_type": "code",
   "execution_count": 24,
   "id": "07a7c817-9bc6-4ef3-8ec7-8b4ade9244c6",
   "metadata": {},
   "outputs": [
    {
     "data": {
      "text/plain": [
       "No     0.842282\n",
       "Yes    0.157718\n",
       "Name: Churn, dtype: float64"
      ]
     },
     "execution_count": 24,
     "metadata": {},
     "output_type": "execute_result"
    }
   ],
   "source": [
    "df_customers.Churn.value_counts(normalize=True)"
   ]
  },
  {
   "cell_type": "code",
   "execution_count": 25,
   "id": "04114a9b-b2ed-4352-a92c-95f9bce165c7",
   "metadata": {},
   "outputs": [
    {
     "name": "stdout",
     "output_type": "stream",
     "text": [
      "(514611, 3)\n"
     ]
    },
    {
     "data": {
      "text/html": [
       "<div>\n",
       "<style scoped>\n",
       "    .dataframe tbody tr th:only-of-type {\n",
       "        vertical-align: middle;\n",
       "    }\n",
       "\n",
       "    .dataframe tbody tr th {\n",
       "        vertical-align: top;\n",
       "    }\n",
       "\n",
       "    .dataframe thead th {\n",
       "        text-align: right;\n",
       "    }\n",
       "</style>\n",
       "<table border=\"1\" class=\"dataframe\">\n",
       "  <thead>\n",
       "    <tr style=\"text-align: right;\">\n",
       "      <th></th>\n",
       "      <th>Customer</th>\n",
       "      <th>Date</th>\n",
       "      <th>Amount</th>\n",
       "    </tr>\n",
       "  </thead>\n",
       "  <tbody>\n",
       "    <tr>\n",
       "      <th>0</th>\n",
       "      <td>828247016</td>\n",
       "      <td>2022-03-01</td>\n",
       "      <td>70.94</td>\n",
       "    </tr>\n",
       "    <tr>\n",
       "      <th>1</th>\n",
       "      <td>828247016</td>\n",
       "      <td>2022-02-21</td>\n",
       "      <td>52.16</td>\n",
       "    </tr>\n",
       "    <tr>\n",
       "      <th>2</th>\n",
       "      <td>828247016</td>\n",
       "      <td>2022-02-19</td>\n",
       "      <td>67.03</td>\n",
       "    </tr>\n",
       "    <tr>\n",
       "      <th>3</th>\n",
       "      <td>828247016</td>\n",
       "      <td>2022-02-19</td>\n",
       "      <td>48.24</td>\n",
       "    </tr>\n",
       "    <tr>\n",
       "      <th>4</th>\n",
       "      <td>828247016</td>\n",
       "      <td>2022-05-20</td>\n",
       "      <td>10.97</td>\n",
       "    </tr>\n",
       "  </tbody>\n",
       "</table>\n",
       "</div>"
      ],
      "text/plain": [
       "    Customer        Date  Amount\n",
       "0  828247016  2022-03-01   70.94\n",
       "1  828247016  2022-02-21   52.16\n",
       "2  828247016  2022-02-19   67.03\n",
       "3  828247016  2022-02-19   48.24\n",
       "4  828247016  2022-05-20   10.97"
      ]
     },
     "execution_count": 25,
     "metadata": {},
     "output_type": "execute_result"
    }
   ],
   "source": [
    "df_transactions = pd.read_csv(\"orig/transactions_train.csv\")\n",
    "print(df_transactions.shape)\n",
    "df_transactions.head(5)"
   ]
  },
  {
   "cell_type": "code",
   "execution_count": 26,
   "id": "9c97388d-27b4-4650-8ab1-c7c4812dccc2",
   "metadata": {},
   "outputs": [
    {
     "name": "stdout",
     "output_type": "stream",
     "text": [
      "<class 'pandas.core.frame.DataFrame'>\n",
      "RangeIndex: 514611 entries, 0 to 514610\n",
      "Data columns (total 3 columns):\n",
      " #   Column    Non-Null Count   Dtype  \n",
      "---  ------    --------------   -----  \n",
      " 0   Customer  514611 non-null  int64  \n",
      " 1   Date      514611 non-null  object \n",
      " 2   Amount    514611 non-null  float64\n",
      "dtypes: float64(1), int64(1), object(1)\n",
      "memory usage: 11.8+ MB\n"
     ]
    }
   ],
   "source": [
    "df_transactions.info()"
   ]
  },
  {
   "cell_type": "markdown",
   "id": "79b4d560-51e2-4f2d-9c34-cf04209266c1",
   "metadata": {},
   "source": [
    "### Aggregate the transaction per customer initially"
   ]
  },
  {
   "cell_type": "code",
   "execution_count": 27,
   "id": "8441793c-2764-414f-aedd-551b31e7127c",
   "metadata": {},
   "outputs": [
    {
     "data": {
      "text/html": [
       "<div>\n",
       "<style scoped>\n",
       "    .dataframe tbody tr th:only-of-type {\n",
       "        vertical-align: middle;\n",
       "    }\n",
       "\n",
       "    .dataframe tbody tr th {\n",
       "        vertical-align: top;\n",
       "    }\n",
       "\n",
       "    .dataframe thead th {\n",
       "        text-align: right;\n",
       "    }\n",
       "</style>\n",
       "<table border=\"1\" class=\"dataframe\">\n",
       "  <thead>\n",
       "    <tr style=\"text-align: right;\">\n",
       "      <th></th>\n",
       "      <th>Customer</th>\n",
       "      <th>Amount</th>\n",
       "    </tr>\n",
       "  </thead>\n",
       "  <tbody>\n",
       "    <tr>\n",
       "      <th>0</th>\n",
       "      <td>708115009</td>\n",
       "      <td>1886.99</td>\n",
       "    </tr>\n",
       "    <tr>\n",
       "      <th>1</th>\n",
       "      <td>708117651</td>\n",
       "      <td>7400.03</td>\n",
       "    </tr>\n",
       "    <tr>\n",
       "      <th>2</th>\n",
       "      <td>708163600</td>\n",
       "      <td>13299.99</td>\n",
       "    </tr>\n",
       "    <tr>\n",
       "      <th>3</th>\n",
       "      <td>708166361</td>\n",
       "      <td>4107.99</td>\n",
       "    </tr>\n",
       "    <tr>\n",
       "      <th>4</th>\n",
       "      <td>708169780</td>\n",
       "      <td>4539.95</td>\n",
       "    </tr>\n",
       "    <tr>\n",
       "      <th>...</th>\n",
       "      <td>...</td>\n",
       "      <td>...</td>\n",
       "    </tr>\n",
       "    <tr>\n",
       "      <th>7874</th>\n",
       "      <td>828277434</td>\n",
       "      <td>4079.99</td>\n",
       "    </tr>\n",
       "    <tr>\n",
       "      <th>7875</th>\n",
       "      <td>828283866</td>\n",
       "      <td>4464.00</td>\n",
       "    </tr>\n",
       "    <tr>\n",
       "      <th>7876</th>\n",
       "      <td>828288658</td>\n",
       "      <td>4273.98</td>\n",
       "    </tr>\n",
       "    <tr>\n",
       "      <th>7877</th>\n",
       "      <td>828290781</td>\n",
       "      <td>8160.02</td>\n",
       "    </tr>\n",
       "    <tr>\n",
       "      <th>7878</th>\n",
       "      <td>828317722</td>\n",
       "      <td>7370.00</td>\n",
       "    </tr>\n",
       "  </tbody>\n",
       "</table>\n",
       "<p>7879 rows × 2 columns</p>\n",
       "</div>"
      ],
      "text/plain": [
       "       Customer    Amount\n",
       "0     708115009   1886.99\n",
       "1     708117651   7400.03\n",
       "2     708163600  13299.99\n",
       "3     708166361   4107.99\n",
       "4     708169780   4539.95\n",
       "...         ...       ...\n",
       "7874  828277434   4079.99\n",
       "7875  828283866   4464.00\n",
       "7876  828288658   4273.98\n",
       "7877  828290781   8160.02\n",
       "7878  828317722   7370.00\n",
       "\n",
       "[7879 rows x 2 columns]"
      ]
     },
     "execution_count": 27,
     "metadata": {},
     "output_type": "execute_result"
    }
   ],
   "source": [
    "df_transactions = df_transactions.groupby(['Customer']).sum(['Amount']).reset_index()\n",
    "df_transactions"
   ]
  },
  {
   "cell_type": "markdown",
   "id": "d85c1595-e11c-4f9c-b2fe-a18c2b30f95d",
   "metadata": {},
   "source": [
    "### Identify Categorical and numerical features\n",
    "Looking at the customer df only initially"
   ]
  },
  {
   "cell_type": "markdown",
   "id": "9ac4eb16-b846-4c8f-947b-0041cb0d9d5c",
   "metadata": {},
   "source": [
    "for null marital status set to unkown and record where it was previously null\n"
   ]
  },
  {
   "cell_type": "code",
   "execution_count": 28,
   "id": "fa5bc1e9-9e55-4792-b529-ce6217b02cb3",
   "metadata": {},
   "outputs": [],
   "source": [
    "df_customers.insert(loc=14, column = 'M_Stat_was_NA',value=0)"
   ]
  },
  {
   "cell_type": "code",
   "execution_count": 29,
   "id": "faf6de85-2257-4fe9-865f-c6dfcec08e7b",
   "metadata": {},
   "outputs": [
    {
     "name": "stderr",
     "output_type": "stream",
     "text": [
      "C:\\Users\\mccab\\AppData\\Local\\Temp\\ipykernel_21520\\202380184.py:1: SettingWithCopyWarning: \n",
      "A value is trying to be set on a copy of a slice from a DataFrame\n",
      "\n",
      "See the caveats in the documentation: https://pandas.pydata.org/pandas-docs/stable/user_guide/indexing.html#returning-a-view-versus-a-copy\n",
      "  df_customers['M_Stat_was_NA'].loc[df_customers['Marital_Status'].isnull()] = 1\n"
     ]
    }
   ],
   "source": [
    "df_customers['M_Stat_was_NA'].loc[df_customers['Marital_Status'].isnull()] = 1"
   ]
  },
  {
   "cell_type": "code",
   "execution_count": 30,
   "id": "cd0945a3-54e5-46c6-9de2-bd34a1cf1bee",
   "metadata": {},
   "outputs": [
    {
     "name": "stderr",
     "output_type": "stream",
     "text": [
      "C:\\Users\\mccab\\AppData\\Local\\Temp\\ipykernel_21520\\1576451697.py:1: SettingWithCopyWarning: \n",
      "A value is trying to be set on a copy of a slice from a DataFrame\n",
      "\n",
      "See the caveats in the documentation: https://pandas.pydata.org/pandas-docs/stable/user_guide/indexing.html#returning-a-view-versus-a-copy\n",
      "  df_customers['Marital_Status'].loc[df_customers['Marital_Status'].isnull()] = 'Unknown'\n"
     ]
    }
   ],
   "source": [
    "df_customers['Marital_Status'].loc[df_customers['Marital_Status'].isnull()] = 'Unknown'"
   ]
  },
  {
   "cell_type": "code",
   "execution_count": null,
   "id": "1df9d4fb-9592-4bc3-82c2-c8a847bb26d4",
   "metadata": {},
   "outputs": [],
   "source": []
  },
  {
   "cell_type": "code",
   "execution_count": 31,
   "id": "3a3b44ef-2e3c-4b8f-a514-681220724af8",
   "metadata": {},
   "outputs": [],
   "source": [
    "df_customers.Gender = pd.Categorical(df_customers.Gender)\n",
    "df_customers.Marital_Status = pd.Categorical(df_customers.Marital_Status)\n",
    "df_customers.Card = pd.Categorical(df_customers.Card)\n",
    "df_customers.Income = pd.Categorical(df_customers.Income)"
   ]
  },
  {
   "cell_type": "code",
   "execution_count": 32,
   "id": "7e060175-69c7-4914-92a7-d46981ff4b74",
   "metadata": {},
   "outputs": [
    {
     "name": "stdout",
     "output_type": "stream",
     "text": [
      "<class 'pandas.core.frame.DataFrame'>\n",
      "RangeIndex: 6577 entries, 0 to 6576\n",
      "Data columns (total 17 columns):\n",
      " #   Column                     Non-Null Count  Dtype   \n",
      "---  ------                     --------------  -----   \n",
      " 0   Customer                   6577 non-null   int64   \n",
      " 1   Churn                      6556 non-null   object  \n",
      " 2   Card                       6577 non-null   category\n",
      " 3   Start_Date                 6577 non-null   object  \n",
      " 4   Customer_Service_Calls     6577 non-null   int64   \n",
      " 5   Credit_Limit               6577 non-null   float64 \n",
      " 6   Total_Revolving_Balance    6577 non-null   int64   \n",
      " 7   Average_Open_To_Buy        6577 non-null   float64 \n",
      " 8   Average_Utilisation_Ratio  6577 non-null   float64 \n",
      " 9   Age                        6577 non-null   float64 \n",
      " 10  Age_was_NA                 6577 non-null   int64   \n",
      " 11  Gender                     6577 non-null   category\n",
      " 12  Education                  6577 non-null   object  \n",
      " 13  Marital_Status             6577 non-null   category\n",
      " 14  M_Stat_was_NA              6577 non-null   int64   \n",
      " 15  Dependents                 6577 non-null   int64   \n",
      " 16  Income                     6577 non-null   category\n",
      "dtypes: category(4), float64(4), int64(6), object(3)\n",
      "memory usage: 694.5+ KB\n"
     ]
    }
   ],
   "source": [
    "df_customers.info()"
   ]
  },
  {
   "cell_type": "markdown",
   "id": "b81a49ef-15c1-4bff-83ac-ef0449577375",
   "metadata": {},
   "source": [
    "### Merge the customer and accounts dataframes"
   ]
  },
  {
   "cell_type": "code",
   "execution_count": 33,
   "id": "b017d67c-2924-4637-bb08-6143fe081feb",
   "metadata": {},
   "outputs": [],
   "source": [
    "df_cust_acc = (pd.merge(df_customers, df_accounts3, on='Customer'))"
   ]
  },
  {
   "cell_type": "code",
   "execution_count": 34,
   "id": "679d89e9-e12a-4d31-acbf-a7e8da9e2f11",
   "metadata": {},
   "outputs": [
    {
     "name": "stdout",
     "output_type": "stream",
     "text": [
      "<class 'pandas.core.frame.DataFrame'>\n",
      "Int64Index: 6577 entries, 0 to 6576\n",
      "Data columns (total 25 columns):\n",
      " #   Column                     Non-Null Count  Dtype   \n",
      "---  ------                     --------------  -----   \n",
      " 0   Customer                   6577 non-null   int64   \n",
      " 1   Churn                      6556 non-null   object  \n",
      " 2   Card                       6577 non-null   category\n",
      " 3   Start_Date                 6577 non-null   object  \n",
      " 4   Customer_Service_Calls     6577 non-null   int64   \n",
      " 5   Credit_Limit               6577 non-null   float64 \n",
      " 6   Total_Revolving_Balance    6577 non-null   int64   \n",
      " 7   Average_Open_To_Buy        6577 non-null   float64 \n",
      " 8   Average_Utilisation_Ratio  6577 non-null   float64 \n",
      " 9   Age                        6577 non-null   float64 \n",
      " 10  Age_was_NA                 6577 non-null   int64   \n",
      " 11  Gender                     6577 non-null   category\n",
      " 12  Education                  6577 non-null   object  \n",
      " 13  Marital_Status             6577 non-null   category\n",
      " 14  M_Stat_was_NA              6577 non-null   int64   \n",
      " 15  Dependents                 6577 non-null   int64   \n",
      " 16  Income                     6577 non-null   category\n",
      " 17  On_Demand_Deposit          6577 non-null   int64   \n",
      " 18  Deposit                    6577 non-null   int64   \n",
      " 19  Credit_Card                6577 non-null   int64   \n",
      " 20  Investment                 6577 non-null   int64   \n",
      " 21  Mortgage                   6577 non-null   int64   \n",
      " 22  Current                    6577 non-null   int64   \n",
      " 23  Joint                      6577 non-null   int64   \n",
      " 24  Loan                       6577 non-null   int64   \n",
      "dtypes: category(4), float64(4), int64(14), object(3)\n",
      "memory usage: 1.1+ MB\n"
     ]
    }
   ],
   "source": [
    "df_cust_acc.info()"
   ]
  },
  {
   "cell_type": "code",
   "execution_count": 35,
   "id": "19cde8f0-ca68-4860-9bf3-496feed9f96e",
   "metadata": {},
   "outputs": [],
   "source": [
    "df_cust_acc.On_Demand_Deposit = pd.Categorical(df_cust_acc.On_Demand_Deposit)\n",
    "df_cust_acc.Investment = pd.Categorical(df_cust_acc.Investment)\n",
    "df_cust_acc.Credit_Card = pd.Categorical(df_cust_acc.Credit_Card)\n",
    "df_cust_acc.Loan = pd.Categorical(df_cust_acc.Loan)\n",
    "df_cust_acc.Joint = pd.Categorical(df_cust_acc.Joint)\n",
    "df_cust_acc.Mortgage = pd.Categorical(df_cust_acc.Mortgage)\n",
    "df_cust_acc.Current = pd.Categorical(df_cust_acc.Current)\n",
    "df_cust_acc.Deposit = pd.Categorical(df_cust_acc.Deposit)"
   ]
  },
  {
   "cell_type": "code",
   "execution_count": 36,
   "id": "20cddfe0-2088-401d-882f-dbf83c2bf27d",
   "metadata": {},
   "outputs": [
    {
     "name": "stdout",
     "output_type": "stream",
     "text": [
      "<class 'pandas.core.frame.DataFrame'>\n",
      "Int64Index: 6577 entries, 0 to 6576\n",
      "Data columns (total 25 columns):\n",
      " #   Column                     Non-Null Count  Dtype   \n",
      "---  ------                     --------------  -----   \n",
      " 0   Customer                   6577 non-null   int64   \n",
      " 1   Churn                      6556 non-null   object  \n",
      " 2   Card                       6577 non-null   category\n",
      " 3   Start_Date                 6577 non-null   object  \n",
      " 4   Customer_Service_Calls     6577 non-null   int64   \n",
      " 5   Credit_Limit               6577 non-null   float64 \n",
      " 6   Total_Revolving_Balance    6577 non-null   int64   \n",
      " 7   Average_Open_To_Buy        6577 non-null   float64 \n",
      " 8   Average_Utilisation_Ratio  6577 non-null   float64 \n",
      " 9   Age                        6577 non-null   float64 \n",
      " 10  Age_was_NA                 6577 non-null   int64   \n",
      " 11  Gender                     6577 non-null   category\n",
      " 12  Education                  6577 non-null   object  \n",
      " 13  Marital_Status             6577 non-null   category\n",
      " 14  M_Stat_was_NA              6577 non-null   int64   \n",
      " 15  Dependents                 6577 non-null   int64   \n",
      " 16  Income                     6577 non-null   category\n",
      " 17  On_Demand_Deposit          6577 non-null   category\n",
      " 18  Deposit                    6577 non-null   category\n",
      " 19  Credit_Card                6577 non-null   category\n",
      " 20  Investment                 6577 non-null   category\n",
      " 21  Mortgage                   6577 non-null   category\n",
      " 22  Current                    6577 non-null   category\n",
      " 23  Joint                      6577 non-null   category\n",
      " 24  Loan                       6577 non-null   category\n",
      "dtypes: category(12), float64(4), int64(6), object(3)\n",
      "memory usage: 798.1+ KB\n"
     ]
    }
   ],
   "source": [
    "df_cust_acc.info()"
   ]
  },
  {
   "cell_type": "code",
   "execution_count": 37,
   "id": "662c0ca8-c37a-4778-8c49-447f308c7ca5",
   "metadata": {},
   "outputs": [],
   "source": [
    "df_cust_acc_tran = (pd.merge(df_cust_acc, df_transactions, on='Customer'))"
   ]
  },
  {
   "cell_type": "code",
   "execution_count": 38,
   "id": "7d43f2ad-81b2-41f0-bff3-b364db45ee20",
   "metadata": {},
   "outputs": [
    {
     "name": "stdout",
     "output_type": "stream",
     "text": [
      "<class 'pandas.core.frame.DataFrame'>\n",
      "Int64Index: 6577 entries, 0 to 6576\n",
      "Data columns (total 26 columns):\n",
      " #   Column                     Non-Null Count  Dtype   \n",
      "---  ------                     --------------  -----   \n",
      " 0   Customer                   6577 non-null   int64   \n",
      " 1   Churn                      6556 non-null   object  \n",
      " 2   Card                       6577 non-null   category\n",
      " 3   Start_Date                 6577 non-null   object  \n",
      " 4   Customer_Service_Calls     6577 non-null   int64   \n",
      " 5   Credit_Limit               6577 non-null   float64 \n",
      " 6   Total_Revolving_Balance    6577 non-null   int64   \n",
      " 7   Average_Open_To_Buy        6577 non-null   float64 \n",
      " 8   Average_Utilisation_Ratio  6577 non-null   float64 \n",
      " 9   Age                        6577 non-null   float64 \n",
      " 10  Age_was_NA                 6577 non-null   int64   \n",
      " 11  Gender                     6577 non-null   category\n",
      " 12  Education                  6577 non-null   object  \n",
      " 13  Marital_Status             6577 non-null   category\n",
      " 14  M_Stat_was_NA              6577 non-null   int64   \n",
      " 15  Dependents                 6577 non-null   int64   \n",
      " 16  Income                     6577 non-null   category\n",
      " 17  On_Demand_Deposit          6577 non-null   category\n",
      " 18  Deposit                    6577 non-null   category\n",
      " 19  Credit_Card                6577 non-null   category\n",
      " 20  Investment                 6577 non-null   category\n",
      " 21  Mortgage                   6577 non-null   category\n",
      " 22  Current                    6577 non-null   category\n",
      " 23  Joint                      6577 non-null   category\n",
      " 24  Loan                       6577 non-null   category\n",
      " 25  Amount                     6577 non-null   float64 \n",
      "dtypes: category(12), float64(5), int64(6), object(3)\n",
      "memory usage: 849.5+ KB\n"
     ]
    }
   ],
   "source": [
    "df_cust_acc_tran.info()"
   ]
  },
  {
   "cell_type": "code",
   "execution_count": 39,
   "id": "bd8eec44-9e5c-4209-a6ca-e8670e826687",
   "metadata": {},
   "outputs": [],
   "source": [
    "categorical_features = ['Gender', 'Marital_Status', 'On_Demand_Deposit', 'Investment', 'Credit_Card','Loan', 'Joint', 'Mortgage', 'Current', 'Deposit', 'Card','Income']\n",
    "numerical_features = ['Customer_Service_Calls','Credit_Limit','Total_Revolving_Balance','Average_Open_To_Buy', 'Average_Utilisation_Ratio','Age','Dependents','Amount']\n",
    "\n",
    "\n",
    "other_features = ['Start_Date','Education']\n",
    "\n",
    "\n",
    "features = categorical_features + numerical_features + other_features\n",
    "\n",
    "target = 'Churn'\n",
    "\n",
    "variables = features + [target]"
   ]
  },
  {
   "cell_type": "markdown",
   "id": "e160a185-03d1-4167-9332-648ab8caf88c",
   "metadata": {},
   "source": [
    "2nd pass we will still drop missing values for now"
   ]
  },
  {
   "cell_type": "code",
   "execution_count": 40,
   "id": "0c7f32e6-d55a-4f83-a312-f067f7511a37",
   "metadata": {},
   "outputs": [
    {
     "data": {
      "text/html": [
       "<div>\n",
       "<style scoped>\n",
       "    .dataframe tbody tr th:only-of-type {\n",
       "        vertical-align: middle;\n",
       "    }\n",
       "\n",
       "    .dataframe tbody tr th {\n",
       "        vertical-align: top;\n",
       "    }\n",
       "\n",
       "    .dataframe thead th {\n",
       "        text-align: right;\n",
       "    }\n",
       "</style>\n",
       "<table border=\"1\" class=\"dataframe\">\n",
       "  <thead>\n",
       "    <tr style=\"text-align: right;\">\n",
       "      <th></th>\n",
       "      <th>Gender</th>\n",
       "      <th>Marital_Status</th>\n",
       "      <th>On_Demand_Deposit</th>\n",
       "      <th>Investment</th>\n",
       "      <th>Credit_Card</th>\n",
       "      <th>Loan</th>\n",
       "      <th>Joint</th>\n",
       "      <th>Mortgage</th>\n",
       "      <th>Current</th>\n",
       "      <th>Deposit</th>\n",
       "      <th>...</th>\n",
       "      <th>Credit_Limit</th>\n",
       "      <th>Total_Revolving_Balance</th>\n",
       "      <th>Average_Open_To_Buy</th>\n",
       "      <th>Average_Utilisation_Ratio</th>\n",
       "      <th>Age</th>\n",
       "      <th>Dependents</th>\n",
       "      <th>Amount</th>\n",
       "      <th>Start_Date</th>\n",
       "      <th>Education</th>\n",
       "      <th>Churn</th>\n",
       "    </tr>\n",
       "  </thead>\n",
       "  <tbody>\n",
       "    <tr>\n",
       "      <th>0</th>\n",
       "      <td>F</td>\n",
       "      <td>Married</td>\n",
       "      <td>0</td>\n",
       "      <td>1</td>\n",
       "      <td>1</td>\n",
       "      <td>0</td>\n",
       "      <td>0</td>\n",
       "      <td>1</td>\n",
       "      <td>1</td>\n",
       "      <td>1</td>\n",
       "      <td>...</td>\n",
       "      <td>2315.0</td>\n",
       "      <td>1565</td>\n",
       "      <td>750.0</td>\n",
       "      <td>0.676</td>\n",
       "      <td>48.0</td>\n",
       "      <td>2</td>\n",
       "      <td>4827.96</td>\n",
       "      <td>2020-06-01</td>\n",
       "      <td>Graduate</td>\n",
       "      <td>No</td>\n",
       "    </tr>\n",
       "    <tr>\n",
       "      <th>1</th>\n",
       "      <td>F</td>\n",
       "      <td>Single</td>\n",
       "      <td>0</td>\n",
       "      <td>0</td>\n",
       "      <td>1</td>\n",
       "      <td>0</td>\n",
       "      <td>0</td>\n",
       "      <td>0</td>\n",
       "      <td>0</td>\n",
       "      <td>0</td>\n",
       "      <td>...</td>\n",
       "      <td>7645.0</td>\n",
       "      <td>2076</td>\n",
       "      <td>5569.0</td>\n",
       "      <td>0.272</td>\n",
       "      <td>58.0</td>\n",
       "      <td>5</td>\n",
       "      <td>7709.97</td>\n",
       "      <td>2020-01-01</td>\n",
       "      <td>Second level</td>\n",
       "      <td>No</td>\n",
       "    </tr>\n",
       "    <tr>\n",
       "      <th>2</th>\n",
       "      <td>F</td>\n",
       "      <td>Single</td>\n",
       "      <td>0</td>\n",
       "      <td>0</td>\n",
       "      <td>1</td>\n",
       "      <td>0</td>\n",
       "      <td>0</td>\n",
       "      <td>0</td>\n",
       "      <td>1</td>\n",
       "      <td>0</td>\n",
       "      <td>...</td>\n",
       "      <td>6394.0</td>\n",
       "      <td>0</td>\n",
       "      <td>6394.0</td>\n",
       "      <td>0.000</td>\n",
       "      <td>55.0</td>\n",
       "      <td>2</td>\n",
       "      <td>3470.06</td>\n",
       "      <td>2020-01-01</td>\n",
       "      <td>Second level</td>\n",
       "      <td>No</td>\n",
       "    </tr>\n",
       "    <tr>\n",
       "      <th>3</th>\n",
       "      <td>F</td>\n",
       "      <td>Unknown</td>\n",
       "      <td>0</td>\n",
       "      <td>1</td>\n",
       "      <td>1</td>\n",
       "      <td>1</td>\n",
       "      <td>0</td>\n",
       "      <td>1</td>\n",
       "      <td>1</td>\n",
       "      <td>1</td>\n",
       "      <td>...</td>\n",
       "      <td>4663.0</td>\n",
       "      <td>0</td>\n",
       "      <td>4663.0</td>\n",
       "      <td>0.000</td>\n",
       "      <td>41.0</td>\n",
       "      <td>2</td>\n",
       "      <td>3831.01</td>\n",
       "      <td>2020-08-01</td>\n",
       "      <td>Graduate</td>\n",
       "      <td>No</td>\n",
       "    </tr>\n",
       "    <tr>\n",
       "      <th>4</th>\n",
       "      <td>F</td>\n",
       "      <td>Single</td>\n",
       "      <td>0</td>\n",
       "      <td>1</td>\n",
       "      <td>1</td>\n",
       "      <td>0</td>\n",
       "      <td>0</td>\n",
       "      <td>1</td>\n",
       "      <td>1</td>\n",
       "      <td>1</td>\n",
       "      <td>...</td>\n",
       "      <td>1879.0</td>\n",
       "      <td>1486</td>\n",
       "      <td>393.0</td>\n",
       "      <td>0.791</td>\n",
       "      <td>37.0</td>\n",
       "      <td>1</td>\n",
       "      <td>5202.04</td>\n",
       "      <td>2021-02-01</td>\n",
       "      <td>Second level</td>\n",
       "      <td>No</td>\n",
       "    </tr>\n",
       "    <tr>\n",
       "      <th>...</th>\n",
       "      <td>...</td>\n",
       "      <td>...</td>\n",
       "      <td>...</td>\n",
       "      <td>...</td>\n",
       "      <td>...</td>\n",
       "      <td>...</td>\n",
       "      <td>...</td>\n",
       "      <td>...</td>\n",
       "      <td>...</td>\n",
       "      <td>...</td>\n",
       "      <td>...</td>\n",
       "      <td>...</td>\n",
       "      <td>...</td>\n",
       "      <td>...</td>\n",
       "      <td>...</td>\n",
       "      <td>...</td>\n",
       "      <td>...</td>\n",
       "      <td>...</td>\n",
       "      <td>...</td>\n",
       "      <td>...</td>\n",
       "      <td>...</td>\n",
       "    </tr>\n",
       "    <tr>\n",
       "      <th>6572</th>\n",
       "      <td>F</td>\n",
       "      <td>Married</td>\n",
       "      <td>1</td>\n",
       "      <td>0</td>\n",
       "      <td>1</td>\n",
       "      <td>0</td>\n",
       "      <td>0</td>\n",
       "      <td>0</td>\n",
       "      <td>1</td>\n",
       "      <td>0</td>\n",
       "      <td>...</td>\n",
       "      <td>3832.0</td>\n",
       "      <td>1439</td>\n",
       "      <td>2393.0</td>\n",
       "      <td>0.376</td>\n",
       "      <td>58.0</td>\n",
       "      <td>0</td>\n",
       "      <td>4741.00</td>\n",
       "      <td>2020-01-01</td>\n",
       "      <td>Unknown</td>\n",
       "      <td>No</td>\n",
       "    </tr>\n",
       "    <tr>\n",
       "      <th>6573</th>\n",
       "      <td>F</td>\n",
       "      <td>Married</td>\n",
       "      <td>1</td>\n",
       "      <td>1</td>\n",
       "      <td>1</td>\n",
       "      <td>1</td>\n",
       "      <td>1</td>\n",
       "      <td>0</td>\n",
       "      <td>1</td>\n",
       "      <td>0</td>\n",
       "      <td>...</td>\n",
       "      <td>4167.0</td>\n",
       "      <td>0</td>\n",
       "      <td>4167.0</td>\n",
       "      <td>0.000</td>\n",
       "      <td>60.0</td>\n",
       "      <td>2</td>\n",
       "      <td>5039.03</td>\n",
       "      <td>2019-08-01</td>\n",
       "      <td>Post LC</td>\n",
       "      <td>No</td>\n",
       "    </tr>\n",
       "    <tr>\n",
       "      <th>6574</th>\n",
       "      <td>F</td>\n",
       "      <td>Married</td>\n",
       "      <td>0</td>\n",
       "      <td>1</td>\n",
       "      <td>1</td>\n",
       "      <td>0</td>\n",
       "      <td>0</td>\n",
       "      <td>0</td>\n",
       "      <td>1</td>\n",
       "      <td>1</td>\n",
       "      <td>...</td>\n",
       "      <td>2470.0</td>\n",
       "      <td>2013</td>\n",
       "      <td>457.0</td>\n",
       "      <td>0.815</td>\n",
       "      <td>42.0</td>\n",
       "      <td>3</td>\n",
       "      <td>4383.98</td>\n",
       "      <td>2019-12-01</td>\n",
       "      <td>Graduate</td>\n",
       "      <td>No</td>\n",
       "    </tr>\n",
       "    <tr>\n",
       "      <th>6575</th>\n",
       "      <td>F</td>\n",
       "      <td>Married</td>\n",
       "      <td>1</td>\n",
       "      <td>1</td>\n",
       "      <td>1</td>\n",
       "      <td>0</td>\n",
       "      <td>0</td>\n",
       "      <td>0</td>\n",
       "      <td>1</td>\n",
       "      <td>0</td>\n",
       "      <td>...</td>\n",
       "      <td>8138.0</td>\n",
       "      <td>2104</td>\n",
       "      <td>6034.0</td>\n",
       "      <td>0.259</td>\n",
       "      <td>48.0</td>\n",
       "      <td>0</td>\n",
       "      <td>1299.00</td>\n",
       "      <td>2020-01-01</td>\n",
       "      <td>Second level</td>\n",
       "      <td>No</td>\n",
       "    </tr>\n",
       "    <tr>\n",
       "      <th>6576</th>\n",
       "      <td>F</td>\n",
       "      <td>Single</td>\n",
       "      <td>0</td>\n",
       "      <td>0</td>\n",
       "      <td>1</td>\n",
       "      <td>0</td>\n",
       "      <td>0</td>\n",
       "      <td>0</td>\n",
       "      <td>1</td>\n",
       "      <td>1</td>\n",
       "      <td>...</td>\n",
       "      <td>1653.0</td>\n",
       "      <td>0</td>\n",
       "      <td>1653.0</td>\n",
       "      <td>0.000</td>\n",
       "      <td>37.0</td>\n",
       "      <td>3</td>\n",
       "      <td>2284.00</td>\n",
       "      <td>2020-08-01</td>\n",
       "      <td>Second level</td>\n",
       "      <td>Yes</td>\n",
       "    </tr>\n",
       "  </tbody>\n",
       "</table>\n",
       "<p>6556 rows × 23 columns</p>\n",
       "</div>"
      ],
      "text/plain": [
       "     Gender Marital_Status On_Demand_Deposit Investment Credit_Card Loan  \\\n",
       "0         F        Married                 0          1           1    0   \n",
       "1         F         Single                 0          0           1    0   \n",
       "2         F         Single                 0          0           1    0   \n",
       "3         F        Unknown                 0          1           1    1   \n",
       "4         F         Single                 0          1           1    0   \n",
       "...     ...            ...               ...        ...         ...  ...   \n",
       "6572      F        Married                 1          0           1    0   \n",
       "6573      F        Married                 1          1           1    1   \n",
       "6574      F        Married                 0          1           1    0   \n",
       "6575      F        Married                 1          1           1    0   \n",
       "6576      F         Single                 0          0           1    0   \n",
       "\n",
       "     Joint Mortgage Current Deposit  ... Credit_Limit Total_Revolving_Balance  \\\n",
       "0        0        1       1       1  ...       2315.0                    1565   \n",
       "1        0        0       0       0  ...       7645.0                    2076   \n",
       "2        0        0       1       0  ...       6394.0                       0   \n",
       "3        0        1       1       1  ...       4663.0                       0   \n",
       "4        0        1       1       1  ...       1879.0                    1486   \n",
       "...    ...      ...     ...     ...  ...          ...                     ...   \n",
       "6572     0        0       1       0  ...       3832.0                    1439   \n",
       "6573     1        0       1       0  ...       4167.0                       0   \n",
       "6574     0        0       1       1  ...       2470.0                    2013   \n",
       "6575     0        0       1       0  ...       8138.0                    2104   \n",
       "6576     0        0       1       1  ...       1653.0                       0   \n",
       "\n",
       "      Average_Open_To_Buy  Average_Utilisation_Ratio   Age  Dependents  \\\n",
       "0                   750.0                      0.676  48.0           2   \n",
       "1                  5569.0                      0.272  58.0           5   \n",
       "2                  6394.0                      0.000  55.0           2   \n",
       "3                  4663.0                      0.000  41.0           2   \n",
       "4                   393.0                      0.791  37.0           1   \n",
       "...                   ...                        ...   ...         ...   \n",
       "6572               2393.0                      0.376  58.0           0   \n",
       "6573               4167.0                      0.000  60.0           2   \n",
       "6574                457.0                      0.815  42.0           3   \n",
       "6575               6034.0                      0.259  48.0           0   \n",
       "6576               1653.0                      0.000  37.0           3   \n",
       "\n",
       "       Amount  Start_Date     Education  Churn  \n",
       "0     4827.96  2020-06-01      Graduate     No  \n",
       "1     7709.97  2020-01-01  Second level     No  \n",
       "2     3470.06  2020-01-01  Second level     No  \n",
       "3     3831.01  2020-08-01      Graduate     No  \n",
       "4     5202.04  2021-02-01  Second level     No  \n",
       "...       ...         ...           ...    ...  \n",
       "6572  4741.00  2020-01-01       Unknown     No  \n",
       "6573  5039.03  2019-08-01       Post LC     No  \n",
       "6574  4383.98  2019-12-01      Graduate     No  \n",
       "6575  1299.00  2020-01-01  Second level     No  \n",
       "6576  2284.00  2020-08-01  Second level    Yes  \n",
       "\n",
       "[6556 rows x 23 columns]"
      ]
     },
     "execution_count": 40,
     "metadata": {},
     "output_type": "execute_result"
    }
   ],
   "source": [
    "df_model = df_cust_acc_tran[variables].dropna()\n",
    "df_model.shape\n",
    "df_model"
   ]
  },
  {
   "cell_type": "code",
   "execution_count": null,
   "id": "bffaf13d-8448-487b-b7ea-0e89f4d656a4",
   "metadata": {},
   "outputs": [],
   "source": []
  },
  {
   "cell_type": "code",
   "execution_count": null,
   "id": "a5d17f33-f322-4d67-9af5-44f269c473d5",
   "metadata": {},
   "outputs": [],
   "source": []
  },
  {
   "cell_type": "code",
   "execution_count": null,
   "id": "c5108587-b233-47b8-8b91-eb0e6f4cc36d",
   "metadata": {},
   "outputs": [],
   "source": []
  },
  {
   "cell_type": "code",
   "execution_count": null,
   "id": "a439a2de-1284-4465-85d3-d69405183a33",
   "metadata": {},
   "outputs": [],
   "source": []
  },
  {
   "cell_type": "code",
   "execution_count": null,
   "id": "9e372553-7c59-4705-9cf0-8c5572a4666e",
   "metadata": {},
   "outputs": [],
   "source": []
  },
  {
   "cell_type": "code",
   "execution_count": null,
   "id": "628825c3-a067-4126-a42d-f451d35735c0",
   "metadata": {},
   "outputs": [],
   "source": []
  },
  {
   "cell_type": "code",
   "execution_count": null,
   "id": "bbb922fc-b5e5-46fc-804c-24111bf52e9e",
   "metadata": {},
   "outputs": [],
   "source": []
  },
  {
   "cell_type": "code",
   "execution_count": null,
   "id": "88587666-db2f-436a-8090-9bfa38926fb3",
   "metadata": {},
   "outputs": [],
   "source": []
  },
  {
   "cell_type": "markdown",
   "id": "1cb4a708-d17b-4d07-94e5-f0421abb279f",
   "metadata": {},
   "source": [
    "### Train / Test Split"
   ]
  },
  {
   "cell_type": "code",
   "execution_count": 41,
   "id": "9f3a878a-6f44-42aa-9d25-c6d10034e3c6",
   "metadata": {},
   "outputs": [],
   "source": [
    "from sklearn.model_selection import train_test_split\n",
    "X_train, X_test, y_train, y_test = train_test_split(df_model[features], df_model.Churn, \n",
    "    train_size=0.6, random_state=SEED)"
   ]
  },
  {
   "cell_type": "code",
   "execution_count": null,
   "id": "a5eb4e18-502e-42ab-b964-50e1a3a93d99",
   "metadata": {},
   "outputs": [],
   "source": []
  },
  {
   "cell_type": "code",
   "execution_count": null,
   "id": "3d43bac3-ba91-41a4-9cfb-9c86741e31d0",
   "metadata": {},
   "outputs": [],
   "source": []
  },
  {
   "cell_type": "code",
   "execution_count": null,
   "id": "4ffb1fc1-db51-40fe-8bb6-97bb1ae69666",
   "metadata": {},
   "outputs": [],
   "source": []
  },
  {
   "cell_type": "markdown",
   "id": "98d6091c-2cf4-4d81-a339-4b90c58b10da",
   "metadata": {},
   "source": [
    "### Import Classifiers"
   ]
  },
  {
   "cell_type": "code",
   "execution_count": 42,
   "id": "76d40ddd-ebf3-4ff3-ac70-6ec91aaf83e8",
   "metadata": {},
   "outputs": [],
   "source": [
    "from sklearn.linear_model import LogisticRegressionCV\n",
    "from sklearn.neighbors import KNeighborsClassifier\n",
    "from sklearn.naive_bayes import BernoulliNB\n",
    "from sklearn.ensemble import AdaBoostClassifier\n",
    "from sklearn.ensemble import GradientBoostingClassifier\n",
    "from sklearn.ensemble import HistGradientBoostingClassifier\n",
    "from xgboost import XGBClassifier\n",
    "import warnings\n"
   ]
  },
  {
   "cell_type": "markdown",
   "id": "e3295615-f6e5-4d96-a8b6-2cd0517e2966",
   "metadata": {},
   "source": [
    "### Build a Pipeline"
   ]
  },
  {
   "cell_type": "code",
   "execution_count": 43,
   "id": "46a79c04-dc47-4bd4-9919-3b7c8501a164",
   "metadata": {},
   "outputs": [],
   "source": [
    "from sklearn.compose import ColumnTransformer\n",
    "from sklearn import preprocessing\n",
    "column_transformer = ColumnTransformer([\n",
    "    # List of transformation to apply and which columns to apply it to. Each entry here has structure \n",
    "    #( NAME,                  CODE,                           COLUMNS_TO_APPLY),\n",
    "    ( 'categorical_features', preprocessing.OneHotEncoder(),  categorical_features ),\n",
    "    ( 'numerical_features',   preprocessing.StandardScaler(), numerical_features ),\n",
    "])"
   ]
  },
  {
   "cell_type": "code",
   "execution_count": 44,
   "id": "cee82f75-255b-4b0d-bd7b-0c4c80013976",
   "metadata": {},
   "outputs": [],
   "source": [
    "max_iter = [20, 50, 100, 200, 500, 1000]                   \n",
    "solver =['newton-cg', 'lbfgs', 'liblinear', 'sag', 'saga', 'newton-cholesky’']  \n",
    "class_weight= ['balanced']  \n",
    "penalty = ['None', 'l2', 'l1', 'elasticnet']\n"
   ]
  },
  {
   "cell_type": "code",
   "execution_count": null,
   "id": "b1e9da39-fe46-479b-8582-4b97c971792f",
   "metadata": {},
   "outputs": [],
   "source": []
  },
  {
   "cell_type": "code",
   "execution_count": null,
   "id": "faf1696e-119e-41bc-97a3-bc1ee4d555d4",
   "metadata": {},
   "outputs": [],
   "source": []
  },
  {
   "cell_type": "code",
   "execution_count": null,
   "id": "5caea8d8-109c-43db-b9f3-e2a5687012fb",
   "metadata": {},
   "outputs": [],
   "source": []
  },
  {
   "cell_type": "code",
   "execution_count": null,
   "id": "08eee717-84b9-4222-8d14-e59b623d477e",
   "metadata": {},
   "outputs": [],
   "source": []
  },
  {
   "cell_type": "code",
   "execution_count": 45,
   "id": "b108410a-7b9d-4b9a-9d9b-3b2ddc845b07",
   "metadata": {},
   "outputs": [
    {
     "ename": "TypeError",
     "evalue": "__init__() got an unexpected keyword argument 'n_estimators'",
     "output_type": "error",
     "traceback": [
      "\u001b[1;31m---------------------------------------------------------------------------\u001b[0m",
      "\u001b[1;31mTypeError\u001b[0m                                 Traceback (most recent call last)",
      "\u001b[1;32m~\\AppData\\Local\\Temp\\ipykernel_21520\\1120326326.py\u001b[0m in \u001b[0;36m<module>\u001b[1;34m\u001b[0m\n\u001b[0;32m     13\u001b[0m                     pipeline = Pipeline(steps=[\n\u001b[0;32m     14\u001b[0m                         \u001b[1;33m(\u001b[0m \u001b[1;34m'column_transformer'\u001b[0m\u001b[1;33m,\u001b[0m \u001b[0mcolumn_transformer\u001b[0m \u001b[1;33m)\u001b[0m\u001b[1;33m,\u001b[0m\u001b[1;33m\u001b[0m\u001b[1;33m\u001b[0m\u001b[0m\n\u001b[1;32m---> 15\u001b[1;33m                         \u001b[1;33m(\u001b[0m \u001b[1;34m'classifier'\u001b[0m\u001b[1;33m,\u001b[0m \u001b[0mHistGradientBoostingClassifier\u001b[0m\u001b[1;33m(\u001b[0m\u001b[0mlearning_rate\u001b[0m\u001b[1;33m=\u001b[0m\u001b[0meta\u001b[0m\u001b[1;33m,\u001b[0m\u001b[0mn_estimators\u001b[0m\u001b[1;33m=\u001b[0m\u001b[0mestimator\u001b[0m\u001b[1;33m,\u001b[0m\u001b[0mmax_depth\u001b[0m\u001b[1;33m=\u001b[0m\u001b[0mmax_depth\u001b[0m\u001b[1;33m,\u001b[0m\u001b[0mmin_samples_split\u001b[0m\u001b[1;33m=\u001b[0m\u001b[0mmin_samples_split\u001b[0m\u001b[1;33m,\u001b[0m\u001b[0mmin_samples_leaf\u001b[0m\u001b[1;33m=\u001b[0m\u001b[0mmin_samples_leaf\u001b[0m\u001b[1;33m)\u001b[0m \u001b[1;33m)\u001b[0m\u001b[1;33m,\u001b[0m\u001b[1;33m\u001b[0m\u001b[1;33m\u001b[0m\u001b[0m\n\u001b[0m\u001b[0;32m     16\u001b[0m                     ])\n\u001b[0;32m     17\u001b[0m                     \u001b[0mscores\u001b[0m \u001b[1;33m=\u001b[0m \u001b[0mcross_val_score\u001b[0m\u001b[1;33m(\u001b[0m\u001b[0mpipeline\u001b[0m\u001b[1;33m,\u001b[0m \u001b[0mX_train\u001b[0m\u001b[1;33m,\u001b[0m \u001b[0my_train\u001b[0m\u001b[1;33m,\u001b[0m \u001b[0mcv\u001b[0m\u001b[1;33m=\u001b[0m\u001b[1;36m5\u001b[0m\u001b[1;33m)\u001b[0m\u001b[1;33m\u001b[0m\u001b[1;33m\u001b[0m\u001b[0m\n",
      "\u001b[1;31mTypeError\u001b[0m: __init__() got an unexpected keyword argument 'n_estimators'"
     ]
    }
   ],
   "source": [
    "from sklearn.pipeline import Pipeline\n",
    "from sklearn.model_selection import cross_val_score\n",
    "learning_rates = [1, 0.5, 0.25, 0.1, 0.05, 0.01]\n",
    "n_estimators = [1, 2, 4, 8, 16, 32, 64, 100, 200]\n",
    "max_depths = np.linspace(1, 32, 32, endpoint=True)\n",
    "min_samples_splits = np.linspace(0.1, 1.0, 10, endpoint=True)\n",
    "min_samples_leafs = np.linspace(0.1, 0.5, 5, endpoint=True)\n",
    "for eta in learning_rates:\n",
    "    for estimator in n_estimators:\n",
    "        for max_depth in max_depths:\n",
    "            for min_samples_split in min_samples_splits:\n",
    "                for min_samples_leaf in min_samples_leafs:\n",
    "                    pipeline = Pipeline(steps=[\n",
    "                        ( 'column_transformer', column_transformer ),\n",
    "                        ( 'classifier', HistGradientBoostingClassifier(learning_rate=eta,n_estimators=estimator,max_depth=max_depth,min_samples_split=min_samples_split,min_samples_leaf=min_samples_leaf) ),\n",
    "                    ])\n",
    "                    scores = cross_val_score(pipeline, X_train, y_train, cv=5)\n",
    "                    if(scores.mean()>=0.92):\n",
    "                        print(f\"CV estimate of accuracy is {scores.mean():.2%} +/ {2*scores.std()/len(scores):.2%}\")\n",
    "                        print(f\"learning_rate= {eta} n_estimators= {estimator} max_depth= {max_depth} min_samples_split= {min_samples_split} min_samples_leaf= {min_samples_leaf}\")"
   ]
  },
  {
   "cell_type": "markdown",
   "id": "3dcb2d71-d16d-4348-9e0c-4fe0844ecfea",
   "metadata": {},
   "source": [
    "### Score the model using cross validation scoring function to see how good the initial one is"
   ]
  },
  {
   "cell_type": "code",
   "execution_count": 92,
   "id": "2d264ada-bdb3-4e85-9a8f-303b40f4b4aa",
   "metadata": {},
   "outputs": [
    {
     "name": "stdout",
     "output_type": "stream",
     "text": [
      "CV estimate of accuracy is 87.31% +/ 0.27%\n"
     ]
    }
   ],
   "source": [
    "from sklearn.model_selection import cross_val_score\n",
    "scores = cross_val_score(pipeline, X_train, y_train, cv=5)\n",
    "print(f\"CV estimate of accuracy is {scores.mean():.2%} +/ {2*scores.std()/len(scores):.2%}\")"
   ]
  },
  {
   "cell_type": "markdown",
   "id": "f3cf25c1-7d0b-4922-b196-90fa033bc51e",
   "metadata": {},
   "source": [
    "### CV estimate of accuracy is 87.26% +/ 0.25%"
   ]
  },
  {
   "cell_type": "code",
   "execution_count": null,
   "id": "2cda0dac-6526-4156-b665-fb4a8f5d6b86",
   "metadata": {},
   "outputs": [],
   "source": []
  },
  {
   "cell_type": "code",
   "execution_count": null,
   "id": "6702c8e5-93f4-4ee5-b4ff-93073dc1efd4",
   "metadata": {},
   "outputs": [],
   "source": []
  },
  {
   "cell_type": "code",
   "execution_count": null,
   "id": "60323f66-d4f6-49c6-aaf7-e3a634c74787",
   "metadata": {},
   "outputs": [],
   "source": []
  },
  {
   "cell_type": "code",
   "execution_count": null,
   "id": "58c0b98b-dba9-46b1-9d60-77a89607d7c0",
   "metadata": {},
   "outputs": [],
   "source": []
  },
  {
   "cell_type": "code",
   "execution_count": null,
   "id": "645a1110-d26f-4ee2-a973-394c8a7bad4e",
   "metadata": {},
   "outputs": [],
   "source": []
  },
  {
   "cell_type": "code",
   "execution_count": null,
   "id": "ad5eb5b8-0339-43e0-9787-8785561845c8",
   "metadata": {},
   "outputs": [],
   "source": []
  },
  {
   "cell_type": "code",
   "execution_count": 194,
   "id": "9835fdc5-fc78-4094-a06d-f43c5cd91cb6",
   "metadata": {},
   "outputs": [
    {
     "data": {
      "text/plain": [
       "Pipeline(steps=[('column_transformer',\n",
       "                 ColumnTransformer(transformers=[('categorical_features',\n",
       "                                                  OneHotEncoder(),\n",
       "                                                  ['Gender', 'Marital_Status',\n",
       "                                                   'On_Demand_Deposit',\n",
       "                                                   'Investment', 'Credit_Card',\n",
       "                                                   'Loan', 'Joint', 'Mortgage',\n",
       "                                                   'Current', 'Deposit', 'Card',\n",
       "                                                   'Income']),\n",
       "                                                 ('numerical_features',\n",
       "                                                  StandardScaler(),\n",
       "                                                  ['Customer_Service_Calls',\n",
       "                                                   'Credit_Limit',\n",
       "                                                   'Total_Revolving_Balance',\n",
       "                                                   'Average_Open_To_Buy',\n",
       "                                                   'Average_Utilisation_Ratio',\n",
       "                                                   'Age', 'Dependents',\n",
       "                                                   'Amount'])])),\n",
       "                ('classifier', GradientBoostingClassifier())])"
      ]
     },
     "execution_count": 194,
     "metadata": {},
     "output_type": "execute_result"
    }
   ],
   "source": [
    "pipeline.fit(X_train, y_train)"
   ]
  },
  {
   "cell_type": "code",
   "execution_count": 195,
   "id": "c9d98275-3f10-46f9-b1e6-2340933d60df",
   "metadata": {},
   "outputs": [],
   "source": [
    "filename = \"Completed_model_01.joblib\""
   ]
  },
  {
   "cell_type": "code",
   "execution_count": 196,
   "id": "a0cad73c-9294-4640-a6d2-e4ff869202dd",
   "metadata": {},
   "outputs": [],
   "source": [
    "import joblib"
   ]
  },
  {
   "cell_type": "code",
   "execution_count": 197,
   "id": "12659ecc-996c-4555-8afc-e1873c9109bc",
   "metadata": {},
   "outputs": [
    {
     "data": {
      "text/plain": [
       "['Completed_model_01.joblib']"
      ]
     },
     "execution_count": 197,
     "metadata": {},
     "output_type": "execute_result"
    }
   ],
   "source": [
    "joblib.dump(pipeline, filename)"
   ]
  },
  {
   "cell_type": "code",
   "execution_count": 176,
   "id": "309fcd04-f0fb-4496-a458-028bf72e85af",
   "metadata": {},
   "outputs": [],
   "source": [
    "y_pred = pipeline.predict(X_test)"
   ]
  },
  {
   "cell_type": "code",
   "execution_count": 177,
   "id": "efbe4c45-b167-4881-a7b2-ff2e3ae63898",
   "metadata": {},
   "outputs": [
    {
     "data": {
      "text/plain": [
       "array(['No', 'Yes', 'No', ..., 'No', 'No', 'No'], dtype=object)"
      ]
     },
     "execution_count": 177,
     "metadata": {},
     "output_type": "execute_result"
    }
   ],
   "source": [
    "y_pred"
   ]
  },
  {
   "cell_type": "code",
   "execution_count": null,
   "id": "1736958e-6c6b-48d5-94a3-ac99468cb94f",
   "metadata": {},
   "outputs": [],
   "source": []
  },
  {
   "cell_type": "code",
   "execution_count": 180,
   "id": "6ba97432-a566-4014-953e-a874cf159e91",
   "metadata": {},
   "outputs": [],
   "source": [
    "from sklearn.pipeline import Pipeline\n",
    "pipeline = Pipeline(steps=[\n",
    "    ( 'column_transformer', column_transformer ),\n",
    "    ( 'classifier', BernoulliNB() ),\n",
    "])"
   ]
  },
  {
   "cell_type": "code",
   "execution_count": 181,
   "id": "31f1dd4d-b305-44cb-9ff4-9b3cc7658cf1",
   "metadata": {},
   "outputs": [
    {
     "name": "stdout",
     "output_type": "stream",
     "text": [
      "CV estimate of accuracy is 83.12% +/ 0.23%\n"
     ]
    }
   ],
   "source": [
    "from sklearn.model_selection import cross_val_score\n",
    "scores = cross_val_score(pipeline, X_train, y_train, cv=5)\n",
    "print(f\"CV estimate of accuracy is {scores.mean():.2%} +/ {2*scores.std()/len(scores):.2%}\")"
   ]
  },
  {
   "cell_type": "markdown",
   "id": "9ede68e0-cfa7-4007-8fc7-96ed77f3f0a4",
   "metadata": {},
   "source": [
    "## CV estimate of accuracy is 83.07% +/ 0.23%"
   ]
  },
  {
   "cell_type": "code",
   "execution_count": 182,
   "id": "855c5522-249d-4169-910d-93e3b40cf840",
   "metadata": {},
   "outputs": [],
   "source": [
    "from sklearn.pipeline import Pipeline\n",
    "pipeline = Pipeline(steps=[\n",
    "    ( 'column_transformer', column_transformer ),\n",
    "    ( 'classifier', KNeighborsClassifier(n_neighbors=9) ),\n",
    "])"
   ]
  },
  {
   "cell_type": "code",
   "execution_count": 183,
   "id": "4359270c-dcba-4ac4-a5de-d5c0d9b14ca9",
   "metadata": {},
   "outputs": [
    {
     "name": "stderr",
     "output_type": "stream",
     "text": [
      "C:\\Users\\mccab\\anaconda3\\lib\\site-packages\\sklearn\\neighbors\\_classification.py:228: FutureWarning: Unlike other reduction functions (e.g. `skew`, `kurtosis`), the default behavior of `mode` typically preserves the axis it acts along. In SciPy 1.11.0, this behavior will change: the default value of `keepdims` will become False, the `axis` over which the statistic is taken will be eliminated, and the value None will no longer be accepted. Set `keepdims` to True or False to avoid this warning.\n",
      "  mode, _ = stats.mode(_y[neigh_ind, k], axis=1)\n",
      "C:\\Users\\mccab\\anaconda3\\lib\\site-packages\\sklearn\\neighbors\\_classification.py:228: FutureWarning: Unlike other reduction functions (e.g. `skew`, `kurtosis`), the default behavior of `mode` typically preserves the axis it acts along. In SciPy 1.11.0, this behavior will change: the default value of `keepdims` will become False, the `axis` over which the statistic is taken will be eliminated, and the value None will no longer be accepted. Set `keepdims` to True or False to avoid this warning.\n",
      "  mode, _ = stats.mode(_y[neigh_ind, k], axis=1)\n",
      "C:\\Users\\mccab\\anaconda3\\lib\\site-packages\\sklearn\\neighbors\\_classification.py:228: FutureWarning: Unlike other reduction functions (e.g. `skew`, `kurtosis`), the default behavior of `mode` typically preserves the axis it acts along. In SciPy 1.11.0, this behavior will change: the default value of `keepdims` will become False, the `axis` over which the statistic is taken will be eliminated, and the value None will no longer be accepted. Set `keepdims` to True or False to avoid this warning.\n",
      "  mode, _ = stats.mode(_y[neigh_ind, k], axis=1)\n"
     ]
    },
    {
     "name": "stdout",
     "output_type": "stream",
     "text": [
      "CV estimate of accuracy is 86.30% +/ 0.34%\n"
     ]
    },
    {
     "name": "stderr",
     "output_type": "stream",
     "text": [
      "C:\\Users\\mccab\\anaconda3\\lib\\site-packages\\sklearn\\neighbors\\_classification.py:228: FutureWarning: Unlike other reduction functions (e.g. `skew`, `kurtosis`), the default behavior of `mode` typically preserves the axis it acts along. In SciPy 1.11.0, this behavior will change: the default value of `keepdims` will become False, the `axis` over which the statistic is taken will be eliminated, and the value None will no longer be accepted. Set `keepdims` to True or False to avoid this warning.\n",
      "  mode, _ = stats.mode(_y[neigh_ind, k], axis=1)\n",
      "C:\\Users\\mccab\\anaconda3\\lib\\site-packages\\sklearn\\neighbors\\_classification.py:228: FutureWarning: Unlike other reduction functions (e.g. `skew`, `kurtosis`), the default behavior of `mode` typically preserves the axis it acts along. In SciPy 1.11.0, this behavior will change: the default value of `keepdims` will become False, the `axis` over which the statistic is taken will be eliminated, and the value None will no longer be accepted. Set `keepdims` to True or False to avoid this warning.\n",
      "  mode, _ = stats.mode(_y[neigh_ind, k], axis=1)\n"
     ]
    }
   ],
   "source": [
    "from sklearn.model_selection import cross_val_score\n",
    "scores = cross_val_score(pipeline, X_train, y_train, cv=5)\n",
    "print(f\"CV estimate of accuracy is {scores.mean():.2%} +/ {2*scores.std()/len(scores):.2%}\")"
   ]
  },
  {
   "cell_type": "code",
   "execution_count": 184,
   "id": "989e27b3-9135-4b39-8b3d-b13c44d4c707",
   "metadata": {},
   "outputs": [],
   "source": [
    "from sklearn.model_selection import GridSearchCV\n",
    "\n",
    "param_grid = [\n",
    "    { \n",
    "        'classifier__n_neighbors': range(3,17,2),\n",
    "    }\n",
    "]\n",
    "\n",
    "gs = GridSearchCV(pipeline, param_grid=param_grid, scoring='accuracy', cv=5, n_jobs=-1)"
   ]
  },
  {
   "cell_type": "markdown",
   "id": "5533e1bd-a5ff-434e-98ef-b0fa8962a4ba",
   "metadata": {},
   "source": [
    "### CV estimate of accuracy is 86.24% +/ 0.27%"
   ]
  },
  {
   "cell_type": "code",
   "execution_count": null,
   "id": "c5b4501a-8b57-47eb-b7a4-ee894d62dcb3",
   "metadata": {},
   "outputs": [],
   "source": []
  },
  {
   "cell_type": "code",
   "execution_count": 148,
   "id": "5e69dd89-3056-4e08-a3e6-d12e49a0ce69",
   "metadata": {},
   "outputs": [],
   "source": [
    "gs.fit(X_train, y_train);"
   ]
  },
  {
   "cell_type": "code",
   "execution_count": 149,
   "id": "738ad9e4-680c-4b4c-aca2-99defa2c24cc",
   "metadata": {},
   "outputs": [
    {
     "data": {
      "text/plain": [
       "{'classifier__n_neighbors': 9}"
      ]
     },
     "execution_count": 149,
     "metadata": {},
     "output_type": "execute_result"
    }
   ],
   "source": [
    "gs.best_params_"
   ]
  },
  {
   "cell_type": "code",
   "execution_count": null,
   "id": "f14e84a0-d65d-4e5d-8d46-eb2ea486d0e5",
   "metadata": {},
   "outputs": [],
   "source": []
  }
 ],
 "metadata": {
  "kernelspec": {
   "display_name": "Python 3 (ipykernel)",
   "language": "python",
   "name": "python3"
  },
  "language_info": {
   "codemirror_mode": {
    "name": "ipython",
    "version": 3
   },
   "file_extension": ".py",
   "mimetype": "text/x-python",
   "name": "python",
   "nbconvert_exporter": "python",
   "pygments_lexer": "ipython3",
   "version": "3.9.13"
  }
 },
 "nbformat": 4,
 "nbformat_minor": 5
}
