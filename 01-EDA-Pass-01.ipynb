{
 "cells": [
  {
   "cell_type": "code",
   "execution_count": 3,
   "id": "cc8730f5-bb49-4343-8fa6-39ecaf4f7b72",
   "metadata": {},
   "outputs": [],
   "source": [
    "import numpy as np\n",
    "import pandas as pd\n",
    "import matplotlib.pyplot as plt\n",
    "plt.style.use('seaborn-darkgrid')\n",
    "\n",
    "import seaborn as sns\n",
    "SEED = 14"
   ]
  },
  {
   "cell_type": "markdown",
   "id": "2f211d7a-7a1a-4bc6-9415-cb73beb2fcc4",
   "metadata": {},
   "source": [
    "#### Create folder structure"
   ]
  },
  {
   "cell_type": "code",
   "execution_count": 1,
   "id": "90ebe448-4cd6-4fc2-93fe-87c16e17f9b9",
   "metadata": {},
   "outputs": [],
   "source": [
    "import os\n",
    "for d in ['orig\\data', 'output']:\n",
    "    os.makedirs(d, exist_ok=True)"
   ]
  },
  {
   "cell_type": "markdown",
   "id": "0d9b7e82-db94-4396-8771-9dcdcb4f9c2c",
   "metadata": {},
   "source": [
    "### Use *_train for training and testing model\n",
    "#### Build a baseline model\n",
    "#### Use sklearns Pipelines"
   ]
  },
  {
   "cell_type": "markdown",
   "id": "661af6e9-9904-4a42-8c9c-bbd8f854ceb9",
   "metadata": {},
   "source": [
    "Import data to dataframe"
   ]
  },
  {
   "cell_type": "code",
   "execution_count": 12,
   "id": "029f870a-668c-4c6d-9828-f664aba23d47",
   "metadata": {},
   "outputs": [
    {
     "name": "stdout",
     "output_type": "stream",
     "text": [
      "(25012, 2)\n"
     ]
    },
    {
     "data": {
      "text/html": [
       "<div>\n",
       "<style scoped>\n",
       "    .dataframe tbody tr th:only-of-type {\n",
       "        vertical-align: middle;\n",
       "    }\n",
       "\n",
       "    .dataframe tbody tr th {\n",
       "        vertical-align: top;\n",
       "    }\n",
       "\n",
       "    .dataframe thead th {\n",
       "        text-align: right;\n",
       "    }\n",
       "</style>\n",
       "<table border=\"1\" class=\"dataframe\">\n",
       "  <thead>\n",
       "    <tr style=\"text-align: right;\">\n",
       "      <th></th>\n",
       "      <th>Customer</th>\n",
       "      <th>Account</th>\n",
       "    </tr>\n",
       "  </thead>\n",
       "  <tbody>\n",
       "    <tr>\n",
       "      <th>0</th>\n",
       "      <td>828247016</td>\n",
       "      <td>Investment</td>\n",
       "    </tr>\n",
       "    <tr>\n",
       "      <th>1</th>\n",
       "      <td>828247016</td>\n",
       "      <td>Current</td>\n",
       "    </tr>\n",
       "    <tr>\n",
       "      <th>2</th>\n",
       "      <td>828247016</td>\n",
       "      <td>Credit Card</td>\n",
       "    </tr>\n",
       "    <tr>\n",
       "      <th>3</th>\n",
       "      <td>828247016</td>\n",
       "      <td>On Demand Deposit</td>\n",
       "    </tr>\n",
       "    <tr>\n",
       "      <th>4</th>\n",
       "      <td>828247016</td>\n",
       "      <td>Mortgage</td>\n",
       "    </tr>\n",
       "    <tr>\n",
       "      <th>5</th>\n",
       "      <td>828247016</td>\n",
       "      <td>Joint</td>\n",
       "    </tr>\n",
       "    <tr>\n",
       "      <th>6</th>\n",
       "      <td>794487117</td>\n",
       "      <td>On Demand Deposit</td>\n",
       "    </tr>\n",
       "    <tr>\n",
       "      <th>7</th>\n",
       "      <td>794487117</td>\n",
       "      <td>Mortgage</td>\n",
       "    </tr>\n",
       "    <tr>\n",
       "      <th>8</th>\n",
       "      <td>794487117</td>\n",
       "      <td>Current</td>\n",
       "    </tr>\n",
       "    <tr>\n",
       "      <th>9</th>\n",
       "      <td>794487117</td>\n",
       "      <td>Credit Card</td>\n",
       "    </tr>\n",
       "  </tbody>\n",
       "</table>\n",
       "</div>"
      ],
      "text/plain": [
       "    Customer            Account\n",
       "0  828247016         Investment\n",
       "1  828247016            Current\n",
       "2  828247016        Credit Card\n",
       "3  828247016  On Demand Deposit\n",
       "4  828247016           Mortgage\n",
       "5  828247016              Joint\n",
       "6  794487117  On Demand Deposit\n",
       "7  794487117           Mortgage\n",
       "8  794487117            Current\n",
       "9  794487117        Credit Card"
      ]
     },
     "execution_count": 12,
     "metadata": {},
     "output_type": "execute_result"
    }
   ],
   "source": [
    "df_accounts = pd.read_csv(\"orig/accounts_train.csv\")\n",
    "print(df_accounts.shape)\n",
    "df_accounts.head(10)"
   ]
  },
  {
   "cell_type": "code",
   "execution_count": 7,
   "id": "8d6f2396-b25e-419f-9081-a76c2a0dd1dc",
   "metadata": {},
   "outputs": [
    {
     "name": "stdout",
     "output_type": "stream",
     "text": [
      "<class 'pandas.core.frame.DataFrame'>\n",
      "RangeIndex: 25012 entries, 0 to 25011\n",
      "Data columns (total 2 columns):\n",
      " #   Column    Non-Null Count  Dtype \n",
      "---  ------    --------------  ----- \n",
      " 0   Customer  25012 non-null  int64 \n",
      " 1   Account   25012 non-null  object\n",
      "dtypes: int64(1), object(1)\n",
      "memory usage: 390.9+ KB\n"
     ]
    }
   ],
   "source": [
    "df_accounts.info()"
   ]
  },
  {
   "cell_type": "code",
   "execution_count": 13,
   "id": "604da7de-7cc9-4005-b3c2-be630c91e675",
   "metadata": {},
   "outputs": [
    {
     "name": "stdout",
     "output_type": "stream",
     "text": [
      "(6577, 15)\n"
     ]
    },
    {
     "data": {
      "text/html": [
       "<div>\n",
       "<style scoped>\n",
       "    .dataframe tbody tr th:only-of-type {\n",
       "        vertical-align: middle;\n",
       "    }\n",
       "\n",
       "    .dataframe tbody tr th {\n",
       "        vertical-align: top;\n",
       "    }\n",
       "\n",
       "    .dataframe thead th {\n",
       "        text-align: right;\n",
       "    }\n",
       "</style>\n",
       "<table border=\"1\" class=\"dataframe\">\n",
       "  <thead>\n",
       "    <tr style=\"text-align: right;\">\n",
       "      <th></th>\n",
       "      <th>Customer</th>\n",
       "      <th>Churn</th>\n",
       "      <th>Card</th>\n",
       "      <th>Start_Date</th>\n",
       "      <th>Customer_Service_Calls</th>\n",
       "      <th>Credit_Limit</th>\n",
       "      <th>Total_Revolving_Balance</th>\n",
       "      <th>Average_Open_To_Buy</th>\n",
       "      <th>Average_Utilisation_Ratio</th>\n",
       "      <th>Age</th>\n",
       "      <th>Gender</th>\n",
       "      <th>Education</th>\n",
       "      <th>Marital_Status</th>\n",
       "      <th>Dependents</th>\n",
       "      <th>Income</th>\n",
       "    </tr>\n",
       "  </thead>\n",
       "  <tbody>\n",
       "    <tr>\n",
       "      <th>0</th>\n",
       "      <td>797197508</td>\n",
       "      <td>No</td>\n",
       "      <td>Silver</td>\n",
       "      <td>2020-06-01</td>\n",
       "      <td>1</td>\n",
       "      <td>2315.0</td>\n",
       "      <td>1565</td>\n",
       "      <td>750.0</td>\n",
       "      <td>0.676</td>\n",
       "      <td>48.0</td>\n",
       "      <td>F</td>\n",
       "      <td>Graduate</td>\n",
       "      <td>Married</td>\n",
       "      <td>2</td>\n",
       "      <td>Less than €30K</td>\n",
       "    </tr>\n",
       "    <tr>\n",
       "      <th>1</th>\n",
       "      <td>812854728</td>\n",
       "      <td>No</td>\n",
       "      <td>Silver</td>\n",
       "      <td>2020-01-01</td>\n",
       "      <td>1</td>\n",
       "      <td>7645.0</td>\n",
       "      <td>2076</td>\n",
       "      <td>5569.0</td>\n",
       "      <td>0.272</td>\n",
       "      <td>58.0</td>\n",
       "      <td>F</td>\n",
       "      <td>Second level</td>\n",
       "      <td>Single</td>\n",
       "      <td>5</td>\n",
       "      <td>Less than €30K</td>\n",
       "    </tr>\n",
       "    <tr>\n",
       "      <th>2</th>\n",
       "      <td>768000743</td>\n",
       "      <td>No</td>\n",
       "      <td>Silver</td>\n",
       "      <td>2020-01-01</td>\n",
       "      <td>2</td>\n",
       "      <td>6394.0</td>\n",
       "      <td>0</td>\n",
       "      <td>6394.0</td>\n",
       "      <td>0.000</td>\n",
       "      <td>55.0</td>\n",
       "      <td>F</td>\n",
       "      <td>Second level</td>\n",
       "      <td>Single</td>\n",
       "      <td>2</td>\n",
       "      <td>Less than €30K</td>\n",
       "    </tr>\n",
       "    <tr>\n",
       "      <th>3</th>\n",
       "      <td>722161439</td>\n",
       "      <td>No</td>\n",
       "      <td>Silver</td>\n",
       "      <td>2020-08-01</td>\n",
       "      <td>3</td>\n",
       "      <td>4663.0</td>\n",
       "      <td>0</td>\n",
       "      <td>4663.0</td>\n",
       "      <td>0.000</td>\n",
       "      <td>41.0</td>\n",
       "      <td>F</td>\n",
       "      <td>Graduate</td>\n",
       "      <td>NaN</td>\n",
       "      <td>2</td>\n",
       "      <td>€30K - €50K</td>\n",
       "    </tr>\n",
       "    <tr>\n",
       "      <th>4</th>\n",
       "      <td>759029725</td>\n",
       "      <td>No</td>\n",
       "      <td>Silver</td>\n",
       "      <td>2021-02-01</td>\n",
       "      <td>4</td>\n",
       "      <td>1879.0</td>\n",
       "      <td>1486</td>\n",
       "      <td>393.0</td>\n",
       "      <td>0.791</td>\n",
       "      <td>37.0</td>\n",
       "      <td>F</td>\n",
       "      <td>Second level</td>\n",
       "      <td>Single</td>\n",
       "      <td>1</td>\n",
       "      <td>Less than €30K</td>\n",
       "    </tr>\n",
       "    <tr>\n",
       "      <th>5</th>\n",
       "      <td>764982590</td>\n",
       "      <td>No</td>\n",
       "      <td>Silver</td>\n",
       "      <td>2018-10-01</td>\n",
       "      <td>4</td>\n",
       "      <td>6036.0</td>\n",
       "      <td>1409</td>\n",
       "      <td>4627.0</td>\n",
       "      <td>0.233</td>\n",
       "      <td>56.0</td>\n",
       "      <td>M</td>\n",
       "      <td>PhD</td>\n",
       "      <td>Married</td>\n",
       "      <td>2</td>\n",
       "      <td>€50K - €80K</td>\n",
       "    </tr>\n",
       "    <tr>\n",
       "      <th>6</th>\n",
       "      <td>726241334</td>\n",
       "      <td>No</td>\n",
       "      <td>Platinum</td>\n",
       "      <td>2019-02-01</td>\n",
       "      <td>1</td>\n",
       "      <td>34516.0</td>\n",
       "      <td>1464</td>\n",
       "      <td>33052.0</td>\n",
       "      <td>0.042</td>\n",
       "      <td>52.0</td>\n",
       "      <td>M</td>\n",
       "      <td>Post LC</td>\n",
       "      <td>Married</td>\n",
       "      <td>0</td>\n",
       "      <td>€100K +</td>\n",
       "    </tr>\n",
       "    <tr>\n",
       "      <th>7</th>\n",
       "      <td>816118170</td>\n",
       "      <td>Yes</td>\n",
       "      <td>Silver</td>\n",
       "      <td>2020-01-01</td>\n",
       "      <td>2</td>\n",
       "      <td>1819.0</td>\n",
       "      <td>725</td>\n",
       "      <td>1094.0</td>\n",
       "      <td>0.399</td>\n",
       "      <td>NaN</td>\n",
       "      <td>M</td>\n",
       "      <td>Graduate</td>\n",
       "      <td>Single</td>\n",
       "      <td>1</td>\n",
       "      <td>€50K - €80K</td>\n",
       "    </tr>\n",
       "    <tr>\n",
       "      <th>8</th>\n",
       "      <td>794814582</td>\n",
       "      <td>No</td>\n",
       "      <td>Silver</td>\n",
       "      <td>2021-04-01</td>\n",
       "      <td>2</td>\n",
       "      <td>2591.0</td>\n",
       "      <td>2340</td>\n",
       "      <td>251.0</td>\n",
       "      <td>0.903</td>\n",
       "      <td>33.0</td>\n",
       "      <td>F</td>\n",
       "      <td>Graduate</td>\n",
       "      <td>Married</td>\n",
       "      <td>1</td>\n",
       "      <td>Less than €30K</td>\n",
       "    </tr>\n",
       "    <tr>\n",
       "      <th>9</th>\n",
       "      <td>782671532</td>\n",
       "      <td>No</td>\n",
       "      <td>Silver</td>\n",
       "      <td>2019-02-01</td>\n",
       "      <td>3</td>\n",
       "      <td>1438.3</td>\n",
       "      <td>0</td>\n",
       "      <td>1438.3</td>\n",
       "      <td>0.000</td>\n",
       "      <td>61.0</td>\n",
       "      <td>F</td>\n",
       "      <td>Unknown</td>\n",
       "      <td>Married</td>\n",
       "      <td>1</td>\n",
       "      <td>Unknown</td>\n",
       "    </tr>\n",
       "  </tbody>\n",
       "</table>\n",
       "</div>"
      ],
      "text/plain": [
       "    Customer Churn      Card  Start_Date  Customer_Service_Calls  \\\n",
       "0  797197508    No    Silver  2020-06-01                       1   \n",
       "1  812854728    No    Silver  2020-01-01                       1   \n",
       "2  768000743    No    Silver  2020-01-01                       2   \n",
       "3  722161439    No    Silver  2020-08-01                       3   \n",
       "4  759029725    No    Silver  2021-02-01                       4   \n",
       "5  764982590    No    Silver  2018-10-01                       4   \n",
       "6  726241334    No  Platinum  2019-02-01                       1   \n",
       "7  816118170   Yes    Silver  2020-01-01                       2   \n",
       "8  794814582    No    Silver  2021-04-01                       2   \n",
       "9  782671532    No    Silver  2019-02-01                       3   \n",
       "\n",
       "   Credit_Limit  Total_Revolving_Balance  Average_Open_To_Buy  \\\n",
       "0        2315.0                     1565                750.0   \n",
       "1        7645.0                     2076               5569.0   \n",
       "2        6394.0                        0               6394.0   \n",
       "3        4663.0                        0               4663.0   \n",
       "4        1879.0                     1486                393.0   \n",
       "5        6036.0                     1409               4627.0   \n",
       "6       34516.0                     1464              33052.0   \n",
       "7        1819.0                      725               1094.0   \n",
       "8        2591.0                     2340                251.0   \n",
       "9        1438.3                        0               1438.3   \n",
       "\n",
       "   Average_Utilisation_Ratio   Age Gender     Education Marital_Status  \\\n",
       "0                      0.676  48.0      F      Graduate        Married   \n",
       "1                      0.272  58.0      F  Second level         Single   \n",
       "2                      0.000  55.0      F  Second level         Single   \n",
       "3                      0.000  41.0      F      Graduate            NaN   \n",
       "4                      0.791  37.0      F  Second level         Single   \n",
       "5                      0.233  56.0      M           PhD        Married   \n",
       "6                      0.042  52.0      M       Post LC        Married   \n",
       "7                      0.399   NaN      M      Graduate         Single   \n",
       "8                      0.903  33.0      F      Graduate        Married   \n",
       "9                      0.000  61.0      F       Unknown        Married   \n",
       "\n",
       "   Dependents          Income  \n",
       "0           2  Less than €30K  \n",
       "1           5  Less than €30K  \n",
       "2           2  Less than €30K  \n",
       "3           2     €30K - €50K  \n",
       "4           1  Less than €30K  \n",
       "5           2     €50K - €80K  \n",
       "6           0         €100K +  \n",
       "7           1     €50K - €80K  \n",
       "8           1  Less than €30K  \n",
       "9           1         Unknown  "
      ]
     },
     "execution_count": 13,
     "metadata": {},
     "output_type": "execute_result"
    }
   ],
   "source": [
    "df_customers = pd.read_csv(\"orig/customers_train.csv\")\n",
    "print(df_customers.shape)\n",
    "df_customers.head(10)"
   ]
  },
  {
   "cell_type": "code",
   "execution_count": 8,
   "id": "fe071105-d7ea-4d7e-84ea-281810ee068e",
   "metadata": {},
   "outputs": [
    {
     "name": "stdout",
     "output_type": "stream",
     "text": [
      "<class 'pandas.core.frame.DataFrame'>\n",
      "RangeIndex: 6577 entries, 0 to 6576\n",
      "Data columns (total 15 columns):\n",
      " #   Column                     Non-Null Count  Dtype  \n",
      "---  ------                     --------------  -----  \n",
      " 0   Customer                   6577 non-null   int64  \n",
      " 1   Churn                      6556 non-null   object \n",
      " 2   Card                       6577 non-null   object \n",
      " 3   Start_Date                 6577 non-null   object \n",
      " 4   Customer_Service_Calls     6577 non-null   int64  \n",
      " 5   Credit_Limit               6577 non-null   float64\n",
      " 6   Total_Revolving_Balance    6577 non-null   int64  \n",
      " 7   Average_Open_To_Buy        6577 non-null   float64\n",
      " 8   Average_Utilisation_Ratio  6577 non-null   float64\n",
      " 9   Age                        6312 non-null   float64\n",
      " 10  Gender                     6577 non-null   object \n",
      " 11  Education                  6577 non-null   object \n",
      " 12  Marital_Status             6102 non-null   object \n",
      " 13  Dependents                 6577 non-null   int64  \n",
      " 14  Income                     6577 non-null   object \n",
      "dtypes: float64(4), int64(4), object(7)\n",
      "memory usage: 770.9+ KB\n"
     ]
    }
   ],
   "source": [
    "df_customers.info()"
   ]
  },
  {
   "cell_type": "markdown",
   "id": "5fdd751a-45df-474e-916b-56983d50e1da",
   "metadata": {},
   "source": [
    "What % of customers churn?"
   ]
  },
  {
   "cell_type": "code",
   "execution_count": 11,
   "id": "07a7c817-9bc6-4ef3-8ec7-8b4ade9244c6",
   "metadata": {},
   "outputs": [
    {
     "data": {
      "text/plain": [
       "No     0.842282\n",
       "Yes    0.157718\n",
       "Name: Churn, dtype: float64"
      ]
     },
     "execution_count": 11,
     "metadata": {},
     "output_type": "execute_result"
    }
   ],
   "source": [
    "df_customers.Churn.value_counts(normalize=True)"
   ]
  },
  {
   "cell_type": "code",
   "execution_count": 6,
   "id": "04114a9b-b2ed-4352-a92c-95f9bce165c7",
   "metadata": {},
   "outputs": [
    {
     "name": "stdout",
     "output_type": "stream",
     "text": [
      "(514611, 3)\n"
     ]
    },
    {
     "data": {
      "text/html": [
       "<div>\n",
       "<style scoped>\n",
       "    .dataframe tbody tr th:only-of-type {\n",
       "        vertical-align: middle;\n",
       "    }\n",
       "\n",
       "    .dataframe tbody tr th {\n",
       "        vertical-align: top;\n",
       "    }\n",
       "\n",
       "    .dataframe thead th {\n",
       "        text-align: right;\n",
       "    }\n",
       "</style>\n",
       "<table border=\"1\" class=\"dataframe\">\n",
       "  <thead>\n",
       "    <tr style=\"text-align: right;\">\n",
       "      <th></th>\n",
       "      <th>Customer</th>\n",
       "      <th>Date</th>\n",
       "      <th>Amount</th>\n",
       "    </tr>\n",
       "  </thead>\n",
       "  <tbody>\n",
       "    <tr>\n",
       "      <th>0</th>\n",
       "      <td>828247016</td>\n",
       "      <td>2022-03-01</td>\n",
       "      <td>70.94</td>\n",
       "    </tr>\n",
       "    <tr>\n",
       "      <th>1</th>\n",
       "      <td>828247016</td>\n",
       "      <td>2022-02-21</td>\n",
       "      <td>52.16</td>\n",
       "    </tr>\n",
       "    <tr>\n",
       "      <th>2</th>\n",
       "      <td>828247016</td>\n",
       "      <td>2022-02-19</td>\n",
       "      <td>67.03</td>\n",
       "    </tr>\n",
       "    <tr>\n",
       "      <th>3</th>\n",
       "      <td>828247016</td>\n",
       "      <td>2022-02-19</td>\n",
       "      <td>48.24</td>\n",
       "    </tr>\n",
       "    <tr>\n",
       "      <th>4</th>\n",
       "      <td>828247016</td>\n",
       "      <td>2022-05-20</td>\n",
       "      <td>10.97</td>\n",
       "    </tr>\n",
       "  </tbody>\n",
       "</table>\n",
       "</div>"
      ],
      "text/plain": [
       "    Customer        Date  Amount\n",
       "0  828247016  2022-03-01   70.94\n",
       "1  828247016  2022-02-21   52.16\n",
       "2  828247016  2022-02-19   67.03\n",
       "3  828247016  2022-02-19   48.24\n",
       "4  828247016  2022-05-20   10.97"
      ]
     },
     "execution_count": 6,
     "metadata": {},
     "output_type": "execute_result"
    }
   ],
   "source": [
    "df_transactions = pd.read_csv(\"orig/transactions_train.csv\")\n",
    "print(df_transactions.shape)\n",
    "df_transactions.head(5)"
   ]
  },
  {
   "cell_type": "code",
   "execution_count": 9,
   "id": "9c97388d-27b4-4650-8ab1-c7c4812dccc2",
   "metadata": {},
   "outputs": [
    {
     "name": "stdout",
     "output_type": "stream",
     "text": [
      "<class 'pandas.core.frame.DataFrame'>\n",
      "RangeIndex: 514611 entries, 0 to 514610\n",
      "Data columns (total 3 columns):\n",
      " #   Column    Non-Null Count   Dtype  \n",
      "---  ------    --------------   -----  \n",
      " 0   Customer  514611 non-null  int64  \n",
      " 1   Date      514611 non-null  object \n",
      " 2   Amount    514611 non-null  float64\n",
      "dtypes: float64(1), int64(1), object(1)\n",
      "memory usage: 11.8+ MB\n"
     ]
    }
   ],
   "source": [
    "df_transactions.info()"
   ]
  },
  {
   "cell_type": "markdown",
   "id": "d85c1595-e11c-4f9c-b2fe-a18c2b30f95d",
   "metadata": {},
   "source": [
    "### Identify Categorical and numerical features\n",
    "Looking at the customer df only initially"
   ]
  },
  {
   "cell_type": "code",
   "execution_count": 14,
   "id": "3a3b44ef-2e3c-4b8f-a514-681220724af8",
   "metadata": {},
   "outputs": [],
   "source": [
    "df_customers.Gender = pd.Categorical(df_customers.Gender)\n",
    "df_customers.Marital_Status = pd.Categorical(df_customers.Marital_Status)\n"
   ]
  },
  {
   "cell_type": "code",
   "execution_count": 15,
   "id": "7e060175-69c7-4914-92a7-d46981ff4b74",
   "metadata": {},
   "outputs": [
    {
     "name": "stdout",
     "output_type": "stream",
     "text": [
      "<class 'pandas.core.frame.DataFrame'>\n",
      "RangeIndex: 6577 entries, 0 to 6576\n",
      "Data columns (total 15 columns):\n",
      " #   Column                     Non-Null Count  Dtype   \n",
      "---  ------                     --------------  -----   \n",
      " 0   Customer                   6577 non-null   int64   \n",
      " 1   Churn                      6556 non-null   object  \n",
      " 2   Card                       6577 non-null   object  \n",
      " 3   Start_Date                 6577 non-null   object  \n",
      " 4   Customer_Service_Calls     6577 non-null   int64   \n",
      " 5   Credit_Limit               6577 non-null   float64 \n",
      " 6   Total_Revolving_Balance    6577 non-null   int64   \n",
      " 7   Average_Open_To_Buy        6577 non-null   float64 \n",
      " 8   Average_Utilisation_Ratio  6577 non-null   float64 \n",
      " 9   Age                        6312 non-null   float64 \n",
      " 10  Gender                     6577 non-null   category\n",
      " 11  Education                  6577 non-null   object  \n",
      " 12  Marital_Status             6102 non-null   category\n",
      " 13  Dependents                 6577 non-null   int64   \n",
      " 14  Income                     6577 non-null   object  \n",
      "dtypes: category(2), float64(4), int64(4), object(5)\n",
      "memory usage: 681.2+ KB\n"
     ]
    }
   ],
   "source": [
    "df_customers.info()"
   ]
  },
  {
   "cell_type": "code",
   "execution_count": 16,
   "id": "bd8eec44-9e5c-4209-a6ca-e8670e826687",
   "metadata": {},
   "outputs": [],
   "source": [
    "categorical_features = ['Gender', 'Marital_Status']\n",
    "numerical_features = ['Customer_Service_Calls','Credit_Limit','Total_Revolving_Balance','Average_Open_To_Buy', 'Average_Utilisation_Ratio','Age','Dependents']\n",
    "\n",
    "other_features = ['Card', 'Start_Date','Education', 'Income']\n",
    "\n",
    "features = categorical_features + numerical_features + other_features\n",
    "\n",
    "target = 'Churn'\n",
    "\n",
    "variables = features + [target]"
   ]
  },
  {
   "cell_type": "markdown",
   "id": "e160a185-03d1-4167-9332-648ab8caf88c",
   "metadata": {},
   "source": [
    "1st pass we will drop missing values (so we run a model as fast as possible to see baseline)"
   ]
  },
  {
   "cell_type": "code",
   "execution_count": 17,
   "id": "0c7f32e6-d55a-4f83-a312-f067f7511a37",
   "metadata": {},
   "outputs": [
    {
     "data": {
      "text/plain": [
       "(5831, 14)"
      ]
     },
     "execution_count": 17,
     "metadata": {},
     "output_type": "execute_result"
    }
   ],
   "source": [
    "df_model = df_customers[variables].dropna()\n",
    "df_model.shape"
   ]
  },
  {
   "cell_type": "markdown",
   "id": "1cb4a708-d17b-4d07-94e5-f0421abb279f",
   "metadata": {},
   "source": [
    "### Train / Test Split"
   ]
  },
  {
   "cell_type": "code",
   "execution_count": 18,
   "id": "9f3a878a-6f44-42aa-9d25-c6d10034e3c6",
   "metadata": {},
   "outputs": [],
   "source": [
    "from sklearn.model_selection import train_test_split\n",
    "X_train, X_test, y_train, y_test = train_test_split(df_model[features], df_model.Churn, \n",
    "    train_size=0.6, random_state=SEED)"
   ]
  },
  {
   "cell_type": "markdown",
   "id": "98d6091c-2cf4-4d81-a339-4b90c58b10da",
   "metadata": {},
   "source": [
    "### Import Classifiers"
   ]
  },
  {
   "cell_type": "code",
   "execution_count": 19,
   "id": "76d40ddd-ebf3-4ff3-ac70-6ec91aaf83e8",
   "metadata": {},
   "outputs": [],
   "source": [
    "from sklearn.linear_model import LogisticRegression\n",
    "from sklearn.neighbors import KNeighborsClassifier\n",
    "from sklearn.naive_bayes import BernoulliNB\n",
    "from sklearn.ensemble import AdaBoostClassifier"
   ]
  },
  {
   "cell_type": "markdown",
   "id": "e3295615-f6e5-4d96-a8b6-2cd0517e2966",
   "metadata": {},
   "source": [
    "### Build a Pipeline"
   ]
  },
  {
   "cell_type": "code",
   "execution_count": 20,
   "id": "46a79c04-dc47-4bd4-9919-3b7c8501a164",
   "metadata": {},
   "outputs": [],
   "source": [
    "from sklearn.compose import ColumnTransformer\n",
    "from sklearn import preprocessing\n",
    "column_transformer = ColumnTransformer([\n",
    "    # List of transformation to apply and which columns to apply it to. Each entry here has structure \n",
    "    #( NAME,                  CODE,                           COLUMNS_TO_APPLY),\n",
    "    ( 'categorical_features', preprocessing.OneHotEncoder(),  categorical_features ),\n",
    "    ( 'numerical_features',   preprocessing.StandardScaler(), numerical_features ),\n",
    "])"
   ]
  },
  {
   "cell_type": "code",
   "execution_count": 22,
   "id": "b108410a-7b9d-4b9a-9d9b-3b2ddc845b07",
   "metadata": {},
   "outputs": [],
   "source": [
    "from sklearn.pipeline import Pipeline\n",
    "pipeline = Pipeline(steps=[\n",
    "    ( 'column_transformer', column_transformer ),\n",
    "    ( 'classifier', LogisticRegression() ),\n",
    "])"
   ]
  },
  {
   "cell_type": "markdown",
   "id": "3dcb2d71-d16d-4348-9e0c-4fe0844ecfea",
   "metadata": {},
   "source": [
    "### Score the model using cross validation scoring function to see how good the initial one is"
   ]
  },
  {
   "cell_type": "code",
   "execution_count": 26,
   "id": "2d264ada-bdb3-4e85-9a8f-303b40f4b4aa",
   "metadata": {},
   "outputs": [
    {
     "name": "stdout",
     "output_type": "stream",
     "text": [
      "CV estimate of accuracy is 85.33% +/ 0.25%\n"
     ]
    }
   ],
   "source": [
    "from sklearn.model_selection import cross_val_score\n",
    "scores = cross_val_score(pipeline, X_train, y_train, cv=5)\n",
    "print(f\"CV estimate of accuracy is {scores.mean():.2%} +/ {2*scores.std()/len(scores):.2%}\")"
   ]
  },
  {
   "cell_type": "markdown",
   "id": "f3cf25c1-7d0b-4922-b196-90fa033bc51e",
   "metadata": {},
   "source": [
    "### Initial run CV estimate of accuracy is 85.33% +/ 0.25%"
   ]
  },
  {
   "cell_type": "code",
   "execution_count": 27,
   "id": "bb7eff7e-fd58-40bc-b7f0-16f92b786cc8",
   "metadata": {},
   "outputs": [],
   "source": [
    "from sklearn.pipeline import Pipeline\n",
    "pipeline = Pipeline(steps=[\n",
    "    ( 'column_transformer', column_transformer ),\n",
    "    ( 'classifier', AdaBoostClassifier() ),\n",
    "])"
   ]
  },
  {
   "cell_type": "code",
   "execution_count": 28,
   "id": "92c9b663-6136-4030-aa98-3206489df46a",
   "metadata": {},
   "outputs": [
    {
     "name": "stdout",
     "output_type": "stream",
     "text": [
      "CV estimate of accuracy is 84.93% +/ 0.49%\n"
     ]
    }
   ],
   "source": [
    "from sklearn.model_selection import cross_val_score\n",
    "scores = cross_val_score(pipeline, X_train, y_train, cv=5)\n",
    "print(f\"CV estimate of accuracy is {scores.mean():.2%} +/ {2*scores.std()/len(scores):.2%}\")"
   ]
  },
  {
   "cell_type": "markdown",
   "id": "116f84c4-b213-4535-8427-f20fa15e9bd9",
   "metadata": {},
   "source": [
    "CV estimate of accuracy is 84.93% +/ 0.49%"
   ]
  },
  {
   "cell_type": "code",
   "execution_count": 30,
   "id": "6ba97432-a566-4014-953e-a874cf159e91",
   "metadata": {},
   "outputs": [],
   "source": [
    "from sklearn.pipeline import Pipeline\n",
    "pipeline = Pipeline(steps=[\n",
    "    ( 'column_transformer', column_transformer ),\n",
    "    ( 'classifier', BernoulliNB() ),\n",
    "])"
   ]
  },
  {
   "cell_type": "code",
   "execution_count": 31,
   "id": "31f1dd4d-b305-44cb-9ff4-9b3cc7658cf1",
   "metadata": {},
   "outputs": [
    {
     "name": "stdout",
     "output_type": "stream",
     "text": [
      "CV estimate of accuracy is 84.25% +/ 0.23%\n"
     ]
    }
   ],
   "source": [
    "from sklearn.model_selection import cross_val_score\n",
    "scores = cross_val_score(pipeline, X_train, y_train, cv=5)\n",
    "print(f\"CV estimate of accuracy is {scores.mean():.2%} +/ {2*scores.std()/len(scores):.2%}\")"
   ]
  },
  {
   "cell_type": "markdown",
   "id": "9ede68e0-cfa7-4007-8fc7-96ed77f3f0a4",
   "metadata": {},
   "source": [
    "CV estimate of accuracy is 84.25% +/ 0.23%"
   ]
  },
  {
   "cell_type": "code",
   "execution_count": 32,
   "id": "855c5522-249d-4169-910d-93e3b40cf840",
   "metadata": {},
   "outputs": [],
   "source": [
    "from sklearn.pipeline import Pipeline\n",
    "pipeline = Pipeline(steps=[\n",
    "    ( 'column_transformer', column_transformer ),\n",
    "    ( 'classifier', KNeighborsClassifier() ),\n",
    "])"
   ]
  },
  {
   "cell_type": "code",
   "execution_count": 33,
   "id": "4359270c-dcba-4ac4-a5de-d5c0d9b14ca9",
   "metadata": {},
   "outputs": [
    {
     "name": "stderr",
     "output_type": "stream",
     "text": [
      "C:\\Users\\mccab\\anaconda3\\lib\\site-packages\\sklearn\\neighbors\\_classification.py:228: FutureWarning: Unlike other reduction functions (e.g. `skew`, `kurtosis`), the default behavior of `mode` typically preserves the axis it acts along. In SciPy 1.11.0, this behavior will change: the default value of `keepdims` will become False, the `axis` over which the statistic is taken will be eliminated, and the value None will no longer be accepted. Set `keepdims` to True or False to avoid this warning.\n",
      "  mode, _ = stats.mode(_y[neigh_ind, k], axis=1)\n",
      "C:\\Users\\mccab\\anaconda3\\lib\\site-packages\\sklearn\\neighbors\\_classification.py:228: FutureWarning: Unlike other reduction functions (e.g. `skew`, `kurtosis`), the default behavior of `mode` typically preserves the axis it acts along. In SciPy 1.11.0, this behavior will change: the default value of `keepdims` will become False, the `axis` over which the statistic is taken will be eliminated, and the value None will no longer be accepted. Set `keepdims` to True or False to avoid this warning.\n",
      "  mode, _ = stats.mode(_y[neigh_ind, k], axis=1)\n",
      "C:\\Users\\mccab\\anaconda3\\lib\\site-packages\\sklearn\\neighbors\\_classification.py:228: FutureWarning: Unlike other reduction functions (e.g. `skew`, `kurtosis`), the default behavior of `mode` typically preserves the axis it acts along. In SciPy 1.11.0, this behavior will change: the default value of `keepdims` will become False, the `axis` over which the statistic is taken will be eliminated, and the value None will no longer be accepted. Set `keepdims` to True or False to avoid this warning.\n",
      "  mode, _ = stats.mode(_y[neigh_ind, k], axis=1)\n",
      "C:\\Users\\mccab\\anaconda3\\lib\\site-packages\\sklearn\\neighbors\\_classification.py:228: FutureWarning: Unlike other reduction functions (e.g. `skew`, `kurtosis`), the default behavior of `mode` typically preserves the axis it acts along. In SciPy 1.11.0, this behavior will change: the default value of `keepdims` will become False, the `axis` over which the statistic is taken will be eliminated, and the value None will no longer be accepted. Set `keepdims` to True or False to avoid this warning.\n",
      "  mode, _ = stats.mode(_y[neigh_ind, k], axis=1)\n",
      "C:\\Users\\mccab\\anaconda3\\lib\\site-packages\\sklearn\\neighbors\\_classification.py:228: FutureWarning: Unlike other reduction functions (e.g. `skew`, `kurtosis`), the default behavior of `mode` typically preserves the axis it acts along. In SciPy 1.11.0, this behavior will change: the default value of `keepdims` will become False, the `axis` over which the statistic is taken will be eliminated, and the value None will no longer be accepted. Set `keepdims` to True or False to avoid this warning.\n",
      "  mode, _ = stats.mode(_y[neigh_ind, k], axis=1)\n"
     ]
    },
    {
     "name": "stdout",
     "output_type": "stream",
     "text": [
      "CV estimate of accuracy is 83.70% +/ 0.41%\n"
     ]
    }
   ],
   "source": [
    "from sklearn.model_selection import cross_val_score\n",
    "scores = cross_val_score(pipeline, X_train, y_train, cv=5)\n",
    "print(f\"CV estimate of accuracy is {scores.mean():.2%} +/ {2*scores.std()/len(scores):.2%}\")"
   ]
  },
  {
   "cell_type": "markdown",
   "id": "5533e1bd-a5ff-434e-98ef-b0fa8962a4ba",
   "metadata": {},
   "source": [
    "CV estimate of accuracy is 83.70% +/ 0.41%"
   ]
  },
  {
   "cell_type": "code",
   "execution_count": null,
   "id": "c5b4501a-8b57-47eb-b7a4-ee894d62dcb3",
   "metadata": {},
   "outputs": [],
   "source": []
  }
 ],
 "metadata": {
  "kernelspec": {
   "display_name": "Python 3 (ipykernel)",
   "language": "python",
   "name": "python3"
  },
  "language_info": {
   "codemirror_mode": {
    "name": "ipython",
    "version": 3
   },
   "file_extension": ".py",
   "mimetype": "text/x-python",
   "name": "python",
   "nbconvert_exporter": "python",
   "pygments_lexer": "ipython3",
   "version": "3.9.13"
  }
 },
 "nbformat": 4,
 "nbformat_minor": 5
}
