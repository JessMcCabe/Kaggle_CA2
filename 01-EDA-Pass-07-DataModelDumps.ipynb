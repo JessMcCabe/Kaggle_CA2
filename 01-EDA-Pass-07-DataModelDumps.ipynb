{
 "cells": [
  {
   "cell_type": "markdown",
   "id": "aeba473c-1275-4825-b2d7-1bc055fa193d",
   "metadata": {},
   "source": [
    "# **Who cut my card?**\n",
    "### Given personal, banking history and credit card transactions, which customers are likely to cancel their credit card?\n",
    "\n",
    "<br>\n",
    "\n",
    "## Approach\n",
    "1. Data is in the form of 3 different datasets. I want to submit only one dataset to the model so I will merge the 3 datasets into one.\n",
    "2. For each data set, examine the features - what feature should be categorical, what features can we engineer from existing data?\n",
    "3. Examine the data as a whole, what does our data look like, do we have any outliers, is our data skewed, what features will be good predictors?"
   ]
  },
  {
   "cell_type": "markdown",
   "id": "8ceaba96-102a-4a4a-9640-338093dc2105",
   "metadata": {},
   "source": [
    "<br>\n",
    "IMPORTS\n"
   ]
  },
  {
   "cell_type": "code",
   "execution_count": 4,
   "id": "cc8730f5-bb49-4343-8fa6-39ecaf4f7b72",
   "metadata": {},
   "outputs": [],
   "source": [
    "import numpy as np\n",
    "import pandas as pd\n",
    "import matplotlib.pyplot as plt\n",
    "plt.style.use('seaborn-darkgrid')\n",
    "\n",
    "import seaborn as sns\n",
    "SEED = 14"
   ]
  },
  {
   "cell_type": "markdown",
   "id": "2f211d7a-7a1a-4bc6-9415-cb73beb2fcc4",
   "metadata": {},
   "source": [
    "#### Create folder structure"
   ]
  },
  {
   "cell_type": "code",
   "execution_count": 5,
   "id": "90ebe448-4cd6-4fc2-93fe-87c16e17f9b9",
   "metadata": {},
   "outputs": [],
   "source": [
    "import os\n",
    "for d in ['orig\\data', 'output']:\n",
    "    os.makedirs(d, exist_ok=True)"
   ]
  },
  {
   "cell_type": "markdown",
   "id": "661af6e9-9904-4a42-8c9c-bbd8f854ceb9",
   "metadata": {},
   "source": [
    "#### Import accounts.csv data to dataframe"
   ]
  },
  {
   "cell_type": "code",
   "execution_count": 6,
   "id": "029f870a-668c-4c6d-9828-f664aba23d47",
   "metadata": {},
   "outputs": [
    {
     "name": "stdout",
     "output_type": "stream",
     "text": [
      "(25012, 2)\n"
     ]
    },
    {
     "data": {
      "text/html": [
       "<div>\n",
       "<style scoped>\n",
       "    .dataframe tbody tr th:only-of-type {\n",
       "        vertical-align: middle;\n",
       "    }\n",
       "\n",
       "    .dataframe tbody tr th {\n",
       "        vertical-align: top;\n",
       "    }\n",
       "\n",
       "    .dataframe thead th {\n",
       "        text-align: right;\n",
       "    }\n",
       "</style>\n",
       "<table border=\"1\" class=\"dataframe\">\n",
       "  <thead>\n",
       "    <tr style=\"text-align: right;\">\n",
       "      <th></th>\n",
       "      <th>Customer</th>\n",
       "      <th>Account</th>\n",
       "    </tr>\n",
       "  </thead>\n",
       "  <tbody>\n",
       "    <tr>\n",
       "      <th>0</th>\n",
       "      <td>828247016</td>\n",
       "      <td>Investment</td>\n",
       "    </tr>\n",
       "    <tr>\n",
       "      <th>1</th>\n",
       "      <td>828247016</td>\n",
       "      <td>Current</td>\n",
       "    </tr>\n",
       "    <tr>\n",
       "      <th>2</th>\n",
       "      <td>828247016</td>\n",
       "      <td>Credit Card</td>\n",
       "    </tr>\n",
       "    <tr>\n",
       "      <th>3</th>\n",
       "      <td>828247016</td>\n",
       "      <td>On Demand Deposit</td>\n",
       "    </tr>\n",
       "    <tr>\n",
       "      <th>4</th>\n",
       "      <td>828247016</td>\n",
       "      <td>Mortgage</td>\n",
       "    </tr>\n",
       "    <tr>\n",
       "      <th>5</th>\n",
       "      <td>828247016</td>\n",
       "      <td>Joint</td>\n",
       "    </tr>\n",
       "    <tr>\n",
       "      <th>6</th>\n",
       "      <td>794487117</td>\n",
       "      <td>On Demand Deposit</td>\n",
       "    </tr>\n",
       "    <tr>\n",
       "      <th>7</th>\n",
       "      <td>794487117</td>\n",
       "      <td>Mortgage</td>\n",
       "    </tr>\n",
       "    <tr>\n",
       "      <th>8</th>\n",
       "      <td>794487117</td>\n",
       "      <td>Current</td>\n",
       "    </tr>\n",
       "    <tr>\n",
       "      <th>9</th>\n",
       "      <td>794487117</td>\n",
       "      <td>Credit Card</td>\n",
       "    </tr>\n",
       "  </tbody>\n",
       "</table>\n",
       "</div>"
      ],
      "text/plain": [
       "    Customer            Account\n",
       "0  828247016         Investment\n",
       "1  828247016            Current\n",
       "2  828247016        Credit Card\n",
       "3  828247016  On Demand Deposit\n",
       "4  828247016           Mortgage\n",
       "5  828247016              Joint\n",
       "6  794487117  On Demand Deposit\n",
       "7  794487117           Mortgage\n",
       "8  794487117            Current\n",
       "9  794487117        Credit Card"
      ]
     },
     "execution_count": 6,
     "metadata": {},
     "output_type": "execute_result"
    }
   ],
   "source": [
    "df_accounts = pd.read_csv(\"orig/accounts_train.csv\")\n",
    "print(df_accounts.shape)\n",
    "df_accounts.head(10)"
   ]
  },
  {
   "cell_type": "markdown",
   "id": "633b8a17-392f-4ba6-bafb-6dbe04082919",
   "metadata": {
    "tags": []
   },
   "source": [
    "<br>\n",
    "\n",
    "### First of all, make each account a binary feature as each account customer relates to multiple accounts. This will give us one observation per customer\n"
   ]
  },
  {
   "cell_type": "code",
   "execution_count": 7,
   "id": "241ded49-10d6-4663-864d-38dc371d22fb",
   "metadata": {},
   "outputs": [],
   "source": [
    "cols = df_accounts.Account.unique()\n"
   ]
  },
  {
   "cell_type": "code",
   "execution_count": 8,
   "id": "934a077d-97d3-4400-bbc5-bfa5a9bd440c",
   "metadata": {},
   "outputs": [
    {
     "data": {
      "text/html": [
       "<div>\n",
       "<style scoped>\n",
       "    .dataframe tbody tr th:only-of-type {\n",
       "        vertical-align: middle;\n",
       "    }\n",
       "\n",
       "    .dataframe tbody tr th {\n",
       "        vertical-align: top;\n",
       "    }\n",
       "\n",
       "    .dataframe thead th {\n",
       "        text-align: right;\n",
       "    }\n",
       "</style>\n",
       "<table border=\"1\" class=\"dataframe\">\n",
       "  <thead>\n",
       "    <tr style=\"text-align: right;\">\n",
       "      <th></th>\n",
       "      <th>Joint</th>\n",
       "      <th>Deposit</th>\n",
       "      <th>Current</th>\n",
       "      <th>Investment</th>\n",
       "      <th>Mortgage</th>\n",
       "      <th>Credit_Card</th>\n",
       "      <th>On_Demand_Deposit</th>\n",
       "      <th>Loan</th>\n",
       "    </tr>\n",
       "  </thead>\n",
       "  <tbody>\n",
       "  </tbody>\n",
       "</table>\n",
       "</div>"
      ],
      "text/plain": [
       "Empty DataFrame\n",
       "Columns: [Joint, Deposit, Current, Investment, Mortgage, Credit_Card, On_Demand_Deposit, Loan]\n",
       "Index: []"
      ]
     },
     "execution_count": 8,
     "metadata": {},
     "output_type": "execute_result"
    }
   ],
   "source": [
    "df_accounts2 = pd.DataFrame(columns ={'Investment', 'Current', 'Credit_Card', 'On_Demand_Deposit','Mortgage', 'Joint', 'Deposit', 'Loan'})\n",
    "df_accounts2"
   ]
  },
  {
   "cell_type": "code",
   "execution_count": 9,
   "id": "394ad956-3b71-4efb-a50c-84fdd4cec160",
   "metadata": {},
   "outputs": [
    {
     "data": {
      "text/html": [
       "<div>\n",
       "<style scoped>\n",
       "    .dataframe tbody tr th:only-of-type {\n",
       "        vertical-align: middle;\n",
       "    }\n",
       "\n",
       "    .dataframe tbody tr th {\n",
       "        vertical-align: top;\n",
       "    }\n",
       "\n",
       "    .dataframe thead th {\n",
       "        text-align: right;\n",
       "    }\n",
       "</style>\n",
       "<table border=\"1\" class=\"dataframe\">\n",
       "  <thead>\n",
       "    <tr style=\"text-align: right;\">\n",
       "      <th></th>\n",
       "      <th>Customer</th>\n",
       "      <th>Account</th>\n",
       "      <th>Joint</th>\n",
       "      <th>Deposit</th>\n",
       "      <th>Current</th>\n",
       "      <th>Investment</th>\n",
       "      <th>Mortgage</th>\n",
       "      <th>Credit_Card</th>\n",
       "      <th>On_Demand_Deposit</th>\n",
       "      <th>Loan</th>\n",
       "    </tr>\n",
       "  </thead>\n",
       "  <tbody>\n",
       "    <tr>\n",
       "      <th>0</th>\n",
       "      <td>828247016.0</td>\n",
       "      <td>Investment</td>\n",
       "      <td>NaN</td>\n",
       "      <td>NaN</td>\n",
       "      <td>NaN</td>\n",
       "      <td>NaN</td>\n",
       "      <td>NaN</td>\n",
       "      <td>NaN</td>\n",
       "      <td>NaN</td>\n",
       "      <td>NaN</td>\n",
       "    </tr>\n",
       "    <tr>\n",
       "      <th>1</th>\n",
       "      <td>828247016.0</td>\n",
       "      <td>Current</td>\n",
       "      <td>NaN</td>\n",
       "      <td>NaN</td>\n",
       "      <td>NaN</td>\n",
       "      <td>NaN</td>\n",
       "      <td>NaN</td>\n",
       "      <td>NaN</td>\n",
       "      <td>NaN</td>\n",
       "      <td>NaN</td>\n",
       "    </tr>\n",
       "    <tr>\n",
       "      <th>2</th>\n",
       "      <td>828247016.0</td>\n",
       "      <td>Credit Card</td>\n",
       "      <td>NaN</td>\n",
       "      <td>NaN</td>\n",
       "      <td>NaN</td>\n",
       "      <td>NaN</td>\n",
       "      <td>NaN</td>\n",
       "      <td>NaN</td>\n",
       "      <td>NaN</td>\n",
       "      <td>NaN</td>\n",
       "    </tr>\n",
       "    <tr>\n",
       "      <th>3</th>\n",
       "      <td>828247016.0</td>\n",
       "      <td>On Demand Deposit</td>\n",
       "      <td>NaN</td>\n",
       "      <td>NaN</td>\n",
       "      <td>NaN</td>\n",
       "      <td>NaN</td>\n",
       "      <td>NaN</td>\n",
       "      <td>NaN</td>\n",
       "      <td>NaN</td>\n",
       "      <td>NaN</td>\n",
       "    </tr>\n",
       "    <tr>\n",
       "      <th>4</th>\n",
       "      <td>828247016.0</td>\n",
       "      <td>Mortgage</td>\n",
       "      <td>NaN</td>\n",
       "      <td>NaN</td>\n",
       "      <td>NaN</td>\n",
       "      <td>NaN</td>\n",
       "      <td>NaN</td>\n",
       "      <td>NaN</td>\n",
       "      <td>NaN</td>\n",
       "      <td>NaN</td>\n",
       "    </tr>\n",
       "    <tr>\n",
       "      <th>...</th>\n",
       "      <td>...</td>\n",
       "      <td>...</td>\n",
       "      <td>...</td>\n",
       "      <td>...</td>\n",
       "      <td>...</td>\n",
       "      <td>...</td>\n",
       "      <td>...</td>\n",
       "      <td>...</td>\n",
       "      <td>...</td>\n",
       "      <td>...</td>\n",
       "    </tr>\n",
       "    <tr>\n",
       "      <th>25007</th>\n",
       "      <td>812694049.0</td>\n",
       "      <td>Deposit</td>\n",
       "      <td>NaN</td>\n",
       "      <td>NaN</td>\n",
       "      <td>NaN</td>\n",
       "      <td>NaN</td>\n",
       "      <td>NaN</td>\n",
       "      <td>NaN</td>\n",
       "      <td>NaN</td>\n",
       "      <td>NaN</td>\n",
       "    </tr>\n",
       "    <tr>\n",
       "      <th>25008</th>\n",
       "      <td>812694049.0</td>\n",
       "      <td>Mortgage</td>\n",
       "      <td>NaN</td>\n",
       "      <td>NaN</td>\n",
       "      <td>NaN</td>\n",
       "      <td>NaN</td>\n",
       "      <td>NaN</td>\n",
       "      <td>NaN</td>\n",
       "      <td>NaN</td>\n",
       "      <td>NaN</td>\n",
       "    </tr>\n",
       "    <tr>\n",
       "      <th>25009</th>\n",
       "      <td>812694049.0</td>\n",
       "      <td>Credit Card</td>\n",
       "      <td>NaN</td>\n",
       "      <td>NaN</td>\n",
       "      <td>NaN</td>\n",
       "      <td>NaN</td>\n",
       "      <td>NaN</td>\n",
       "      <td>NaN</td>\n",
       "      <td>NaN</td>\n",
       "      <td>NaN</td>\n",
       "    </tr>\n",
       "    <tr>\n",
       "      <th>25010</th>\n",
       "      <td>812694049.0</td>\n",
       "      <td>Investment</td>\n",
       "      <td>NaN</td>\n",
       "      <td>NaN</td>\n",
       "      <td>NaN</td>\n",
       "      <td>NaN</td>\n",
       "      <td>NaN</td>\n",
       "      <td>NaN</td>\n",
       "      <td>NaN</td>\n",
       "      <td>NaN</td>\n",
       "    </tr>\n",
       "    <tr>\n",
       "      <th>25011</th>\n",
       "      <td>812694049.0</td>\n",
       "      <td>Joint</td>\n",
       "      <td>NaN</td>\n",
       "      <td>NaN</td>\n",
       "      <td>NaN</td>\n",
       "      <td>NaN</td>\n",
       "      <td>NaN</td>\n",
       "      <td>NaN</td>\n",
       "      <td>NaN</td>\n",
       "      <td>NaN</td>\n",
       "    </tr>\n",
       "  </tbody>\n",
       "</table>\n",
       "<p>25012 rows × 10 columns</p>\n",
       "</div>"
      ],
      "text/plain": [
       "          Customer            Account Joint Deposit Current Investment  \\\n",
       "0      828247016.0         Investment   NaN     NaN     NaN        NaN   \n",
       "1      828247016.0            Current   NaN     NaN     NaN        NaN   \n",
       "2      828247016.0        Credit Card   NaN     NaN     NaN        NaN   \n",
       "3      828247016.0  On Demand Deposit   NaN     NaN     NaN        NaN   \n",
       "4      828247016.0           Mortgage   NaN     NaN     NaN        NaN   \n",
       "...            ...                ...   ...     ...     ...        ...   \n",
       "25007  812694049.0            Deposit   NaN     NaN     NaN        NaN   \n",
       "25008  812694049.0           Mortgage   NaN     NaN     NaN        NaN   \n",
       "25009  812694049.0        Credit Card   NaN     NaN     NaN        NaN   \n",
       "25010  812694049.0         Investment   NaN     NaN     NaN        NaN   \n",
       "25011  812694049.0              Joint   NaN     NaN     NaN        NaN   \n",
       "\n",
       "      Mortgage Credit_Card On_Demand_Deposit Loan  \n",
       "0          NaN         NaN               NaN  NaN  \n",
       "1          NaN         NaN               NaN  NaN  \n",
       "2          NaN         NaN               NaN  NaN  \n",
       "3          NaN         NaN               NaN  NaN  \n",
       "4          NaN         NaN               NaN  NaN  \n",
       "...        ...         ...               ...  ...  \n",
       "25007      NaN         NaN               NaN  NaN  \n",
       "25008      NaN         NaN               NaN  NaN  \n",
       "25009      NaN         NaN               NaN  NaN  \n",
       "25010      NaN         NaN               NaN  NaN  \n",
       "25011      NaN         NaN               NaN  NaN  \n",
       "\n",
       "[25012 rows x 10 columns]"
      ]
     },
     "execution_count": 9,
     "metadata": {},
     "output_type": "execute_result"
    }
   ],
   "source": [
    "frames = [df_accounts,df_accounts2]\n",
    "df_accounts3 = pd.concat(frames)\n",
    "df_accounts3"
   ]
  },
  {
   "cell_type": "code",
   "execution_count": 10,
   "id": "90e4b372-cbcc-4aca-bdae-b0bb74a14887",
   "metadata": {},
   "outputs": [
    {
     "name": "stdout",
     "output_type": "stream",
     "text": [
      "<class 'pandas.core.frame.DataFrame'>\n",
      "Int64Index: 25012 entries, 0 to 25011\n",
      "Data columns (total 10 columns):\n",
      " #   Column             Non-Null Count  Dtype  \n",
      "---  ------             --------------  -----  \n",
      " 0   Customer           25012 non-null  float64\n",
      " 1   Account            25012 non-null  object \n",
      " 2   Joint              0 non-null      object \n",
      " 3   Deposit            0 non-null      object \n",
      " 4   Current            0 non-null      object \n",
      " 5   Investment         0 non-null      object \n",
      " 6   Mortgage           0 non-null      object \n",
      " 7   Credit_Card        0 non-null      object \n",
      " 8   On_Demand_Deposit  0 non-null      object \n",
      " 9   Loan               0 non-null      object \n",
      "dtypes: float64(1), object(9)\n",
      "memory usage: 2.1+ MB\n"
     ]
    }
   ],
   "source": [
    "df_accounts3.info()"
   ]
  },
  {
   "cell_type": "markdown",
   "id": "0d3b93e9-8ac3-4707-9e76-96649d3e652f",
   "metadata": {},
   "source": [
    "<br>\n",
    "\n",
    "#### If the customer has the account type set the value to 1, otherwise, set to 0"
   ]
  },
  {
   "cell_type": "markdown",
   "id": "8a498360-cb6b-4fec-96a6-bbc283bbb28e",
   "metadata": {},
   "source": [
    "Supress warnings (makes it easier to read the notebook!)"
   ]
  },
  {
   "cell_type": "code",
   "execution_count": 11,
   "id": "30600b2d-a46f-417d-9977-1e6140db03b9",
   "metadata": {},
   "outputs": [],
   "source": [
    "import pandas as pd\n",
    "pd.options.mode.chained_assignment = None  # default='warn'"
   ]
  },
  {
   "cell_type": "code",
   "execution_count": 12,
   "id": "baa33134-61e8-484f-9b46-5fb9b4f3a6db",
   "metadata": {},
   "outputs": [],
   "source": [
    "df_accounts3['On_Demand_Deposit'].loc[df_accounts3['Account']=='On Demand Deposit'] = 1\n",
    "df_accounts3['Credit_Card'].loc[df_accounts3['Account']=='Credit Card'] = 1\n",
    "df_accounts3['Loan'].loc[df_accounts3['Account']=='Loan'] = 1\n",
    "df_accounts3['Joint'].loc[df_accounts3['Account']=='Joint'] = 1\n",
    "df_accounts3['Deposit'].loc[df_accounts3['Account']=='Deposit'] = 1\n",
    "df_accounts3['Mortgage'].loc[df_accounts3['Account']=='Mortgage'] = 1\n",
    "df_accounts3['Current'].loc[df_accounts3['Account']=='Current'] = 1\n",
    "df_accounts3['Investment'].loc[df_accounts3['Account']=='Investment'] = 1\n",
    "\n",
    "\n",
    "\n",
    "df_accounts3=df_accounts3.fillna(0)"
   ]
  },
  {
   "cell_type": "code",
   "execution_count": 13,
   "id": "1f4b0f78-1976-489f-9b43-435ca88f8847",
   "metadata": {},
   "outputs": [],
   "source": [
    "df_accounts3 = df_accounts3.drop_duplicates()"
   ]
  },
  {
   "cell_type": "markdown",
   "id": "7256bec5-147a-473c-87b0-74d9e75d0267",
   "metadata": {},
   "source": [
    "#### Add a feature that will say how many accounts a customer has - num_accs"
   ]
  },
  {
   "cell_type": "code",
   "execution_count": 14,
   "id": "9e82a68f-9394-4d42-98ff-444e6e664998",
   "metadata": {},
   "outputs": [
    {
     "data": {
      "text/html": [
       "<div>\n",
       "<style scoped>\n",
       "    .dataframe tbody tr th:only-of-type {\n",
       "        vertical-align: middle;\n",
       "    }\n",
       "\n",
       "    .dataframe tbody tr th {\n",
       "        vertical-align: top;\n",
       "    }\n",
       "\n",
       "    .dataframe thead th {\n",
       "        text-align: right;\n",
       "    }\n",
       "</style>\n",
       "<table border=\"1\" class=\"dataframe\">\n",
       "  <thead>\n",
       "    <tr style=\"text-align: right;\">\n",
       "      <th></th>\n",
       "      <th>Customer</th>\n",
       "      <th>num_accs</th>\n",
       "    </tr>\n",
       "  </thead>\n",
       "  <tbody>\n",
       "    <tr>\n",
       "      <th>0</th>\n",
       "      <td>708115009.0</td>\n",
       "      <td>1</td>\n",
       "    </tr>\n",
       "    <tr>\n",
       "      <th>1</th>\n",
       "      <td>708117651.0</td>\n",
       "      <td>2</td>\n",
       "    </tr>\n",
       "    <tr>\n",
       "      <th>2</th>\n",
       "      <td>708163600.0</td>\n",
       "      <td>3</td>\n",
       "    </tr>\n",
       "    <tr>\n",
       "      <th>3</th>\n",
       "      <td>708166361.0</td>\n",
       "      <td>4</td>\n",
       "    </tr>\n",
       "    <tr>\n",
       "      <th>4</th>\n",
       "      <td>708169780.0</td>\n",
       "      <td>2</td>\n",
       "    </tr>\n",
       "    <tr>\n",
       "      <th>...</th>\n",
       "      <td>...</td>\n",
       "      <td>...</td>\n",
       "    </tr>\n",
       "    <tr>\n",
       "      <th>6572</th>\n",
       "      <td>828277434.0</td>\n",
       "      <td>3</td>\n",
       "    </tr>\n",
       "    <tr>\n",
       "      <th>6573</th>\n",
       "      <td>828283866.0</td>\n",
       "      <td>3</td>\n",
       "    </tr>\n",
       "    <tr>\n",
       "      <th>6574</th>\n",
       "      <td>828288658.0</td>\n",
       "      <td>6</td>\n",
       "    </tr>\n",
       "    <tr>\n",
       "      <th>6575</th>\n",
       "      <td>828290781.0</td>\n",
       "      <td>2</td>\n",
       "    </tr>\n",
       "    <tr>\n",
       "      <th>6576</th>\n",
       "      <td>828317722.0</td>\n",
       "      <td>1</td>\n",
       "    </tr>\n",
       "  </tbody>\n",
       "</table>\n",
       "<p>6577 rows × 2 columns</p>\n",
       "</div>"
      ],
      "text/plain": [
       "         Customer  num_accs\n",
       "0     708115009.0         1\n",
       "1     708117651.0         2\n",
       "2     708163600.0         3\n",
       "3     708166361.0         4\n",
       "4     708169780.0         2\n",
       "...           ...       ...\n",
       "6572  828277434.0         3\n",
       "6573  828283866.0         3\n",
       "6574  828288658.0         6\n",
       "6575  828290781.0         2\n",
       "6576  828317722.0         1\n",
       "\n",
       "[6577 rows x 2 columns]"
      ]
     },
     "execution_count": 14,
     "metadata": {},
     "output_type": "execute_result"
    }
   ],
   "source": [
    "df_accounts3_count = df_accounts3.groupby(['Customer']).count().reset_index()\n",
    "df_accounts3_count = df_accounts3_count.rename(columns ={\"Account\": \"num_accs\"})\n",
    "df_accounts4_count= df_accounts3_count[[\"Customer\", \"num_accs\"]]\n",
    "df_accounts4_count"
   ]
  },
  {
   "cell_type": "markdown",
   "id": "34d36b62-5878-4c71-a9f6-5b832213ca3d",
   "metadata": {},
   "source": [
    "Merge the num_accs to the accounts dataframe"
   ]
  },
  {
   "cell_type": "code",
   "execution_count": 15,
   "id": "46e6f07f-4dd2-4c58-b1c8-671a64f46a11",
   "metadata": {},
   "outputs": [
    {
     "data": {
      "text/html": [
       "<div>\n",
       "<style scoped>\n",
       "    .dataframe tbody tr th:only-of-type {\n",
       "        vertical-align: middle;\n",
       "    }\n",
       "\n",
       "    .dataframe tbody tr th {\n",
       "        vertical-align: top;\n",
       "    }\n",
       "\n",
       "    .dataframe thead th {\n",
       "        text-align: right;\n",
       "    }\n",
       "</style>\n",
       "<table border=\"1\" class=\"dataframe\">\n",
       "  <thead>\n",
       "    <tr style=\"text-align: right;\">\n",
       "      <th></th>\n",
       "      <th>Customer</th>\n",
       "      <th>num_accs</th>\n",
       "      <th>Account</th>\n",
       "      <th>Joint</th>\n",
       "      <th>Deposit</th>\n",
       "      <th>Current</th>\n",
       "      <th>Investment</th>\n",
       "      <th>Mortgage</th>\n",
       "      <th>Credit_Card</th>\n",
       "      <th>On_Demand_Deposit</th>\n",
       "      <th>Loan</th>\n",
       "    </tr>\n",
       "  </thead>\n",
       "  <tbody>\n",
       "    <tr>\n",
       "      <th>0</th>\n",
       "      <td>708115009.0</td>\n",
       "      <td>1</td>\n",
       "      <td>Credit Card</td>\n",
       "      <td>0</td>\n",
       "      <td>0</td>\n",
       "      <td>0</td>\n",
       "      <td>0</td>\n",
       "      <td>0</td>\n",
       "      <td>1</td>\n",
       "      <td>0</td>\n",
       "      <td>0</td>\n",
       "    </tr>\n",
       "    <tr>\n",
       "      <th>1</th>\n",
       "      <td>708117651.0</td>\n",
       "      <td>2</td>\n",
       "      <td>Current</td>\n",
       "      <td>0</td>\n",
       "      <td>0</td>\n",
       "      <td>1</td>\n",
       "      <td>0</td>\n",
       "      <td>0</td>\n",
       "      <td>0</td>\n",
       "      <td>0</td>\n",
       "      <td>0</td>\n",
       "    </tr>\n",
       "    <tr>\n",
       "      <th>2</th>\n",
       "      <td>708117651.0</td>\n",
       "      <td>2</td>\n",
       "      <td>Credit Card</td>\n",
       "      <td>0</td>\n",
       "      <td>0</td>\n",
       "      <td>0</td>\n",
       "      <td>0</td>\n",
       "      <td>0</td>\n",
       "      <td>1</td>\n",
       "      <td>0</td>\n",
       "      <td>0</td>\n",
       "    </tr>\n",
       "    <tr>\n",
       "      <th>3</th>\n",
       "      <td>708163600.0</td>\n",
       "      <td>3</td>\n",
       "      <td>On Demand Deposit</td>\n",
       "      <td>0</td>\n",
       "      <td>0</td>\n",
       "      <td>0</td>\n",
       "      <td>0</td>\n",
       "      <td>0</td>\n",
       "      <td>0</td>\n",
       "      <td>1</td>\n",
       "      <td>0</td>\n",
       "    </tr>\n",
       "    <tr>\n",
       "      <th>4</th>\n",
       "      <td>708163600.0</td>\n",
       "      <td>3</td>\n",
       "      <td>Credit Card</td>\n",
       "      <td>0</td>\n",
       "      <td>0</td>\n",
       "      <td>0</td>\n",
       "      <td>0</td>\n",
       "      <td>0</td>\n",
       "      <td>1</td>\n",
       "      <td>0</td>\n",
       "      <td>0</td>\n",
       "    </tr>\n",
       "    <tr>\n",
       "      <th>...</th>\n",
       "      <td>...</td>\n",
       "      <td>...</td>\n",
       "      <td>...</td>\n",
       "      <td>...</td>\n",
       "      <td>...</td>\n",
       "      <td>...</td>\n",
       "      <td>...</td>\n",
       "      <td>...</td>\n",
       "      <td>...</td>\n",
       "      <td>...</td>\n",
       "      <td>...</td>\n",
       "    </tr>\n",
       "    <tr>\n",
       "      <th>24859</th>\n",
       "      <td>828288658.0</td>\n",
       "      <td>6</td>\n",
       "      <td>On Demand Deposit</td>\n",
       "      <td>0</td>\n",
       "      <td>0</td>\n",
       "      <td>0</td>\n",
       "      <td>0</td>\n",
       "      <td>0</td>\n",
       "      <td>0</td>\n",
       "      <td>1</td>\n",
       "      <td>0</td>\n",
       "    </tr>\n",
       "    <tr>\n",
       "      <th>24860</th>\n",
       "      <td>828288658.0</td>\n",
       "      <td>6</td>\n",
       "      <td>Mortgage</td>\n",
       "      <td>0</td>\n",
       "      <td>0</td>\n",
       "      <td>0</td>\n",
       "      <td>0</td>\n",
       "      <td>1</td>\n",
       "      <td>0</td>\n",
       "      <td>0</td>\n",
       "      <td>0</td>\n",
       "    </tr>\n",
       "    <tr>\n",
       "      <th>24861</th>\n",
       "      <td>828290781.0</td>\n",
       "      <td>2</td>\n",
       "      <td>Credit Card</td>\n",
       "      <td>0</td>\n",
       "      <td>0</td>\n",
       "      <td>0</td>\n",
       "      <td>0</td>\n",
       "      <td>0</td>\n",
       "      <td>1</td>\n",
       "      <td>0</td>\n",
       "      <td>0</td>\n",
       "    </tr>\n",
       "    <tr>\n",
       "      <th>24862</th>\n",
       "      <td>828290781.0</td>\n",
       "      <td>2</td>\n",
       "      <td>Current</td>\n",
       "      <td>0</td>\n",
       "      <td>0</td>\n",
       "      <td>1</td>\n",
       "      <td>0</td>\n",
       "      <td>0</td>\n",
       "      <td>0</td>\n",
       "      <td>0</td>\n",
       "      <td>0</td>\n",
       "    </tr>\n",
       "    <tr>\n",
       "      <th>24863</th>\n",
       "      <td>828317722.0</td>\n",
       "      <td>1</td>\n",
       "      <td>Credit Card</td>\n",
       "      <td>0</td>\n",
       "      <td>0</td>\n",
       "      <td>0</td>\n",
       "      <td>0</td>\n",
       "      <td>0</td>\n",
       "      <td>1</td>\n",
       "      <td>0</td>\n",
       "      <td>0</td>\n",
       "    </tr>\n",
       "  </tbody>\n",
       "</table>\n",
       "<p>24864 rows × 11 columns</p>\n",
       "</div>"
      ],
      "text/plain": [
       "          Customer  num_accs            Account  Joint  Deposit  Current  \\\n",
       "0      708115009.0         1        Credit Card      0        0        0   \n",
       "1      708117651.0         2            Current      0        0        1   \n",
       "2      708117651.0         2        Credit Card      0        0        0   \n",
       "3      708163600.0         3  On Demand Deposit      0        0        0   \n",
       "4      708163600.0         3        Credit Card      0        0        0   \n",
       "...            ...       ...                ...    ...      ...      ...   \n",
       "24859  828288658.0         6  On Demand Deposit      0        0        0   \n",
       "24860  828288658.0         6           Mortgage      0        0        0   \n",
       "24861  828290781.0         2        Credit Card      0        0        0   \n",
       "24862  828290781.0         2            Current      0        0        1   \n",
       "24863  828317722.0         1        Credit Card      0        0        0   \n",
       "\n",
       "       Investment  Mortgage  Credit_Card  On_Demand_Deposit  Loan  \n",
       "0               0         0            1                  0     0  \n",
       "1               0         0            0                  0     0  \n",
       "2               0         0            1                  0     0  \n",
       "3               0         0            0                  1     0  \n",
       "4               0         0            1                  0     0  \n",
       "...           ...       ...          ...                ...   ...  \n",
       "24859           0         0            0                  1     0  \n",
       "24860           0         1            0                  0     0  \n",
       "24861           0         0            1                  0     0  \n",
       "24862           0         0            0                  0     0  \n",
       "24863           0         0            1                  0     0  \n",
       "\n",
       "[24864 rows x 11 columns]"
      ]
     },
     "execution_count": 15,
     "metadata": {},
     "output_type": "execute_result"
    }
   ],
   "source": [
    "df_accounts4 = (pd.merge(df_accounts4_count, df_accounts3, on='Customer'))\n",
    "df_accounts4"
   ]
  },
  {
   "cell_type": "markdown",
   "id": "4b48f7a7-3b34-43f4-acfe-bd508a91a56f",
   "metadata": {},
   "source": [
    "#### Drop the Account column as it is no longer required (it is now a set of binary features)"
   ]
  },
  {
   "cell_type": "code",
   "execution_count": 16,
   "id": "3d9835a2-e4a7-416b-b6dc-3beb8eeea7d4",
   "metadata": {},
   "outputs": [],
   "source": [
    "df_accounts4 = df_accounts4.drop(columns='Account')\n"
   ]
  },
  {
   "cell_type": "code",
   "execution_count": 17,
   "id": "5bec6725-a0cb-4b36-8a61-18eea7228468",
   "metadata": {},
   "outputs": [],
   "source": [
    "df_accounts4 =df_accounts4.groupby(['Customer']).sum().reset_index()"
   ]
  },
  {
   "cell_type": "code",
   "execution_count": 18,
   "id": "819ada53-5cd1-4156-b9f9-a0c9a3983a80",
   "metadata": {},
   "outputs": [
    {
     "data": {
      "text/html": [
       "<div>\n",
       "<style scoped>\n",
       "    .dataframe tbody tr th:only-of-type {\n",
       "        vertical-align: middle;\n",
       "    }\n",
       "\n",
       "    .dataframe tbody tr th {\n",
       "        vertical-align: top;\n",
       "    }\n",
       "\n",
       "    .dataframe thead th {\n",
       "        text-align: right;\n",
       "    }\n",
       "</style>\n",
       "<table border=\"1\" class=\"dataframe\">\n",
       "  <thead>\n",
       "    <tr style=\"text-align: right;\">\n",
       "      <th></th>\n",
       "      <th>Customer</th>\n",
       "      <th>num_accs</th>\n",
       "      <th>Joint</th>\n",
       "      <th>Deposit</th>\n",
       "      <th>Current</th>\n",
       "      <th>Investment</th>\n",
       "      <th>Mortgage</th>\n",
       "      <th>Credit_Card</th>\n",
       "      <th>On_Demand_Deposit</th>\n",
       "      <th>Loan</th>\n",
       "    </tr>\n",
       "  </thead>\n",
       "  <tbody>\n",
       "    <tr>\n",
       "      <th>0</th>\n",
       "      <td>708115009.0</td>\n",
       "      <td>1</td>\n",
       "      <td>0</td>\n",
       "      <td>0</td>\n",
       "      <td>0</td>\n",
       "      <td>0</td>\n",
       "      <td>0</td>\n",
       "      <td>1</td>\n",
       "      <td>0</td>\n",
       "      <td>0</td>\n",
       "    </tr>\n",
       "    <tr>\n",
       "      <th>1</th>\n",
       "      <td>708117651.0</td>\n",
       "      <td>4</td>\n",
       "      <td>0</td>\n",
       "      <td>0</td>\n",
       "      <td>1</td>\n",
       "      <td>0</td>\n",
       "      <td>0</td>\n",
       "      <td>1</td>\n",
       "      <td>0</td>\n",
       "      <td>0</td>\n",
       "    </tr>\n",
       "    <tr>\n",
       "      <th>2</th>\n",
       "      <td>708163600.0</td>\n",
       "      <td>9</td>\n",
       "      <td>0</td>\n",
       "      <td>0</td>\n",
       "      <td>1</td>\n",
       "      <td>0</td>\n",
       "      <td>0</td>\n",
       "      <td>1</td>\n",
       "      <td>1</td>\n",
       "      <td>0</td>\n",
       "    </tr>\n",
       "    <tr>\n",
       "      <th>3</th>\n",
       "      <td>708166361.0</td>\n",
       "      <td>16</td>\n",
       "      <td>0</td>\n",
       "      <td>1</td>\n",
       "      <td>1</td>\n",
       "      <td>0</td>\n",
       "      <td>1</td>\n",
       "      <td>1</td>\n",
       "      <td>0</td>\n",
       "      <td>0</td>\n",
       "    </tr>\n",
       "    <tr>\n",
       "      <th>4</th>\n",
       "      <td>708169780.0</td>\n",
       "      <td>4</td>\n",
       "      <td>0</td>\n",
       "      <td>0</td>\n",
       "      <td>1</td>\n",
       "      <td>0</td>\n",
       "      <td>0</td>\n",
       "      <td>1</td>\n",
       "      <td>0</td>\n",
       "      <td>0</td>\n",
       "    </tr>\n",
       "    <tr>\n",
       "      <th>...</th>\n",
       "      <td>...</td>\n",
       "      <td>...</td>\n",
       "      <td>...</td>\n",
       "      <td>...</td>\n",
       "      <td>...</td>\n",
       "      <td>...</td>\n",
       "      <td>...</td>\n",
       "      <td>...</td>\n",
       "      <td>...</td>\n",
       "      <td>...</td>\n",
       "    </tr>\n",
       "    <tr>\n",
       "      <th>6572</th>\n",
       "      <td>828277434.0</td>\n",
       "      <td>9</td>\n",
       "      <td>0</td>\n",
       "      <td>1</td>\n",
       "      <td>1</td>\n",
       "      <td>0</td>\n",
       "      <td>0</td>\n",
       "      <td>1</td>\n",
       "      <td>0</td>\n",
       "      <td>0</td>\n",
       "    </tr>\n",
       "    <tr>\n",
       "      <th>6573</th>\n",
       "      <td>828283866.0</td>\n",
       "      <td>9</td>\n",
       "      <td>0</td>\n",
       "      <td>1</td>\n",
       "      <td>0</td>\n",
       "      <td>0</td>\n",
       "      <td>0</td>\n",
       "      <td>1</td>\n",
       "      <td>1</td>\n",
       "      <td>0</td>\n",
       "    </tr>\n",
       "    <tr>\n",
       "      <th>6574</th>\n",
       "      <td>828288658.0</td>\n",
       "      <td>36</td>\n",
       "      <td>0</td>\n",
       "      <td>0</td>\n",
       "      <td>1</td>\n",
       "      <td>1</td>\n",
       "      <td>1</td>\n",
       "      <td>1</td>\n",
       "      <td>1</td>\n",
       "      <td>1</td>\n",
       "    </tr>\n",
       "    <tr>\n",
       "      <th>6575</th>\n",
       "      <td>828290781.0</td>\n",
       "      <td>4</td>\n",
       "      <td>0</td>\n",
       "      <td>0</td>\n",
       "      <td>1</td>\n",
       "      <td>0</td>\n",
       "      <td>0</td>\n",
       "      <td>1</td>\n",
       "      <td>0</td>\n",
       "      <td>0</td>\n",
       "    </tr>\n",
       "    <tr>\n",
       "      <th>6576</th>\n",
       "      <td>828317722.0</td>\n",
       "      <td>1</td>\n",
       "      <td>0</td>\n",
       "      <td>0</td>\n",
       "      <td>0</td>\n",
       "      <td>0</td>\n",
       "      <td>0</td>\n",
       "      <td>1</td>\n",
       "      <td>0</td>\n",
       "      <td>0</td>\n",
       "    </tr>\n",
       "  </tbody>\n",
       "</table>\n",
       "<p>6577 rows × 10 columns</p>\n",
       "</div>"
      ],
      "text/plain": [
       "         Customer  num_accs  Joint  Deposit  Current  Investment  Mortgage  \\\n",
       "0     708115009.0         1      0        0        0           0         0   \n",
       "1     708117651.0         4      0        0        1           0         0   \n",
       "2     708163600.0         9      0        0        1           0         0   \n",
       "3     708166361.0        16      0        1        1           0         1   \n",
       "4     708169780.0         4      0        0        1           0         0   \n",
       "...           ...       ...    ...      ...      ...         ...       ...   \n",
       "6572  828277434.0         9      0        1        1           0         0   \n",
       "6573  828283866.0         9      0        1        0           0         0   \n",
       "6574  828288658.0        36      0        0        1           1         1   \n",
       "6575  828290781.0         4      0        0        1           0         0   \n",
       "6576  828317722.0         1      0        0        0           0         0   \n",
       "\n",
       "      Credit_Card  On_Demand_Deposit  Loan  \n",
       "0               1                  0     0  \n",
       "1               1                  0     0  \n",
       "2               1                  1     0  \n",
       "3               1                  0     0  \n",
       "4               1                  0     0  \n",
       "...           ...                ...   ...  \n",
       "6572            1                  0     0  \n",
       "6573            1                  1     0  \n",
       "6574            1                  1     1  \n",
       "6575            1                  0     0  \n",
       "6576            1                  0     0  \n",
       "\n",
       "[6577 rows x 10 columns]"
      ]
     },
     "execution_count": 18,
     "metadata": {},
     "output_type": "execute_result"
    }
   ],
   "source": [
    "df_accounts4"
   ]
  },
  {
   "cell_type": "code",
   "execution_count": 19,
   "id": "4b014cd6-524b-41f5-b6db-5d9ed608e8f2",
   "metadata": {},
   "outputs": [
    {
     "data": {
      "text/plain": [
       "0       708115009\n",
       "1       708117651\n",
       "2       708163600\n",
       "3       708166361\n",
       "4       708169780\n",
       "          ...    \n",
       "6572    828277434\n",
       "6573    828283866\n",
       "6574    828288658\n",
       "6575    828290781\n",
       "6576    828317722\n",
       "Name: Customer, Length: 6577, dtype: int32"
      ]
     },
     "execution_count": 19,
     "metadata": {},
     "output_type": "execute_result"
    }
   ],
   "source": [
    "df_accounts4.Customer.astype(int)"
   ]
  },
  {
   "cell_type": "code",
   "execution_count": 20,
   "id": "8d6f2396-b25e-419f-9081-a76c2a0dd1dc",
   "metadata": {},
   "outputs": [
    {
     "name": "stdout",
     "output_type": "stream",
     "text": [
      "<class 'pandas.core.frame.DataFrame'>\n",
      "RangeIndex: 6577 entries, 0 to 6576\n",
      "Data columns (total 10 columns):\n",
      " #   Column             Non-Null Count  Dtype  \n",
      "---  ------             --------------  -----  \n",
      " 0   Customer           6577 non-null   float64\n",
      " 1   num_accs           6577 non-null   int64  \n",
      " 2   Joint              6577 non-null   int64  \n",
      " 3   Deposit            6577 non-null   int64  \n",
      " 4   Current            6577 non-null   int64  \n",
      " 5   Investment         6577 non-null   int64  \n",
      " 6   Mortgage           6577 non-null   int64  \n",
      " 7   Credit_Card        6577 non-null   int64  \n",
      " 8   On_Demand_Deposit  6577 non-null   int64  \n",
      " 9   Loan               6577 non-null   int64  \n",
      "dtypes: float64(1), int64(9)\n",
      "memory usage: 514.0 KB\n"
     ]
    }
   ],
   "source": [
    "df_accounts4.info()"
   ]
  },
  {
   "cell_type": "markdown",
   "id": "8f47f7c1-71b6-4006-b7bf-1782868b5542",
   "metadata": {},
   "source": [
    "#### Import the customer.csv data into a data frame"
   ]
  },
  {
   "cell_type": "code",
   "execution_count": 21,
   "id": "604da7de-7cc9-4005-b3c2-be630c91e675",
   "metadata": {},
   "outputs": [
    {
     "name": "stdout",
     "output_type": "stream",
     "text": [
      "(6577, 15)\n"
     ]
    },
    {
     "data": {
      "text/html": [
       "<div>\n",
       "<style scoped>\n",
       "    .dataframe tbody tr th:only-of-type {\n",
       "        vertical-align: middle;\n",
       "    }\n",
       "\n",
       "    .dataframe tbody tr th {\n",
       "        vertical-align: top;\n",
       "    }\n",
       "\n",
       "    .dataframe thead th {\n",
       "        text-align: right;\n",
       "    }\n",
       "</style>\n",
       "<table border=\"1\" class=\"dataframe\">\n",
       "  <thead>\n",
       "    <tr style=\"text-align: right;\">\n",
       "      <th></th>\n",
       "      <th>Customer</th>\n",
       "      <th>Churn</th>\n",
       "      <th>Card</th>\n",
       "      <th>Start_Date</th>\n",
       "      <th>Customer_Service_Calls</th>\n",
       "      <th>Credit_Limit</th>\n",
       "      <th>Total_Revolving_Balance</th>\n",
       "      <th>Average_Open_To_Buy</th>\n",
       "      <th>Average_Utilisation_Ratio</th>\n",
       "      <th>Age</th>\n",
       "      <th>Gender</th>\n",
       "      <th>Education</th>\n",
       "      <th>Marital_Status</th>\n",
       "      <th>Dependents</th>\n",
       "      <th>Income</th>\n",
       "    </tr>\n",
       "  </thead>\n",
       "  <tbody>\n",
       "    <tr>\n",
       "      <th>0</th>\n",
       "      <td>797197508</td>\n",
       "      <td>No</td>\n",
       "      <td>Silver</td>\n",
       "      <td>2020-06-01</td>\n",
       "      <td>1</td>\n",
       "      <td>2315.0</td>\n",
       "      <td>1565</td>\n",
       "      <td>750.0</td>\n",
       "      <td>0.676</td>\n",
       "      <td>48.0</td>\n",
       "      <td>F</td>\n",
       "      <td>Graduate</td>\n",
       "      <td>Married</td>\n",
       "      <td>2</td>\n",
       "      <td>Less than €30K</td>\n",
       "    </tr>\n",
       "    <tr>\n",
       "      <th>1</th>\n",
       "      <td>812854728</td>\n",
       "      <td>No</td>\n",
       "      <td>Silver</td>\n",
       "      <td>2020-01-01</td>\n",
       "      <td>1</td>\n",
       "      <td>7645.0</td>\n",
       "      <td>2076</td>\n",
       "      <td>5569.0</td>\n",
       "      <td>0.272</td>\n",
       "      <td>58.0</td>\n",
       "      <td>F</td>\n",
       "      <td>Second level</td>\n",
       "      <td>Single</td>\n",
       "      <td>5</td>\n",
       "      <td>Less than €30K</td>\n",
       "    </tr>\n",
       "    <tr>\n",
       "      <th>2</th>\n",
       "      <td>768000743</td>\n",
       "      <td>No</td>\n",
       "      <td>Silver</td>\n",
       "      <td>2020-01-01</td>\n",
       "      <td>2</td>\n",
       "      <td>6394.0</td>\n",
       "      <td>0</td>\n",
       "      <td>6394.0</td>\n",
       "      <td>0.000</td>\n",
       "      <td>55.0</td>\n",
       "      <td>F</td>\n",
       "      <td>Second level</td>\n",
       "      <td>Single</td>\n",
       "      <td>2</td>\n",
       "      <td>Less than €30K</td>\n",
       "    </tr>\n",
       "    <tr>\n",
       "      <th>3</th>\n",
       "      <td>722161439</td>\n",
       "      <td>No</td>\n",
       "      <td>Silver</td>\n",
       "      <td>2020-08-01</td>\n",
       "      <td>3</td>\n",
       "      <td>4663.0</td>\n",
       "      <td>0</td>\n",
       "      <td>4663.0</td>\n",
       "      <td>0.000</td>\n",
       "      <td>41.0</td>\n",
       "      <td>F</td>\n",
       "      <td>Graduate</td>\n",
       "      <td>NaN</td>\n",
       "      <td>2</td>\n",
       "      <td>€30K - €50K</td>\n",
       "    </tr>\n",
       "    <tr>\n",
       "      <th>4</th>\n",
       "      <td>759029725</td>\n",
       "      <td>No</td>\n",
       "      <td>Silver</td>\n",
       "      <td>2021-02-01</td>\n",
       "      <td>4</td>\n",
       "      <td>1879.0</td>\n",
       "      <td>1486</td>\n",
       "      <td>393.0</td>\n",
       "      <td>0.791</td>\n",
       "      <td>37.0</td>\n",
       "      <td>F</td>\n",
       "      <td>Second level</td>\n",
       "      <td>Single</td>\n",
       "      <td>1</td>\n",
       "      <td>Less than €30K</td>\n",
       "    </tr>\n",
       "    <tr>\n",
       "      <th>5</th>\n",
       "      <td>764982590</td>\n",
       "      <td>No</td>\n",
       "      <td>Silver</td>\n",
       "      <td>2018-10-01</td>\n",
       "      <td>4</td>\n",
       "      <td>6036.0</td>\n",
       "      <td>1409</td>\n",
       "      <td>4627.0</td>\n",
       "      <td>0.233</td>\n",
       "      <td>56.0</td>\n",
       "      <td>M</td>\n",
       "      <td>PhD</td>\n",
       "      <td>Married</td>\n",
       "      <td>2</td>\n",
       "      <td>€50K - €80K</td>\n",
       "    </tr>\n",
       "    <tr>\n",
       "      <th>6</th>\n",
       "      <td>726241334</td>\n",
       "      <td>No</td>\n",
       "      <td>Platinum</td>\n",
       "      <td>2019-02-01</td>\n",
       "      <td>1</td>\n",
       "      <td>34516.0</td>\n",
       "      <td>1464</td>\n",
       "      <td>33052.0</td>\n",
       "      <td>0.042</td>\n",
       "      <td>52.0</td>\n",
       "      <td>M</td>\n",
       "      <td>Post LC</td>\n",
       "      <td>Married</td>\n",
       "      <td>0</td>\n",
       "      <td>€100K +</td>\n",
       "    </tr>\n",
       "    <tr>\n",
       "      <th>7</th>\n",
       "      <td>816118170</td>\n",
       "      <td>Yes</td>\n",
       "      <td>Silver</td>\n",
       "      <td>2020-01-01</td>\n",
       "      <td>2</td>\n",
       "      <td>1819.0</td>\n",
       "      <td>725</td>\n",
       "      <td>1094.0</td>\n",
       "      <td>0.399</td>\n",
       "      <td>NaN</td>\n",
       "      <td>M</td>\n",
       "      <td>Graduate</td>\n",
       "      <td>Single</td>\n",
       "      <td>1</td>\n",
       "      <td>€50K - €80K</td>\n",
       "    </tr>\n",
       "    <tr>\n",
       "      <th>8</th>\n",
       "      <td>794814582</td>\n",
       "      <td>No</td>\n",
       "      <td>Silver</td>\n",
       "      <td>2021-04-01</td>\n",
       "      <td>2</td>\n",
       "      <td>2591.0</td>\n",
       "      <td>2340</td>\n",
       "      <td>251.0</td>\n",
       "      <td>0.903</td>\n",
       "      <td>33.0</td>\n",
       "      <td>F</td>\n",
       "      <td>Graduate</td>\n",
       "      <td>Married</td>\n",
       "      <td>1</td>\n",
       "      <td>Less than €30K</td>\n",
       "    </tr>\n",
       "    <tr>\n",
       "      <th>9</th>\n",
       "      <td>782671532</td>\n",
       "      <td>No</td>\n",
       "      <td>Silver</td>\n",
       "      <td>2019-02-01</td>\n",
       "      <td>3</td>\n",
       "      <td>1438.3</td>\n",
       "      <td>0</td>\n",
       "      <td>1438.3</td>\n",
       "      <td>0.000</td>\n",
       "      <td>61.0</td>\n",
       "      <td>F</td>\n",
       "      <td>Unknown</td>\n",
       "      <td>Married</td>\n",
       "      <td>1</td>\n",
       "      <td>Unknown</td>\n",
       "    </tr>\n",
       "  </tbody>\n",
       "</table>\n",
       "</div>"
      ],
      "text/plain": [
       "    Customer Churn      Card  Start_Date  Customer_Service_Calls  \\\n",
       "0  797197508    No    Silver  2020-06-01                       1   \n",
       "1  812854728    No    Silver  2020-01-01                       1   \n",
       "2  768000743    No    Silver  2020-01-01                       2   \n",
       "3  722161439    No    Silver  2020-08-01                       3   \n",
       "4  759029725    No    Silver  2021-02-01                       4   \n",
       "5  764982590    No    Silver  2018-10-01                       4   \n",
       "6  726241334    No  Platinum  2019-02-01                       1   \n",
       "7  816118170   Yes    Silver  2020-01-01                       2   \n",
       "8  794814582    No    Silver  2021-04-01                       2   \n",
       "9  782671532    No    Silver  2019-02-01                       3   \n",
       "\n",
       "   Credit_Limit  Total_Revolving_Balance  Average_Open_To_Buy  \\\n",
       "0        2315.0                     1565                750.0   \n",
       "1        7645.0                     2076               5569.0   \n",
       "2        6394.0                        0               6394.0   \n",
       "3        4663.0                        0               4663.0   \n",
       "4        1879.0                     1486                393.0   \n",
       "5        6036.0                     1409               4627.0   \n",
       "6       34516.0                     1464              33052.0   \n",
       "7        1819.0                      725               1094.0   \n",
       "8        2591.0                     2340                251.0   \n",
       "9        1438.3                        0               1438.3   \n",
       "\n",
       "   Average_Utilisation_Ratio   Age Gender     Education Marital_Status  \\\n",
       "0                      0.676  48.0      F      Graduate        Married   \n",
       "1                      0.272  58.0      F  Second level         Single   \n",
       "2                      0.000  55.0      F  Second level         Single   \n",
       "3                      0.000  41.0      F      Graduate            NaN   \n",
       "4                      0.791  37.0      F  Second level         Single   \n",
       "5                      0.233  56.0      M           PhD        Married   \n",
       "6                      0.042  52.0      M       Post LC        Married   \n",
       "7                      0.399   NaN      M      Graduate         Single   \n",
       "8                      0.903  33.0      F      Graduate        Married   \n",
       "9                      0.000  61.0      F       Unknown        Married   \n",
       "\n",
       "   Dependents          Income  \n",
       "0           2  Less than €30K  \n",
       "1           5  Less than €30K  \n",
       "2           2  Less than €30K  \n",
       "3           2     €30K - €50K  \n",
       "4           1  Less than €30K  \n",
       "5           2     €50K - €80K  \n",
       "6           0         €100K +  \n",
       "7           1     €50K - €80K  \n",
       "8           1  Less than €30K  \n",
       "9           1         Unknown  "
      ]
     },
     "execution_count": 21,
     "metadata": {},
     "output_type": "execute_result"
    }
   ],
   "source": [
    "df_customers = pd.read_csv(\"orig/customers_train.csv\")\n",
    "print(df_customers.shape)\n",
    "df_customers.head(10)"
   ]
  },
  {
   "cell_type": "code",
   "execution_count": 22,
   "id": "fe071105-d7ea-4d7e-84ea-281810ee068e",
   "metadata": {},
   "outputs": [
    {
     "name": "stdout",
     "output_type": "stream",
     "text": [
      "<class 'pandas.core.frame.DataFrame'>\n",
      "RangeIndex: 6577 entries, 0 to 6576\n",
      "Data columns (total 15 columns):\n",
      " #   Column                     Non-Null Count  Dtype  \n",
      "---  ------                     --------------  -----  \n",
      " 0   Customer                   6577 non-null   int64  \n",
      " 1   Churn                      6556 non-null   object \n",
      " 2   Card                       6577 non-null   object \n",
      " 3   Start_Date                 6577 non-null   object \n",
      " 4   Customer_Service_Calls     6577 non-null   int64  \n",
      " 5   Credit_Limit               6577 non-null   float64\n",
      " 6   Total_Revolving_Balance    6577 non-null   int64  \n",
      " 7   Average_Open_To_Buy        6577 non-null   float64\n",
      " 8   Average_Utilisation_Ratio  6577 non-null   float64\n",
      " 9   Age                        6312 non-null   float64\n",
      " 10  Gender                     6577 non-null   object \n",
      " 11  Education                  6577 non-null   object \n",
      " 12  Marital_Status             6102 non-null   object \n",
      " 13  Dependents                 6577 non-null   int64  \n",
      " 14  Income                     6577 non-null   object \n",
      "dtypes: float64(4), int64(4), object(7)\n",
      "memory usage: 770.9+ KB\n"
     ]
    }
   ],
   "source": [
    "df_customers.info()"
   ]
  },
  {
   "cell_type": "markdown",
   "id": "0cb5ed9a-edf7-4583-9d08-872b7fef3e69",
   "metadata": {},
   "source": [
    "#### We have some observations that does not have a predicted value - I am going to drop these"
   ]
  },
  {
   "cell_type": "code",
   "execution_count": 23,
   "id": "6fd1b866-ba78-4936-9a46-df7d7f546e92",
   "metadata": {},
   "outputs": [
    {
     "name": "stdout",
     "output_type": "stream",
     "text": [
      "<class 'pandas.core.frame.DataFrame'>\n",
      "Int64Index: 6556 entries, 0 to 6576\n",
      "Data columns (total 15 columns):\n",
      " #   Column                     Non-Null Count  Dtype  \n",
      "---  ------                     --------------  -----  \n",
      " 0   Customer                   6556 non-null   int64  \n",
      " 1   Churn                      6556 non-null   object \n",
      " 2   Card                       6556 non-null   object \n",
      " 3   Start_Date                 6556 non-null   object \n",
      " 4   Customer_Service_Calls     6556 non-null   int64  \n",
      " 5   Credit_Limit               6556 non-null   float64\n",
      " 6   Total_Revolving_Balance    6556 non-null   int64  \n",
      " 7   Average_Open_To_Buy        6556 non-null   float64\n",
      " 8   Average_Utilisation_Ratio  6556 non-null   float64\n",
      " 9   Age                        6291 non-null   float64\n",
      " 10  Gender                     6556 non-null   object \n",
      " 11  Education                  6556 non-null   object \n",
      " 12  Marital_Status             6081 non-null   object \n",
      " 13  Dependents                 6556 non-null   int64  \n",
      " 14  Income                     6556 non-null   object \n",
      "dtypes: float64(4), int64(4), object(7)\n",
      "memory usage: 819.5+ KB\n"
     ]
    }
   ],
   "source": [
    "df_customers['Churn'].replace('', np.nan, inplace=True)\n",
    "df_customers.dropna(subset=['Churn'], inplace=True)\n",
    "df_customers.info()"
   ]
  },
  {
   "cell_type": "markdown",
   "id": "13efb128-4a7d-46fd-9ba4-b0a6ce7c8c12",
   "metadata": {},
   "source": [
    "#### Create a feature based on start date that will be the number of months the account/customer has been with the bank"
   ]
  },
  {
   "cell_type": "code",
   "execution_count": 24,
   "id": "bfc3fd3f-cf41-42dd-bc9d-feeea4299454",
   "metadata": {},
   "outputs": [
    {
     "data": {
      "text/html": [
       "<div>\n",
       "<style scoped>\n",
       "    .dataframe tbody tr th:only-of-type {\n",
       "        vertical-align: middle;\n",
       "    }\n",
       "\n",
       "    .dataframe tbody tr th {\n",
       "        vertical-align: top;\n",
       "    }\n",
       "\n",
       "    .dataframe thead th {\n",
       "        text-align: right;\n",
       "    }\n",
       "</style>\n",
       "<table border=\"1\" class=\"dataframe\">\n",
       "  <thead>\n",
       "    <tr style=\"text-align: right;\">\n",
       "      <th></th>\n",
       "      <th>Customer</th>\n",
       "      <th>Churn</th>\n",
       "      <th>Card</th>\n",
       "      <th>Start_Date</th>\n",
       "      <th>Customer_Service_Calls</th>\n",
       "      <th>Credit_Limit</th>\n",
       "      <th>Total_Revolving_Balance</th>\n",
       "      <th>Average_Open_To_Buy</th>\n",
       "      <th>Average_Utilisation_Ratio</th>\n",
       "      <th>Age</th>\n",
       "      <th>Gender</th>\n",
       "      <th>Education</th>\n",
       "      <th>Marital_Status</th>\n",
       "      <th>Dependents</th>\n",
       "      <th>Income</th>\n",
       "      <th>nb_months</th>\n",
       "    </tr>\n",
       "  </thead>\n",
       "  <tbody>\n",
       "    <tr>\n",
       "      <th>0</th>\n",
       "      <td>797197508</td>\n",
       "      <td>No</td>\n",
       "      <td>Silver</td>\n",
       "      <td>2020-06-01</td>\n",
       "      <td>1</td>\n",
       "      <td>2315.0</td>\n",
       "      <td>1565</td>\n",
       "      <td>750.0</td>\n",
       "      <td>0.676</td>\n",
       "      <td>48.0</td>\n",
       "      <td>F</td>\n",
       "      <td>Graduate</td>\n",
       "      <td>Married</td>\n",
       "      <td>2</td>\n",
       "      <td>Less than €30K</td>\n",
       "      <td>34</td>\n",
       "    </tr>\n",
       "    <tr>\n",
       "      <th>1</th>\n",
       "      <td>812854728</td>\n",
       "      <td>No</td>\n",
       "      <td>Silver</td>\n",
       "      <td>2020-01-01</td>\n",
       "      <td>1</td>\n",
       "      <td>7645.0</td>\n",
       "      <td>2076</td>\n",
       "      <td>5569.0</td>\n",
       "      <td>0.272</td>\n",
       "      <td>58.0</td>\n",
       "      <td>F</td>\n",
       "      <td>Second level</td>\n",
       "      <td>Single</td>\n",
       "      <td>5</td>\n",
       "      <td>Less than €30K</td>\n",
       "      <td>39</td>\n",
       "    </tr>\n",
       "    <tr>\n",
       "      <th>2</th>\n",
       "      <td>768000743</td>\n",
       "      <td>No</td>\n",
       "      <td>Silver</td>\n",
       "      <td>2020-01-01</td>\n",
       "      <td>2</td>\n",
       "      <td>6394.0</td>\n",
       "      <td>0</td>\n",
       "      <td>6394.0</td>\n",
       "      <td>0.000</td>\n",
       "      <td>55.0</td>\n",
       "      <td>F</td>\n",
       "      <td>Second level</td>\n",
       "      <td>Single</td>\n",
       "      <td>2</td>\n",
       "      <td>Less than €30K</td>\n",
       "      <td>39</td>\n",
       "    </tr>\n",
       "    <tr>\n",
       "      <th>3</th>\n",
       "      <td>722161439</td>\n",
       "      <td>No</td>\n",
       "      <td>Silver</td>\n",
       "      <td>2020-08-01</td>\n",
       "      <td>3</td>\n",
       "      <td>4663.0</td>\n",
       "      <td>0</td>\n",
       "      <td>4663.0</td>\n",
       "      <td>0.000</td>\n",
       "      <td>41.0</td>\n",
       "      <td>F</td>\n",
       "      <td>Graduate</td>\n",
       "      <td>NaN</td>\n",
       "      <td>2</td>\n",
       "      <td>€30K - €50K</td>\n",
       "      <td>32</td>\n",
       "    </tr>\n",
       "    <tr>\n",
       "      <th>4</th>\n",
       "      <td>759029725</td>\n",
       "      <td>No</td>\n",
       "      <td>Silver</td>\n",
       "      <td>2021-02-01</td>\n",
       "      <td>4</td>\n",
       "      <td>1879.0</td>\n",
       "      <td>1486</td>\n",
       "      <td>393.0</td>\n",
       "      <td>0.791</td>\n",
       "      <td>37.0</td>\n",
       "      <td>F</td>\n",
       "      <td>Second level</td>\n",
       "      <td>Single</td>\n",
       "      <td>1</td>\n",
       "      <td>Less than €30K</td>\n",
       "      <td>26</td>\n",
       "    </tr>\n",
       "    <tr>\n",
       "      <th>...</th>\n",
       "      <td>...</td>\n",
       "      <td>...</td>\n",
       "      <td>...</td>\n",
       "      <td>...</td>\n",
       "      <td>...</td>\n",
       "      <td>...</td>\n",
       "      <td>...</td>\n",
       "      <td>...</td>\n",
       "      <td>...</td>\n",
       "      <td>...</td>\n",
       "      <td>...</td>\n",
       "      <td>...</td>\n",
       "      <td>...</td>\n",
       "      <td>...</td>\n",
       "      <td>...</td>\n",
       "      <td>...</td>\n",
       "    </tr>\n",
       "    <tr>\n",
       "      <th>6572</th>\n",
       "      <td>785444639</td>\n",
       "      <td>No</td>\n",
       "      <td>Silver</td>\n",
       "      <td>2020-01-01</td>\n",
       "      <td>3</td>\n",
       "      <td>3832.0</td>\n",
       "      <td>1439</td>\n",
       "      <td>2393.0</td>\n",
       "      <td>0.376</td>\n",
       "      <td>58.0</td>\n",
       "      <td>F</td>\n",
       "      <td>Unknown</td>\n",
       "      <td>Married</td>\n",
       "      <td>0</td>\n",
       "      <td>Less than €30K</td>\n",
       "      <td>39</td>\n",
       "    </tr>\n",
       "    <tr>\n",
       "      <th>6573</th>\n",
       "      <td>757416641</td>\n",
       "      <td>No</td>\n",
       "      <td>Silver</td>\n",
       "      <td>2019-08-01</td>\n",
       "      <td>2</td>\n",
       "      <td>4167.0</td>\n",
       "      <td>0</td>\n",
       "      <td>4167.0</td>\n",
       "      <td>0.000</td>\n",
       "      <td>60.0</td>\n",
       "      <td>F</td>\n",
       "      <td>Post LC</td>\n",
       "      <td>Married</td>\n",
       "      <td>2</td>\n",
       "      <td>Less than €30K</td>\n",
       "      <td>44</td>\n",
       "    </tr>\n",
       "    <tr>\n",
       "      <th>6574</th>\n",
       "      <td>817395226</td>\n",
       "      <td>No</td>\n",
       "      <td>Silver</td>\n",
       "      <td>2019-12-01</td>\n",
       "      <td>2</td>\n",
       "      <td>2470.0</td>\n",
       "      <td>2013</td>\n",
       "      <td>457.0</td>\n",
       "      <td>0.815</td>\n",
       "      <td>42.0</td>\n",
       "      <td>F</td>\n",
       "      <td>Graduate</td>\n",
       "      <td>Married</td>\n",
       "      <td>3</td>\n",
       "      <td>€30K - €50K</td>\n",
       "      <td>40</td>\n",
       "    </tr>\n",
       "    <tr>\n",
       "      <th>6575</th>\n",
       "      <td>732032194</td>\n",
       "      <td>No</td>\n",
       "      <td>Silver</td>\n",
       "      <td>2020-01-01</td>\n",
       "      <td>2</td>\n",
       "      <td>8138.0</td>\n",
       "      <td>2104</td>\n",
       "      <td>6034.0</td>\n",
       "      <td>0.259</td>\n",
       "      <td>NaN</td>\n",
       "      <td>F</td>\n",
       "      <td>Second level</td>\n",
       "      <td>Married</td>\n",
       "      <td>0</td>\n",
       "      <td>Unknown</td>\n",
       "      <td>39</td>\n",
       "    </tr>\n",
       "    <tr>\n",
       "      <th>6576</th>\n",
       "      <td>759872383</td>\n",
       "      <td>Yes</td>\n",
       "      <td>Silver</td>\n",
       "      <td>2020-08-01</td>\n",
       "      <td>3</td>\n",
       "      <td>1653.0</td>\n",
       "      <td>0</td>\n",
       "      <td>1653.0</td>\n",
       "      <td>0.000</td>\n",
       "      <td>37.0</td>\n",
       "      <td>F</td>\n",
       "      <td>Second level</td>\n",
       "      <td>Single</td>\n",
       "      <td>3</td>\n",
       "      <td>Less than €30K</td>\n",
       "      <td>32</td>\n",
       "    </tr>\n",
       "  </tbody>\n",
       "</table>\n",
       "<p>6556 rows × 16 columns</p>\n",
       "</div>"
      ],
      "text/plain": [
       "       Customer Churn    Card Start_Date  Customer_Service_Calls  \\\n",
       "0     797197508    No  Silver 2020-06-01                       1   \n",
       "1     812854728    No  Silver 2020-01-01                       1   \n",
       "2     768000743    No  Silver 2020-01-01                       2   \n",
       "3     722161439    No  Silver 2020-08-01                       3   \n",
       "4     759029725    No  Silver 2021-02-01                       4   \n",
       "...         ...   ...     ...        ...                     ...   \n",
       "6572  785444639    No  Silver 2020-01-01                       3   \n",
       "6573  757416641    No  Silver 2019-08-01                       2   \n",
       "6574  817395226    No  Silver 2019-12-01                       2   \n",
       "6575  732032194    No  Silver 2020-01-01                       2   \n",
       "6576  759872383   Yes  Silver 2020-08-01                       3   \n",
       "\n",
       "      Credit_Limit  Total_Revolving_Balance  Average_Open_To_Buy  \\\n",
       "0           2315.0                     1565                750.0   \n",
       "1           7645.0                     2076               5569.0   \n",
       "2           6394.0                        0               6394.0   \n",
       "3           4663.0                        0               4663.0   \n",
       "4           1879.0                     1486                393.0   \n",
       "...            ...                      ...                  ...   \n",
       "6572        3832.0                     1439               2393.0   \n",
       "6573        4167.0                        0               4167.0   \n",
       "6574        2470.0                     2013                457.0   \n",
       "6575        8138.0                     2104               6034.0   \n",
       "6576        1653.0                        0               1653.0   \n",
       "\n",
       "      Average_Utilisation_Ratio   Age Gender     Education Marital_Status  \\\n",
       "0                         0.676  48.0      F      Graduate        Married   \n",
       "1                         0.272  58.0      F  Second level         Single   \n",
       "2                         0.000  55.0      F  Second level         Single   \n",
       "3                         0.000  41.0      F      Graduate            NaN   \n",
       "4                         0.791  37.0      F  Second level         Single   \n",
       "...                         ...   ...    ...           ...            ...   \n",
       "6572                      0.376  58.0      F       Unknown        Married   \n",
       "6573                      0.000  60.0      F       Post LC        Married   \n",
       "6574                      0.815  42.0      F      Graduate        Married   \n",
       "6575                      0.259   NaN      F  Second level        Married   \n",
       "6576                      0.000  37.0      F  Second level         Single   \n",
       "\n",
       "      Dependents          Income  nb_months  \n",
       "0              2  Less than €30K         34  \n",
       "1              5  Less than €30K         39  \n",
       "2              2  Less than €30K         39  \n",
       "3              2     €30K - €50K         32  \n",
       "4              1  Less than €30K         26  \n",
       "...          ...             ...        ...  \n",
       "6572           0  Less than €30K         39  \n",
       "6573           2  Less than €30K         44  \n",
       "6574           3     €30K - €50K         40  \n",
       "6575           0         Unknown         39  \n",
       "6576           3  Less than €30K         32  \n",
       "\n",
       "[6556 rows x 16 columns]"
      ]
     },
     "execution_count": 24,
     "metadata": {},
     "output_type": "execute_result"
    }
   ],
   "source": [
    "df_customers.Start_Date = pd.to_datetime(df_customers.Start_Date)\n",
    "df_customers['nb_months'] = ((pd.to_datetime(\"today\") - df_customers.Start_Date)/np.timedelta64(1, 'M'))\n",
    "df_customers['nb_months'] = df_customers['nb_months'].astype(int)\n",
    "df_customers"
   ]
  },
  {
   "cell_type": "markdown",
   "id": "a1c666ba-ce86-4818-bcca-44c753209520",
   "metadata": {},
   "source": [
    "#### For unknown age set the age to the median and record where age was not set"
   ]
  },
  {
   "cell_type": "code",
   "execution_count": 25,
   "id": "b18df152-8f9e-4960-85c1-a482b8d8349f",
   "metadata": {},
   "outputs": [],
   "source": [
    "df_customers.insert(loc=10, column = 'Age_was_NA',value=0)"
   ]
  },
  {
   "cell_type": "code",
   "execution_count": 26,
   "id": "d8173793-59fe-476a-94b7-e9e3ba8ab516",
   "metadata": {},
   "outputs": [],
   "source": [
    "df_customers['Age_was_NA'].loc[df_customers['Age'].isnull()] = 1"
   ]
  },
  {
   "cell_type": "code",
   "execution_count": 27,
   "id": "f7c112df-4e9c-4ab0-afe3-c13d7284fb7e",
   "metadata": {},
   "outputs": [
    {
     "data": {
      "text/plain": [
       "47.12160228898426"
      ]
     },
     "execution_count": 27,
     "metadata": {},
     "output_type": "execute_result"
    }
   ],
   "source": [
    "median_age = df_customers.Age.median()\n",
    "median_age\n",
    "mean_age = df_customers.Age.mean()\n",
    "mean_age"
   ]
  },
  {
   "cell_type": "code",
   "execution_count": 28,
   "id": "11019a04-3cbe-4020-bc1b-40365c4d0464",
   "metadata": {},
   "outputs": [],
   "source": [
    "df_customers['Age'].loc[df_customers['Age'].isnull()] = mean_age"
   ]
  },
  {
   "cell_type": "code",
   "execution_count": 29,
   "id": "35897a8e-69e9-4626-8c65-bc824f59db94",
   "metadata": {},
   "outputs": [
    {
     "name": "stdout",
     "output_type": "stream",
     "text": [
      "<class 'pandas.core.frame.DataFrame'>\n",
      "Int64Index: 6556 entries, 0 to 6576\n",
      "Data columns (total 17 columns):\n",
      " #   Column                     Non-Null Count  Dtype         \n",
      "---  ------                     --------------  -----         \n",
      " 0   Customer                   6556 non-null   int64         \n",
      " 1   Churn                      6556 non-null   object        \n",
      " 2   Card                       6556 non-null   object        \n",
      " 3   Start_Date                 6556 non-null   datetime64[ns]\n",
      " 4   Customer_Service_Calls     6556 non-null   int64         \n",
      " 5   Credit_Limit               6556 non-null   float64       \n",
      " 6   Total_Revolving_Balance    6556 non-null   int64         \n",
      " 7   Average_Open_To_Buy        6556 non-null   float64       \n",
      " 8   Average_Utilisation_Ratio  6556 non-null   float64       \n",
      " 9   Age                        6556 non-null   float64       \n",
      " 10  Age_was_NA                 6556 non-null   int64         \n",
      " 11  Gender                     6556 non-null   object        \n",
      " 12  Education                  6556 non-null   object        \n",
      " 13  Marital_Status             6081 non-null   object        \n",
      " 14  Dependents                 6556 non-null   int64         \n",
      " 15  Income                     6556 non-null   object        \n",
      " 16  nb_months                  6556 non-null   int32         \n",
      "dtypes: datetime64[ns](1), float64(4), int32(1), int64(5), object(6)\n",
      "memory usage: 896.3+ KB\n"
     ]
    }
   ],
   "source": [
    "df_customers.info()"
   ]
  },
  {
   "cell_type": "markdown",
   "id": "14e350d8-725f-46c7-9ffd-ad52bb59dca3",
   "metadata": {},
   "source": [
    "#### What % of customers churn"
   ]
  },
  {
   "cell_type": "code",
   "execution_count": 30,
   "id": "07a7c817-9bc6-4ef3-8ec7-8b4ade9244c6",
   "metadata": {},
   "outputs": [
    {
     "data": {
      "text/plain": [
       "No     0.842282\n",
       "Yes    0.157718\n",
       "Name: Churn, dtype: float64"
      ]
     },
     "execution_count": 30,
     "metadata": {},
     "output_type": "execute_result"
    }
   ],
   "source": [
    "df_customers.Churn.value_counts(normalize=True)"
   ]
  },
  {
   "cell_type": "markdown",
   "id": "a4a6a1e0-249d-45b6-a4c0-050310a62420",
   "metadata": {},
   "source": [
    "### Import the transactions.csv data to a dataframe"
   ]
  },
  {
   "cell_type": "code",
   "execution_count": 31,
   "id": "04114a9b-b2ed-4352-a92c-95f9bce165c7",
   "metadata": {},
   "outputs": [
    {
     "name": "stdout",
     "output_type": "stream",
     "text": [
      "(514611, 3)\n"
     ]
    },
    {
     "data": {
      "text/html": [
       "<div>\n",
       "<style scoped>\n",
       "    .dataframe tbody tr th:only-of-type {\n",
       "        vertical-align: middle;\n",
       "    }\n",
       "\n",
       "    .dataframe tbody tr th {\n",
       "        vertical-align: top;\n",
       "    }\n",
       "\n",
       "    .dataframe thead th {\n",
       "        text-align: right;\n",
       "    }\n",
       "</style>\n",
       "<table border=\"1\" class=\"dataframe\">\n",
       "  <thead>\n",
       "    <tr style=\"text-align: right;\">\n",
       "      <th></th>\n",
       "      <th>Customer</th>\n",
       "      <th>Date</th>\n",
       "      <th>Amount</th>\n",
       "    </tr>\n",
       "  </thead>\n",
       "  <tbody>\n",
       "    <tr>\n",
       "      <th>0</th>\n",
       "      <td>828247016</td>\n",
       "      <td>2022-03-01</td>\n",
       "      <td>70.94</td>\n",
       "    </tr>\n",
       "    <tr>\n",
       "      <th>1</th>\n",
       "      <td>828247016</td>\n",
       "      <td>2022-02-21</td>\n",
       "      <td>52.16</td>\n",
       "    </tr>\n",
       "    <tr>\n",
       "      <th>2</th>\n",
       "      <td>828247016</td>\n",
       "      <td>2022-02-19</td>\n",
       "      <td>67.03</td>\n",
       "    </tr>\n",
       "    <tr>\n",
       "      <th>3</th>\n",
       "      <td>828247016</td>\n",
       "      <td>2022-02-19</td>\n",
       "      <td>48.24</td>\n",
       "    </tr>\n",
       "    <tr>\n",
       "      <th>4</th>\n",
       "      <td>828247016</td>\n",
       "      <td>2022-05-20</td>\n",
       "      <td>10.97</td>\n",
       "    </tr>\n",
       "  </tbody>\n",
       "</table>\n",
       "</div>"
      ],
      "text/plain": [
       "    Customer        Date  Amount\n",
       "0  828247016  2022-03-01   70.94\n",
       "1  828247016  2022-02-21   52.16\n",
       "2  828247016  2022-02-19   67.03\n",
       "3  828247016  2022-02-19   48.24\n",
       "4  828247016  2022-05-20   10.97"
      ]
     },
     "execution_count": 31,
     "metadata": {},
     "output_type": "execute_result"
    }
   ],
   "source": [
    "df_transactions = pd.read_csv(\"orig/transactions_train.csv\")\n",
    "print(df_transactions.shape)\n",
    "df_transactions.head(5)"
   ]
  },
  {
   "cell_type": "code",
   "execution_count": 32,
   "id": "9c97388d-27b4-4650-8ab1-c7c4812dccc2",
   "metadata": {},
   "outputs": [
    {
     "name": "stdout",
     "output_type": "stream",
     "text": [
      "<class 'pandas.core.frame.DataFrame'>\n",
      "RangeIndex: 514611 entries, 0 to 514610\n",
      "Data columns (total 3 columns):\n",
      " #   Column    Non-Null Count   Dtype  \n",
      "---  ------    --------------   -----  \n",
      " 0   Customer  514611 non-null  int64  \n",
      " 1   Date      514611 non-null  object \n",
      " 2   Amount    514611 non-null  float64\n",
      "dtypes: float64(1), int64(1), object(1)\n",
      "memory usage: 11.8+ MB\n"
     ]
    }
   ],
   "source": [
    "df_transactions.info()"
   ]
  },
  {
   "cell_type": "markdown",
   "id": "d70d5ae2-4f1c-4c22-87a9-0b2307c170d8",
   "metadata": {},
   "source": [
    "### Create a feature for the number of transactions"
   ]
  },
  {
   "cell_type": "code",
   "execution_count": 33,
   "id": "b25b678a-4f7d-4ef4-bf89-4e00ce934fd0",
   "metadata": {},
   "outputs": [
    {
     "data": {
      "text/html": [
       "<div>\n",
       "<style scoped>\n",
       "    .dataframe tbody tr th:only-of-type {\n",
       "        vertical-align: middle;\n",
       "    }\n",
       "\n",
       "    .dataframe tbody tr th {\n",
       "        vertical-align: top;\n",
       "    }\n",
       "\n",
       "    .dataframe thead th {\n",
       "        text-align: right;\n",
       "    }\n",
       "</style>\n",
       "<table border=\"1\" class=\"dataframe\">\n",
       "  <thead>\n",
       "    <tr style=\"text-align: right;\">\n",
       "      <th></th>\n",
       "      <th>Customer</th>\n",
       "      <th>num_trans</th>\n",
       "    </tr>\n",
       "  </thead>\n",
       "  <tbody>\n",
       "    <tr>\n",
       "      <th>0</th>\n",
       "      <td>708115009</td>\n",
       "      <td>36</td>\n",
       "    </tr>\n",
       "    <tr>\n",
       "      <th>1</th>\n",
       "      <td>708117651</td>\n",
       "      <td>86</td>\n",
       "    </tr>\n",
       "    <tr>\n",
       "      <th>2</th>\n",
       "      <td>708163600</td>\n",
       "      <td>104</td>\n",
       "    </tr>\n",
       "    <tr>\n",
       "      <th>3</th>\n",
       "      <td>708166361</td>\n",
       "      <td>72</td>\n",
       "    </tr>\n",
       "    <tr>\n",
       "      <th>4</th>\n",
       "      <td>708169780</td>\n",
       "      <td>78</td>\n",
       "    </tr>\n",
       "    <tr>\n",
       "      <th>...</th>\n",
       "      <td>...</td>\n",
       "      <td>...</td>\n",
       "    </tr>\n",
       "    <tr>\n",
       "      <th>7874</th>\n",
       "      <td>828277434</td>\n",
       "      <td>72</td>\n",
       "    </tr>\n",
       "    <tr>\n",
       "      <th>7875</th>\n",
       "      <td>828283866</td>\n",
       "      <td>75</td>\n",
       "    </tr>\n",
       "    <tr>\n",
       "      <th>7876</th>\n",
       "      <td>828288658</td>\n",
       "      <td>68</td>\n",
       "    </tr>\n",
       "    <tr>\n",
       "      <th>7877</th>\n",
       "      <td>828290781</td>\n",
       "      <td>92</td>\n",
       "    </tr>\n",
       "    <tr>\n",
       "      <th>7878</th>\n",
       "      <td>828317722</td>\n",
       "      <td>96</td>\n",
       "    </tr>\n",
       "  </tbody>\n",
       "</table>\n",
       "<p>7879 rows × 2 columns</p>\n",
       "</div>"
      ],
      "text/plain": [
       "       Customer  num_trans\n",
       "0     708115009         36\n",
       "1     708117651         86\n",
       "2     708163600        104\n",
       "3     708166361         72\n",
       "4     708169780         78\n",
       "...         ...        ...\n",
       "7874  828277434         72\n",
       "7875  828283866         75\n",
       "7876  828288658         68\n",
       "7877  828290781         92\n",
       "7878  828317722         96\n",
       "\n",
       "[7879 rows x 2 columns]"
      ]
     },
     "execution_count": 33,
     "metadata": {},
     "output_type": "execute_result"
    }
   ],
   "source": [
    "df_transactions_count = df_transactions.groupby(['Customer']).count().reset_index()\n",
    "df_transactions_count = df_transactions_count.rename(columns ={\"Date\": \"num_trans\"})\n",
    "df_transactions_count= df_transactions_count.drop(columns =[\"Amount\"])\n",
    "df_transactions_count"
   ]
  },
  {
   "cell_type": "markdown",
   "id": "79b4d560-51e2-4f2d-9c34-cf04209266c1",
   "metadata": {},
   "source": [
    "### Aggregate the transaction per customer"
   ]
  },
  {
   "cell_type": "code",
   "execution_count": 34,
   "id": "8441793c-2764-414f-aedd-551b31e7127c",
   "metadata": {},
   "outputs": [
    {
     "data": {
      "text/html": [
       "<div>\n",
       "<style scoped>\n",
       "    .dataframe tbody tr th:only-of-type {\n",
       "        vertical-align: middle;\n",
       "    }\n",
       "\n",
       "    .dataframe tbody tr th {\n",
       "        vertical-align: top;\n",
       "    }\n",
       "\n",
       "    .dataframe thead th {\n",
       "        text-align: right;\n",
       "    }\n",
       "</style>\n",
       "<table border=\"1\" class=\"dataframe\">\n",
       "  <thead>\n",
       "    <tr style=\"text-align: right;\">\n",
       "      <th></th>\n",
       "      <th>Customer</th>\n",
       "      <th>Amount</th>\n",
       "    </tr>\n",
       "  </thead>\n",
       "  <tbody>\n",
       "    <tr>\n",
       "      <th>0</th>\n",
       "      <td>708115009</td>\n",
       "      <td>1886.99</td>\n",
       "    </tr>\n",
       "    <tr>\n",
       "      <th>1</th>\n",
       "      <td>708117651</td>\n",
       "      <td>7400.03</td>\n",
       "    </tr>\n",
       "    <tr>\n",
       "      <th>2</th>\n",
       "      <td>708163600</td>\n",
       "      <td>13299.99</td>\n",
       "    </tr>\n",
       "    <tr>\n",
       "      <th>3</th>\n",
       "      <td>708166361</td>\n",
       "      <td>4107.99</td>\n",
       "    </tr>\n",
       "    <tr>\n",
       "      <th>4</th>\n",
       "      <td>708169780</td>\n",
       "      <td>4539.95</td>\n",
       "    </tr>\n",
       "    <tr>\n",
       "      <th>...</th>\n",
       "      <td>...</td>\n",
       "      <td>...</td>\n",
       "    </tr>\n",
       "    <tr>\n",
       "      <th>7874</th>\n",
       "      <td>828277434</td>\n",
       "      <td>4079.99</td>\n",
       "    </tr>\n",
       "    <tr>\n",
       "      <th>7875</th>\n",
       "      <td>828283866</td>\n",
       "      <td>4464.00</td>\n",
       "    </tr>\n",
       "    <tr>\n",
       "      <th>7876</th>\n",
       "      <td>828288658</td>\n",
       "      <td>4273.98</td>\n",
       "    </tr>\n",
       "    <tr>\n",
       "      <th>7877</th>\n",
       "      <td>828290781</td>\n",
       "      <td>8160.02</td>\n",
       "    </tr>\n",
       "    <tr>\n",
       "      <th>7878</th>\n",
       "      <td>828317722</td>\n",
       "      <td>7370.00</td>\n",
       "    </tr>\n",
       "  </tbody>\n",
       "</table>\n",
       "<p>7879 rows × 2 columns</p>\n",
       "</div>"
      ],
      "text/plain": [
       "       Customer    Amount\n",
       "0     708115009   1886.99\n",
       "1     708117651   7400.03\n",
       "2     708163600  13299.99\n",
       "3     708166361   4107.99\n",
       "4     708169780   4539.95\n",
       "...         ...       ...\n",
       "7874  828277434   4079.99\n",
       "7875  828283866   4464.00\n",
       "7876  828288658   4273.98\n",
       "7877  828290781   8160.02\n",
       "7878  828317722   7370.00\n",
       "\n",
       "[7879 rows x 2 columns]"
      ]
     },
     "execution_count": 34,
     "metadata": {},
     "output_type": "execute_result"
    }
   ],
   "source": [
    "df_transactions = df_transactions.groupby(['Customer']).sum(['Amount']).reset_index()\n",
    "df_transactions"
   ]
  },
  {
   "cell_type": "markdown",
   "id": "478b68e5-1458-4b2b-b90b-91f66969ea8e",
   "metadata": {},
   "source": [
    "#### Merge both dataframes together and we have one dataset with one row per customer"
   ]
  },
  {
   "cell_type": "code",
   "execution_count": 35,
   "id": "b394b449-ebe3-4de0-8656-021b0d6f7df6",
   "metadata": {},
   "outputs": [
    {
     "data": {
      "text/html": [
       "<div>\n",
       "<style scoped>\n",
       "    .dataframe tbody tr th:only-of-type {\n",
       "        vertical-align: middle;\n",
       "    }\n",
       "\n",
       "    .dataframe tbody tr th {\n",
       "        vertical-align: top;\n",
       "    }\n",
       "\n",
       "    .dataframe thead th {\n",
       "        text-align: right;\n",
       "    }\n",
       "</style>\n",
       "<table border=\"1\" class=\"dataframe\">\n",
       "  <thead>\n",
       "    <tr style=\"text-align: right;\">\n",
       "      <th></th>\n",
       "      <th>Customer</th>\n",
       "      <th>num_trans</th>\n",
       "      <th>Amount</th>\n",
       "    </tr>\n",
       "  </thead>\n",
       "  <tbody>\n",
       "    <tr>\n",
       "      <th>0</th>\n",
       "      <td>708115009</td>\n",
       "      <td>36</td>\n",
       "      <td>1886.99</td>\n",
       "    </tr>\n",
       "    <tr>\n",
       "      <th>1</th>\n",
       "      <td>708117651</td>\n",
       "      <td>86</td>\n",
       "      <td>7400.03</td>\n",
       "    </tr>\n",
       "    <tr>\n",
       "      <th>2</th>\n",
       "      <td>708163600</td>\n",
       "      <td>104</td>\n",
       "      <td>13299.99</td>\n",
       "    </tr>\n",
       "    <tr>\n",
       "      <th>3</th>\n",
       "      <td>708166361</td>\n",
       "      <td>72</td>\n",
       "      <td>4107.99</td>\n",
       "    </tr>\n",
       "    <tr>\n",
       "      <th>4</th>\n",
       "      <td>708169780</td>\n",
       "      <td>78</td>\n",
       "      <td>4539.95</td>\n",
       "    </tr>\n",
       "    <tr>\n",
       "      <th>...</th>\n",
       "      <td>...</td>\n",
       "      <td>...</td>\n",
       "      <td>...</td>\n",
       "    </tr>\n",
       "    <tr>\n",
       "      <th>7874</th>\n",
       "      <td>828277434</td>\n",
       "      <td>72</td>\n",
       "      <td>4079.99</td>\n",
       "    </tr>\n",
       "    <tr>\n",
       "      <th>7875</th>\n",
       "      <td>828283866</td>\n",
       "      <td>75</td>\n",
       "      <td>4464.00</td>\n",
       "    </tr>\n",
       "    <tr>\n",
       "      <th>7876</th>\n",
       "      <td>828288658</td>\n",
       "      <td>68</td>\n",
       "      <td>4273.98</td>\n",
       "    </tr>\n",
       "    <tr>\n",
       "      <th>7877</th>\n",
       "      <td>828290781</td>\n",
       "      <td>92</td>\n",
       "      <td>8160.02</td>\n",
       "    </tr>\n",
       "    <tr>\n",
       "      <th>7878</th>\n",
       "      <td>828317722</td>\n",
       "      <td>96</td>\n",
       "      <td>7370.00</td>\n",
       "    </tr>\n",
       "  </tbody>\n",
       "</table>\n",
       "<p>7879 rows × 3 columns</p>\n",
       "</div>"
      ],
      "text/plain": [
       "       Customer  num_trans    Amount\n",
       "0     708115009         36   1886.99\n",
       "1     708117651         86   7400.03\n",
       "2     708163600        104  13299.99\n",
       "3     708166361         72   4107.99\n",
       "4     708169780         78   4539.95\n",
       "...         ...        ...       ...\n",
       "7874  828277434         72   4079.99\n",
       "7875  828283866         75   4464.00\n",
       "7876  828288658         68   4273.98\n",
       "7877  828290781         92   8160.02\n",
       "7878  828317722         96   7370.00\n",
       "\n",
       "[7879 rows x 3 columns]"
      ]
     },
     "execution_count": 35,
     "metadata": {},
     "output_type": "execute_result"
    }
   ],
   "source": [
    "df_transactions2 = (pd.merge(df_transactions_count, df_transactions, on='Customer'))\n",
    "df_transactions2"
   ]
  },
  {
   "cell_type": "markdown",
   "id": "d85c1595-e11c-4f9c-b2fe-a18c2b30f95d",
   "metadata": {},
   "source": [
    "### Identify Categorical and numerical features\n",
    "Looking at the customer df only initially"
   ]
  },
  {
   "cell_type": "markdown",
   "id": "9ac4eb16-b846-4c8f-947b-0041cb0d9d5c",
   "metadata": {},
   "source": [
    "for null marital status set to unkown and record where it was previously null\n"
   ]
  },
  {
   "cell_type": "code",
   "execution_count": 36,
   "id": "fa5bc1e9-9e55-4792-b529-ce6217b02cb3",
   "metadata": {},
   "outputs": [],
   "source": [
    "df_customers.insert(loc=14, column = 'M_Stat_was_NA',value=0)"
   ]
  },
  {
   "cell_type": "code",
   "execution_count": 37,
   "id": "faf6de85-2257-4fe9-865f-c6dfcec08e7b",
   "metadata": {},
   "outputs": [],
   "source": [
    "df_customers['M_Stat_was_NA'].loc[df_customers['Marital_Status'].isnull()] = 1"
   ]
  },
  {
   "cell_type": "code",
   "execution_count": 38,
   "id": "cd0945a3-54e5-46c6-9de2-bd34a1cf1bee",
   "metadata": {},
   "outputs": [],
   "source": [
    "df_customers['Marital_Status'].loc[df_customers['Marital_Status'].isnull()] = 'Unknown'"
   ]
  },
  {
   "cell_type": "code",
   "execution_count": 39,
   "id": "3a3b44ef-2e3c-4b8f-a514-681220724af8",
   "metadata": {},
   "outputs": [],
   "source": [
    "df_customers.Gender = pd.Categorical(df_customers.Gender)\n",
    "df_customers.Marital_Status = pd.Categorical(df_customers.Marital_Status)\n",
    "df_customers.Card = pd.Categorical(df_customers.Card)\n",
    "df_customers.Income = pd.Categorical(df_customers.Income)\n",
    "#df_customers.Churn = pd.Categorical(df_customers.Churn)"
   ]
  },
  {
   "cell_type": "code",
   "execution_count": 40,
   "id": "7e060175-69c7-4914-92a7-d46981ff4b74",
   "metadata": {},
   "outputs": [
    {
     "name": "stdout",
     "output_type": "stream",
     "text": [
      "<class 'pandas.core.frame.DataFrame'>\n",
      "Int64Index: 6556 entries, 0 to 6576\n",
      "Data columns (total 18 columns):\n",
      " #   Column                     Non-Null Count  Dtype         \n",
      "---  ------                     --------------  -----         \n",
      " 0   Customer                   6556 non-null   int64         \n",
      " 1   Churn                      6556 non-null   object        \n",
      " 2   Card                       6556 non-null   category      \n",
      " 3   Start_Date                 6556 non-null   datetime64[ns]\n",
      " 4   Customer_Service_Calls     6556 non-null   int64         \n",
      " 5   Credit_Limit               6556 non-null   float64       \n",
      " 6   Total_Revolving_Balance    6556 non-null   int64         \n",
      " 7   Average_Open_To_Buy        6556 non-null   float64       \n",
      " 8   Average_Utilisation_Ratio  6556 non-null   float64       \n",
      " 9   Age                        6556 non-null   float64       \n",
      " 10  Age_was_NA                 6556 non-null   int64         \n",
      " 11  Gender                     6556 non-null   category      \n",
      " 12  Education                  6556 non-null   object        \n",
      " 13  Marital_Status             6556 non-null   category      \n",
      " 14  M_Stat_was_NA              6556 non-null   int64         \n",
      " 15  Dependents                 6556 non-null   int64         \n",
      " 16  Income                     6556 non-null   category      \n",
      " 17  nb_months                  6556 non-null   int32         \n",
      "dtypes: category(4), datetime64[ns](1), float64(4), int32(1), int64(6), object(2)\n",
      "memory usage: 769.0+ KB\n"
     ]
    }
   ],
   "source": [
    "df_customers.info()"
   ]
  },
  {
   "cell_type": "markdown",
   "id": "b81a49ef-15c1-4bff-83ac-ef0449577375",
   "metadata": {},
   "source": [
    "### Merge the customer and accounts dataframes"
   ]
  },
  {
   "cell_type": "code",
   "execution_count": 41,
   "id": "b017d67c-2924-4637-bb08-6143fe081feb",
   "metadata": {},
   "outputs": [],
   "source": [
    "df_cust_acc = (pd.merge(df_customers, df_accounts4, on='Customer'))"
   ]
  },
  {
   "cell_type": "code",
   "execution_count": 42,
   "id": "679d89e9-e12a-4d31-acbf-a7e8da9e2f11",
   "metadata": {},
   "outputs": [
    {
     "name": "stdout",
     "output_type": "stream",
     "text": [
      "<class 'pandas.core.frame.DataFrame'>\n",
      "Int64Index: 6556 entries, 0 to 6555\n",
      "Data columns (total 27 columns):\n",
      " #   Column                     Non-Null Count  Dtype         \n",
      "---  ------                     --------------  -----         \n",
      " 0   Customer                   6556 non-null   int64         \n",
      " 1   Churn                      6556 non-null   object        \n",
      " 2   Card                       6556 non-null   category      \n",
      " 3   Start_Date                 6556 non-null   datetime64[ns]\n",
      " 4   Customer_Service_Calls     6556 non-null   int64         \n",
      " 5   Credit_Limit               6556 non-null   float64       \n",
      " 6   Total_Revolving_Balance    6556 non-null   int64         \n",
      " 7   Average_Open_To_Buy        6556 non-null   float64       \n",
      " 8   Average_Utilisation_Ratio  6556 non-null   float64       \n",
      " 9   Age                        6556 non-null   float64       \n",
      " 10  Age_was_NA                 6556 non-null   int64         \n",
      " 11  Gender                     6556 non-null   category      \n",
      " 12  Education                  6556 non-null   object        \n",
      " 13  Marital_Status             6556 non-null   category      \n",
      " 14  M_Stat_was_NA              6556 non-null   int64         \n",
      " 15  Dependents                 6556 non-null   int64         \n",
      " 16  Income                     6556 non-null   category      \n",
      " 17  nb_months                  6556 non-null   int32         \n",
      " 18  num_accs                   6556 non-null   int64         \n",
      " 19  Joint                      6556 non-null   int64         \n",
      " 20  Deposit                    6556 non-null   int64         \n",
      " 21  Current                    6556 non-null   int64         \n",
      " 22  Investment                 6556 non-null   int64         \n",
      " 23  Mortgage                   6556 non-null   int64         \n",
      " 24  Credit_Card                6556 non-null   int64         \n",
      " 25  On_Demand_Deposit          6556 non-null   int64         \n",
      " 26  Loan                       6556 non-null   int64         \n",
      "dtypes: category(4), datetime64[ns](1), float64(4), int32(1), int64(15), object(2)\n",
      "memory usage: 1.2+ MB\n"
     ]
    }
   ],
   "source": [
    "df_cust_acc.info()"
   ]
  },
  {
   "cell_type": "code",
   "execution_count": 43,
   "id": "19cde8f0-ca68-4860-9bf3-496feed9f96e",
   "metadata": {},
   "outputs": [],
   "source": [
    "df_cust_acc.On_Demand_Deposit = pd.Categorical(df_cust_acc.On_Demand_Deposit)\n",
    "df_cust_acc.Investment = pd.Categorical(df_cust_acc.Investment)\n",
    "df_cust_acc.Credit_Card = pd.Categorical(df_cust_acc.Credit_Card)\n",
    "df_cust_acc.Loan = pd.Categorical(df_cust_acc.Loan)\n",
    "df_cust_acc.Joint = pd.Categorical(df_cust_acc.Joint)\n",
    "df_cust_acc.Mortgage = pd.Categorical(df_cust_acc.Mortgage)\n",
    "df_cust_acc.Current = pd.Categorical(df_cust_acc.Current)\n",
    "df_cust_acc.Deposit = pd.Categorical(df_cust_acc.Deposit)\n",
    "df_cust_acc.Education = pd.Categorical(df_cust_acc.Education)"
   ]
  },
  {
   "cell_type": "code",
   "execution_count": 44,
   "id": "20cddfe0-2088-401d-882f-dbf83c2bf27d",
   "metadata": {},
   "outputs": [
    {
     "name": "stdout",
     "output_type": "stream",
     "text": [
      "<class 'pandas.core.frame.DataFrame'>\n",
      "Int64Index: 6556 entries, 0 to 6555\n",
      "Data columns (total 27 columns):\n",
      " #   Column                     Non-Null Count  Dtype         \n",
      "---  ------                     --------------  -----         \n",
      " 0   Customer                   6556 non-null   int64         \n",
      " 1   Churn                      6556 non-null   object        \n",
      " 2   Card                       6556 non-null   category      \n",
      " 3   Start_Date                 6556 non-null   datetime64[ns]\n",
      " 4   Customer_Service_Calls     6556 non-null   int64         \n",
      " 5   Credit_Limit               6556 non-null   float64       \n",
      " 6   Total_Revolving_Balance    6556 non-null   int64         \n",
      " 7   Average_Open_To_Buy        6556 non-null   float64       \n",
      " 8   Average_Utilisation_Ratio  6556 non-null   float64       \n",
      " 9   Age                        6556 non-null   float64       \n",
      " 10  Age_was_NA                 6556 non-null   int64         \n",
      " 11  Gender                     6556 non-null   category      \n",
      " 12  Education                  6556 non-null   category      \n",
      " 13  Marital_Status             6556 non-null   category      \n",
      " 14  M_Stat_was_NA              6556 non-null   int64         \n",
      " 15  Dependents                 6556 non-null   int64         \n",
      " 16  Income                     6556 non-null   category      \n",
      " 17  nb_months                  6556 non-null   int32         \n",
      " 18  num_accs                   6556 non-null   int64         \n",
      " 19  Joint                      6556 non-null   category      \n",
      " 20  Deposit                    6556 non-null   category      \n",
      " 21  Current                    6556 non-null   category      \n",
      " 22  Investment                 6556 non-null   category      \n",
      " 23  Mortgage                   6556 non-null   category      \n",
      " 24  Credit_Card                6556 non-null   category      \n",
      " 25  On_Demand_Deposit          6556 non-null   category      \n",
      " 26  Loan                       6556 non-null   category      \n",
      "dtypes: category(13), datetime64[ns](1), float64(4), int32(1), int64(7), object(1)\n",
      "memory usage: 827.9+ KB\n"
     ]
    }
   ],
   "source": [
    "df_cust_acc.info()"
   ]
  },
  {
   "cell_type": "code",
   "execution_count": 45,
   "id": "662c0ca8-c37a-4778-8c49-447f308c7ca5",
   "metadata": {},
   "outputs": [],
   "source": [
    "df_cust_acc_tran = (pd.merge(df_cust_acc, df_transactions2, on='Customer'))"
   ]
  },
  {
   "cell_type": "code",
   "execution_count": 46,
   "id": "7d43f2ad-81b2-41f0-bff3-b364db45ee20",
   "metadata": {},
   "outputs": [
    {
     "name": "stdout",
     "output_type": "stream",
     "text": [
      "<class 'pandas.core.frame.DataFrame'>\n",
      "Int64Index: 6556 entries, 0 to 6555\n",
      "Data columns (total 29 columns):\n",
      " #   Column                     Non-Null Count  Dtype         \n",
      "---  ------                     --------------  -----         \n",
      " 0   Customer                   6556 non-null   int64         \n",
      " 1   Churn                      6556 non-null   object        \n",
      " 2   Card                       6556 non-null   category      \n",
      " 3   Start_Date                 6556 non-null   datetime64[ns]\n",
      " 4   Customer_Service_Calls     6556 non-null   int64         \n",
      " 5   Credit_Limit               6556 non-null   float64       \n",
      " 6   Total_Revolving_Balance    6556 non-null   int64         \n",
      " 7   Average_Open_To_Buy        6556 non-null   float64       \n",
      " 8   Average_Utilisation_Ratio  6556 non-null   float64       \n",
      " 9   Age                        6556 non-null   float64       \n",
      " 10  Age_was_NA                 6556 non-null   int64         \n",
      " 11  Gender                     6556 non-null   category      \n",
      " 12  Education                  6556 non-null   category      \n",
      " 13  Marital_Status             6556 non-null   category      \n",
      " 14  M_Stat_was_NA              6556 non-null   int64         \n",
      " 15  Dependents                 6556 non-null   int64         \n",
      " 16  Income                     6556 non-null   category      \n",
      " 17  nb_months                  6556 non-null   int32         \n",
      " 18  num_accs                   6556 non-null   int64         \n",
      " 19  Joint                      6556 non-null   category      \n",
      " 20  Deposit                    6556 non-null   category      \n",
      " 21  Current                    6556 non-null   category      \n",
      " 22  Investment                 6556 non-null   category      \n",
      " 23  Mortgage                   6556 non-null   category      \n",
      " 24  Credit_Card                6556 non-null   category      \n",
      " 25  On_Demand_Deposit          6556 non-null   category      \n",
      " 26  Loan                       6556 non-null   category      \n",
      " 27  num_trans                  6556 non-null   int64         \n",
      " 28  Amount                     6556 non-null   float64       \n",
      "dtypes: category(13), datetime64[ns](1), float64(5), int32(1), int64(8), object(1)\n",
      "memory usage: 930.4+ KB\n"
     ]
    }
   ],
   "source": [
    "df_cust_acc_tran.info()"
   ]
  },
  {
   "cell_type": "code",
   "execution_count": null,
   "id": "2217241d-fece-499f-a7b9-7d32ac76bb8c",
   "metadata": {},
   "outputs": [],
   "source": []
  },
  {
   "cell_type": "code",
   "execution_count": 47,
   "id": "093de698-f6bb-4b11-8934-5774d56a762d",
   "metadata": {},
   "outputs": [
    {
     "data": {
      "image/png": "[encoded data removed]",
      "text/plain": [
       "<Figure size 1000x800 with 1 Axes>"
      ]
     },
     "metadata": {},
     "output_type": "display_data"
    }
   ],
   "source": [
    "labels = 'Churned', 'NotChurned'\n",
    "sizes = [df_cust_acc_tran.Churn[df_cust_acc_tran['Churn']=='Yes'].count(), df_cust_acc_tran.Churn[df_cust_acc_tran['Churn']=='No'].count()]\n",
    "explode = (0, 0.1)\n",
    "fig1, ax1 = plt.subplots(figsize=(10, 8))\n",
    "ax1.pie(sizes, explode=explode, labels=labels, autopct='%1.1f%%',\n",
    "        shadow=True, startangle=90)\n",
    "ax1.axis('equal')\n",
    "plt.title(\"Proportion of customer churned and not \", size = 20)\n",
    "plt.show()"
   ]
  },
  {
   "cell_type": "markdown",
   "id": "bb616392-785c-4ce4-a426-cf00a22edf5e",
   "metadata": {},
   "source": [
    "The dataset is imbalanced as the number of churned is only 15% vs the number not churned is 84%\n",
    "We will use recall and cross validation scoring"
   ]
  },
  {
   "cell_type": "markdown",
   "id": "0587f5c5-7f15-446e-be7b-bf3a582e2f6f",
   "metadata": {},
   "source": [
    "#### Relationship of Churned with categorical variables"
   ]
  },
  {
   "cell_type": "code",
   "execution_count": 48,
   "id": "104de1ff-1e90-4f1d-9333-354bf287e8ee",
   "metadata": {},
   "outputs": [
    {
     "data": {
      "text/plain": [
       "<AxesSubplot:xlabel='Investment', ylabel='count'>"
      ]
     },
     "execution_count": 48,
     "metadata": {},
     "output_type": "execute_result"
    },
    {
     "data": {
      "image/png": "[encoded data removed]",
      "text/plain": [
       "<Figure size 2000x1200 with 4 Axes>"
      ]
     },
     "metadata": {},
     "output_type": "display_data"
    }
   ],
   "source": [
    "\n",
    "    fig, axarr = plt.subplots(2, 2, figsize=(20, 12))\n",
    "    sns.countplot(x='Gender', hue = 'Churn',data = df_cust_acc_tran, ax=axarr[0][0])\n",
    "    sns.countplot(x='Marital_Status', hue = 'Churn',data = df_cust_acc_tran, ax=axarr[0][1])\n",
    "    sns.countplot(x='On_Demand_Deposit', hue = 'Churn',data = df_cust_acc_tran, ax=axarr[1][0])\n",
    "    sns.countplot(x='Investment', hue = 'Churn',data = df_cust_acc_tran, ax=axarr[1][1])\n",
    "   \n"
   ]
  },
  {
   "cell_type": "code",
   "execution_count": 49,
   "id": "250227d3-7dd8-41e7-ad28-c4a0d3f65bc8",
   "metadata": {},
   "outputs": [
    {
     "data": {
      "text/plain": [
       "<AxesSubplot:xlabel='Mortgage', ylabel='count'>"
      ]
     },
     "execution_count": 49,
     "metadata": {},
     "output_type": "execute_result"
    },
    {
     "data": {
      "image/png": "[encoded data removed]",
      "text/plain": [
       "<Figure size 2000x1200 with 4 Axes>"
      ]
     },
     "metadata": {},
     "output_type": "display_data"
    }
   ],
   "source": [
    "fig, axarr = plt.subplots(2, 2, figsize=(20, 12))\n",
    "sns.countplot(x='Credit_Card', hue = 'Churn',data = df_cust_acc_tran, ax=axarr[0][0])\n",
    "sns.countplot(x='Loan', hue = 'Churn',data = df_cust_acc_tran, ax=axarr[0][1])\n",
    "sns.countplot(x='Joint', hue = 'Churn',data = df_cust_acc_tran, ax=axarr[1][0])\n",
    "sns.countplot(x='Mortgage', hue = 'Churn',data = df_cust_acc_tran, ax=axarr[1][1])"
   ]
  },
  {
   "cell_type": "code",
   "execution_count": 50,
   "id": "10c65a30-4942-4234-9751-eaea2bb16eb6",
   "metadata": {},
   "outputs": [
    {
     "data": {
      "text/plain": [
       "<AxesSubplot:xlabel='Income', ylabel='count'>"
      ]
     },
     "execution_count": 50,
     "metadata": {},
     "output_type": "execute_result"
    },
    {
     "data": {
      "image/png": "[encoded data removed]",
      "text/plain": [
       "<Figure size 2000x1200 with 4 Axes>"
      ]
     },
     "metadata": {},
     "output_type": "display_data"
    }
   ],
   "source": [
    "fig, axarr = plt.subplots(2, 2, figsize=(20, 12))\n",
    "sns.countplot(x='Current', hue = 'Churn',data = df_cust_acc_tran, ax=axarr[1][1])\n",
    "sns.countplot(x='Deposit', hue = 'Churn',data = df_cust_acc_tran, ax=axarr[0][0])\n",
    "sns.countplot(x='Card', hue = 'Churn',data = df_cust_acc_tran, ax=axarr[0][1])\n",
    "sns.countplot(x='Income', hue = 'Churn',data = df_cust_acc_tran, ax=axarr[1][0])"
   ]
  },
  {
   "cell_type": "code",
   "execution_count": 51,
   "id": "504048e4-2f43-45f7-bd9b-c8be84a96835",
   "metadata": {},
   "outputs": [
    {
     "data": {
      "text/plain": [
       "<AxesSubplot:xlabel='Education', ylabel='count'>"
      ]
     },
     "execution_count": 51,
     "metadata": {},
     "output_type": "execute_result"
    },
    {
     "data": {
      "image/png": "[encoded data removed]",
      "text/plain": [
       "<Figure size 2000x1200 with 1 Axes>"
      ]
     },
     "metadata": {},
     "output_type": "display_data"
    }
   ],
   "source": [
    " fig, axarr = plt.subplots(1, 1, figsize=(20, 12))\n",
    " sns.countplot(x='Education', hue = 'Churn',data = df_cust_acc_tran, ax=axarr)    "
   ]
  },
  {
   "cell_type": "markdown",
   "id": "adfa3fa0-1dc4-46bd-9869-0c13b645fb1b",
   "metadata": {},
   "source": [
    "#### Based on categorigcal features, nothing stands out as being significant in terms of a certain feature causing a higher level of churn"
   ]
  },
  {
   "cell_type": "markdown",
   "id": "986543ae-26cc-4526-9a85-1cc21df41d12",
   "metadata": {},
   "source": [
    "#### Relationship based on numerical features"
   ]
  },
  {
   "cell_type": "code",
   "execution_count": 52,
   "id": "70d53e5d-8eaf-4c16-8516-78f85472725b",
   "metadata": {},
   "outputs": [
    {
     "data": {
      "text/plain": [
       "<AxesSubplot:xlabel='Churn', ylabel='Amount'>"
      ]
     },
     "execution_count": 52,
     "metadata": {},
     "output_type": "execute_result"
    },
    {
     "data": {
      "image/png": "[encoded data removed]",
      "text/plain": [
       "<Figure size 2000x1200 with 4 Axes>"
      ]
     },
     "metadata": {},
     "output_type": "display_data"
    }
   ],
   "source": [
    "\n",
    "fig, axarr = plt.subplots(2, 2, figsize=(20, 12))\n",
    "sns.boxplot(y='Average_Utilisation_Ratio',x = 'Churn', hue = 'Churn',data = df_cust_acc_tran, ax=axarr[0][0])\n",
    "sns.boxplot(y='Age',x = 'Churn', hue = 'Churn',data = df_cust_acc_tran, ax=axarr[0][1])\n",
    "sns.boxplot(y='Dependents',x = 'Churn', hue = 'Churn',data = df_cust_acc_tran, ax=axarr[1][0])\n",
    "sns.boxplot(y='Amount',x = 'Churn', hue = 'Churn',data = df_cust_acc_tran, ax=axarr[1][1])"
   ]
  },
  {
   "cell_type": "markdown",
   "id": "55da89ca-b4bc-4c0c-960d-8fcc4f42907d",
   "metadata": {},
   "source": [
    "#### Age or dependante does not look like it will be a significant predictor"
   ]
  },
  {
   "cell_type": "code",
   "execution_count": 53,
   "id": "d497b47f-cf66-4e00-8f1b-3526233c1bf7",
   "metadata": {},
   "outputs": [
    {
     "data": {
      "text/plain": [
       "<AxesSubplot:xlabel='Churn', ylabel='Average_Open_To_Buy'>"
      ]
     },
     "execution_count": 53,
     "metadata": {},
     "output_type": "execute_result"
    },
    {
     "data": {
      "image/png": "[encoded data removed]",
      "text/plain": [
       "<Figure size 2000x1200 with 4 Axes>"
      ]
     },
     "metadata": {},
     "output_type": "display_data"
    }
   ],
   "source": [
    " fig, axarr = plt.subplots(2, 2, figsize=(20, 12))\n",
    "sns.boxplot(y='Customer_Service_Calls',x = 'Churn', hue = 'Churn',data = df_cust_acc_tran, ax=axarr[0][0])\n",
    "sns.boxplot(y='Credit_Limit',x = 'Churn', hue = 'Churn',data = df_cust_acc_tran , ax=axarr[0][1])\n",
    "sns.boxplot(y='Total_Revolving_Balance',x = 'Churn', hue = 'Churn',data = df_cust_acc_tran, ax=axarr[1][0])\n",
    "sns.boxplot(y='Average_Open_To_Buy',x = 'Churn', hue = 'Churn',data = df_cust_acc_tran, ax=axarr[1][1])"
   ]
  },
  {
   "cell_type": "markdown",
   "id": "17e57f4e-aa1f-470d-b4ef-185ea8814299",
   "metadata": {},
   "source": [
    "#### Average open to buy and credit limit do no look like they will be big predictors"
   ]
  },
  {
   "cell_type": "code",
   "execution_count": 54,
   "id": "61c3dfa2-a657-43b7-943e-b72f21da99dd",
   "metadata": {},
   "outputs": [
    {
     "data": {
      "text/plain": [
       "<AxesSubplot:xlabel='Churn', ylabel='nb_months'>"
      ]
     },
     "execution_count": 54,
     "metadata": {},
     "output_type": "execute_result"
    },
    {
     "data": {
      "image/png": "[encoded data removed]",
      "text/plain": [
       "<Figure size 2000x1200 with 4 Axes>"
      ]
     },
     "metadata": {},
     "output_type": "display_data"
    }
   ],
   "source": [
    " fig, axarr = plt.subplots(2, 2, figsize=(20, 12))\n",
    "sns.boxplot(y='num_trans',x = 'Churn', hue = 'Churn',data = df_cust_acc_tran, ax=axarr[0][0])\n",
    "sns.boxplot(y='num_accs',x = 'Churn', hue = 'Churn',data = df_cust_acc_tran , ax=axarr[0][1])\n",
    "sns.boxplot(y='nb_months',x = 'Churn', hue = 'Churn',data = df_cust_acc_tran, ax=axarr[1][0])\n"
   ]
  },
  {
   "cell_type": "code",
   "execution_count": 55,
   "id": "3c96b044-eadb-4fe5-968d-26d86af7eda3",
   "metadata": {},
   "outputs": [],
   "source": [
    "df_cust_acc_tran['Churn'].loc[df_cust_acc_tran['Churn']=='Yes'] = 1\n",
    "df_cust_acc_tran['Churn'].loc[df_cust_acc_tran['Churn']=='No'] = 0"
   ]
  },
  {
   "cell_type": "code",
   "execution_count": 56,
   "id": "18802c39-5424-4fb1-9c9b-35d091560ce9",
   "metadata": {},
   "outputs": [
    {
     "name": "stderr",
     "output_type": "stream",
     "text": [
      "C:\\Users\\mccab\\anaconda3\\lib\\site-packages\\pandas\\core\\algorithms.py:798: FutureWarning: In a future version, the Index constructor will not infer numeric dtypes when passed object-dtype sequences (matching Series behavior)\n",
      "  uniques = Index(uniques)\n"
     ]
    },
    {
     "data": {
      "text/html": [
       "<div>\n",
       "<style scoped>\n",
       "    .dataframe tbody tr th:only-of-type {\n",
       "        vertical-align: middle;\n",
       "    }\n",
       "\n",
       "    .dataframe tbody tr th {\n",
       "        vertical-align: top;\n",
       "    }\n",
       "\n",
       "    .dataframe thead th {\n",
       "        text-align: right;\n",
       "    }\n",
       "</style>\n",
       "<table border=\"1\" class=\"dataframe\">\n",
       "  <thead>\n",
       "    <tr style=\"text-align: right;\">\n",
       "      <th></th>\n",
       "      <th>Customer</th>\n",
       "      <th>Churn</th>\n",
       "      <th>Card</th>\n",
       "      <th>Start_Date</th>\n",
       "      <th>Customer_Service_Calls</th>\n",
       "      <th>Credit_Limit</th>\n",
       "      <th>Total_Revolving_Balance</th>\n",
       "      <th>Average_Open_To_Buy</th>\n",
       "      <th>Average_Utilisation_Ratio</th>\n",
       "      <th>Age</th>\n",
       "      <th>...</th>\n",
       "      <th>Joint</th>\n",
       "      <th>Deposit</th>\n",
       "      <th>Current</th>\n",
       "      <th>Investment</th>\n",
       "      <th>Mortgage</th>\n",
       "      <th>Credit_Card</th>\n",
       "      <th>On_Demand_Deposit</th>\n",
       "      <th>Loan</th>\n",
       "      <th>num_trans</th>\n",
       "      <th>Amount</th>\n",
       "    </tr>\n",
       "  </thead>\n",
       "  <tbody>\n",
       "    <tr>\n",
       "      <th>0</th>\n",
       "      <td>797197508</td>\n",
       "      <td>0</td>\n",
       "      <td>Silver</td>\n",
       "      <td>2020-06-01</td>\n",
       "      <td>1</td>\n",
       "      <td>2315.0</td>\n",
       "      <td>1565</td>\n",
       "      <td>750.0</td>\n",
       "      <td>0.676</td>\n",
       "      <td>48.000000</td>\n",
       "      <td>...</td>\n",
       "      <td>0</td>\n",
       "      <td>1</td>\n",
       "      <td>1</td>\n",
       "      <td>1</td>\n",
       "      <td>1</td>\n",
       "      <td>1</td>\n",
       "      <td>0</td>\n",
       "      <td>0</td>\n",
       "      <td>90</td>\n",
       "      <td>4827.96</td>\n",
       "    </tr>\n",
       "    <tr>\n",
       "      <th>1</th>\n",
       "      <td>812854728</td>\n",
       "      <td>0</td>\n",
       "      <td>Silver</td>\n",
       "      <td>2020-01-01</td>\n",
       "      <td>1</td>\n",
       "      <td>7645.0</td>\n",
       "      <td>2076</td>\n",
       "      <td>5569.0</td>\n",
       "      <td>0.272</td>\n",
       "      <td>58.000000</td>\n",
       "      <td>...</td>\n",
       "      <td>0</td>\n",
       "      <td>0</td>\n",
       "      <td>0</td>\n",
       "      <td>0</td>\n",
       "      <td>0</td>\n",
       "      <td>1</td>\n",
       "      <td>0</td>\n",
       "      <td>0</td>\n",
       "      <td>75</td>\n",
       "      <td>7709.97</td>\n",
       "    </tr>\n",
       "    <tr>\n",
       "      <th>2</th>\n",
       "      <td>768000743</td>\n",
       "      <td>0</td>\n",
       "      <td>Silver</td>\n",
       "      <td>2020-01-01</td>\n",
       "      <td>2</td>\n",
       "      <td>6394.0</td>\n",
       "      <td>0</td>\n",
       "      <td>6394.0</td>\n",
       "      <td>0.000</td>\n",
       "      <td>55.000000</td>\n",
       "      <td>...</td>\n",
       "      <td>0</td>\n",
       "      <td>0</td>\n",
       "      <td>1</td>\n",
       "      <td>0</td>\n",
       "      <td>0</td>\n",
       "      <td>1</td>\n",
       "      <td>0</td>\n",
       "      <td>0</td>\n",
       "      <td>69</td>\n",
       "      <td>3470.06</td>\n",
       "    </tr>\n",
       "    <tr>\n",
       "      <th>3</th>\n",
       "      <td>722161439</td>\n",
       "      <td>0</td>\n",
       "      <td>Silver</td>\n",
       "      <td>2020-08-01</td>\n",
       "      <td>3</td>\n",
       "      <td>4663.0</td>\n",
       "      <td>0</td>\n",
       "      <td>4663.0</td>\n",
       "      <td>0.000</td>\n",
       "      <td>41.000000</td>\n",
       "      <td>...</td>\n",
       "      <td>0</td>\n",
       "      <td>1</td>\n",
       "      <td>1</td>\n",
       "      <td>1</td>\n",
       "      <td>1</td>\n",
       "      <td>1</td>\n",
       "      <td>0</td>\n",
       "      <td>1</td>\n",
       "      <td>81</td>\n",
       "      <td>3831.01</td>\n",
       "    </tr>\n",
       "    <tr>\n",
       "      <th>4</th>\n",
       "      <td>759029725</td>\n",
       "      <td>0</td>\n",
       "      <td>Silver</td>\n",
       "      <td>2021-02-01</td>\n",
       "      <td>4</td>\n",
       "      <td>1879.0</td>\n",
       "      <td>1486</td>\n",
       "      <td>393.0</td>\n",
       "      <td>0.791</td>\n",
       "      <td>37.000000</td>\n",
       "      <td>...</td>\n",
       "      <td>0</td>\n",
       "      <td>1</td>\n",
       "      <td>1</td>\n",
       "      <td>1</td>\n",
       "      <td>1</td>\n",
       "      <td>1</td>\n",
       "      <td>0</td>\n",
       "      <td>0</td>\n",
       "      <td>88</td>\n",
       "      <td>5202.04</td>\n",
       "    </tr>\n",
       "    <tr>\n",
       "      <th>...</th>\n",
       "      <td>...</td>\n",
       "      <td>...</td>\n",
       "      <td>...</td>\n",
       "      <td>...</td>\n",
       "      <td>...</td>\n",
       "      <td>...</td>\n",
       "      <td>...</td>\n",
       "      <td>...</td>\n",
       "      <td>...</td>\n",
       "      <td>...</td>\n",
       "      <td>...</td>\n",
       "      <td>...</td>\n",
       "      <td>...</td>\n",
       "      <td>...</td>\n",
       "      <td>...</td>\n",
       "      <td>...</td>\n",
       "      <td>...</td>\n",
       "      <td>...</td>\n",
       "      <td>...</td>\n",
       "      <td>...</td>\n",
       "      <td>...</td>\n",
       "    </tr>\n",
       "    <tr>\n",
       "      <th>6551</th>\n",
       "      <td>785444639</td>\n",
       "      <td>0</td>\n",
       "      <td>Silver</td>\n",
       "      <td>2020-01-01</td>\n",
       "      <td>3</td>\n",
       "      <td>3832.0</td>\n",
       "      <td>1439</td>\n",
       "      <td>2393.0</td>\n",
       "      <td>0.376</td>\n",
       "      <td>58.000000</td>\n",
       "      <td>...</td>\n",
       "      <td>0</td>\n",
       "      <td>0</td>\n",
       "      <td>1</td>\n",
       "      <td>0</td>\n",
       "      <td>0</td>\n",
       "      <td>1</td>\n",
       "      <td>1</td>\n",
       "      <td>0</td>\n",
       "      <td>88</td>\n",
       "      <td>4741.00</td>\n",
       "    </tr>\n",
       "    <tr>\n",
       "      <th>6552</th>\n",
       "      <td>757416641</td>\n",
       "      <td>0</td>\n",
       "      <td>Silver</td>\n",
       "      <td>2019-08-01</td>\n",
       "      <td>2</td>\n",
       "      <td>4167.0</td>\n",
       "      <td>0</td>\n",
       "      <td>4167.0</td>\n",
       "      <td>0.000</td>\n",
       "      <td>60.000000</td>\n",
       "      <td>...</td>\n",
       "      <td>1</td>\n",
       "      <td>0</td>\n",
       "      <td>1</td>\n",
       "      <td>1</td>\n",
       "      <td>0</td>\n",
       "      <td>1</td>\n",
       "      <td>1</td>\n",
       "      <td>1</td>\n",
       "      <td>85</td>\n",
       "      <td>5039.03</td>\n",
       "    </tr>\n",
       "    <tr>\n",
       "      <th>6553</th>\n",
       "      <td>817395226</td>\n",
       "      <td>0</td>\n",
       "      <td>Silver</td>\n",
       "      <td>2019-12-01</td>\n",
       "      <td>2</td>\n",
       "      <td>2470.0</td>\n",
       "      <td>2013</td>\n",
       "      <td>457.0</td>\n",
       "      <td>0.815</td>\n",
       "      <td>42.000000</td>\n",
       "      <td>...</td>\n",
       "      <td>0</td>\n",
       "      <td>1</td>\n",
       "      <td>1</td>\n",
       "      <td>1</td>\n",
       "      <td>0</td>\n",
       "      <td>1</td>\n",
       "      <td>0</td>\n",
       "      <td>0</td>\n",
       "      <td>82</td>\n",
       "      <td>4383.98</td>\n",
       "    </tr>\n",
       "    <tr>\n",
       "      <th>6554</th>\n",
       "      <td>732032194</td>\n",
       "      <td>0</td>\n",
       "      <td>Silver</td>\n",
       "      <td>2020-01-01</td>\n",
       "      <td>2</td>\n",
       "      <td>8138.0</td>\n",
       "      <td>2104</td>\n",
       "      <td>6034.0</td>\n",
       "      <td>0.259</td>\n",
       "      <td>47.121602</td>\n",
       "      <td>...</td>\n",
       "      <td>0</td>\n",
       "      <td>0</td>\n",
       "      <td>1</td>\n",
       "      <td>1</td>\n",
       "      <td>0</td>\n",
       "      <td>1</td>\n",
       "      <td>1</td>\n",
       "      <td>0</td>\n",
       "      <td>29</td>\n",
       "      <td>1299.00</td>\n",
       "    </tr>\n",
       "    <tr>\n",
       "      <th>6555</th>\n",
       "      <td>759872383</td>\n",
       "      <td>1</td>\n",
       "      <td>Silver</td>\n",
       "      <td>2020-08-01</td>\n",
       "      <td>3</td>\n",
       "      <td>1653.0</td>\n",
       "      <td>0</td>\n",
       "      <td>1653.0</td>\n",
       "      <td>0.000</td>\n",
       "      <td>37.000000</td>\n",
       "      <td>...</td>\n",
       "      <td>0</td>\n",
       "      <td>1</td>\n",
       "      <td>1</td>\n",
       "      <td>0</td>\n",
       "      <td>0</td>\n",
       "      <td>1</td>\n",
       "      <td>0</td>\n",
       "      <td>0</td>\n",
       "      <td>35</td>\n",
       "      <td>2284.00</td>\n",
       "    </tr>\n",
       "  </tbody>\n",
       "</table>\n",
       "<p>6556 rows × 29 columns</p>\n",
       "</div>"
      ],
      "text/plain": [
       "       Customer Churn    Card Start_Date  Customer_Service_Calls  \\\n",
       "0     797197508     0  Silver 2020-06-01                       1   \n",
       "1     812854728     0  Silver 2020-01-01                       1   \n",
       "2     768000743     0  Silver 2020-01-01                       2   \n",
       "3     722161439     0  Silver 2020-08-01                       3   \n",
       "4     759029725     0  Silver 2021-02-01                       4   \n",
       "...         ...   ...     ...        ...                     ...   \n",
       "6551  785444639     0  Silver 2020-01-01                       3   \n",
       "6552  757416641     0  Silver 2019-08-01                       2   \n",
       "6553  817395226     0  Silver 2019-12-01                       2   \n",
       "6554  732032194     0  Silver 2020-01-01                       2   \n",
       "6555  759872383     1  Silver 2020-08-01                       3   \n",
       "\n",
       "      Credit_Limit  Total_Revolving_Balance  Average_Open_To_Buy  \\\n",
       "0           2315.0                     1565                750.0   \n",
       "1           7645.0                     2076               5569.0   \n",
       "2           6394.0                        0               6394.0   \n",
       "3           4663.0                        0               4663.0   \n",
       "4           1879.0                     1486                393.0   \n",
       "...            ...                      ...                  ...   \n",
       "6551        3832.0                     1439               2393.0   \n",
       "6552        4167.0                        0               4167.0   \n",
       "6553        2470.0                     2013                457.0   \n",
       "6554        8138.0                     2104               6034.0   \n",
       "6555        1653.0                        0               1653.0   \n",
       "\n",
       "      Average_Utilisation_Ratio        Age  ...  Joint Deposit Current  \\\n",
       "0                         0.676  48.000000  ...      0       1       1   \n",
       "1                         0.272  58.000000  ...      0       0       0   \n",
       "2                         0.000  55.000000  ...      0       0       1   \n",
       "3                         0.000  41.000000  ...      0       1       1   \n",
       "4                         0.791  37.000000  ...      0       1       1   \n",
       "...                         ...        ...  ...    ...     ...     ...   \n",
       "6551                      0.376  58.000000  ...      0       0       1   \n",
       "6552                      0.000  60.000000  ...      1       0       1   \n",
       "6553                      0.815  42.000000  ...      0       1       1   \n",
       "6554                      0.259  47.121602  ...      0       0       1   \n",
       "6555                      0.000  37.000000  ...      0       1       1   \n",
       "\n",
       "     Investment  Mortgage  Credit_Card On_Demand_Deposit  Loan  num_trans  \\\n",
       "0             1         1            1                 0     0         90   \n",
       "1             0         0            1                 0     0         75   \n",
       "2             0         0            1                 0     0         69   \n",
       "3             1         1            1                 0     1         81   \n",
       "4             1         1            1                 0     0         88   \n",
       "...         ...       ...          ...               ...   ...        ...   \n",
       "6551          0         0            1                 1     0         88   \n",
       "6552          1         0            1                 1     1         85   \n",
       "6553          1         0            1                 0     0         82   \n",
       "6554          1         0            1                 1     0         29   \n",
       "6555          0         0            1                 0     0         35   \n",
       "\n",
       "       Amount  \n",
       "0     4827.96  \n",
       "1     7709.97  \n",
       "2     3470.06  \n",
       "3     3831.01  \n",
       "4     5202.04  \n",
       "...       ...  \n",
       "6551  4741.00  \n",
       "6552  5039.03  \n",
       "6553  4383.98  \n",
       "6554  1299.00  \n",
       "6555  2284.00  \n",
       "\n",
       "[6556 rows x 29 columns]"
      ]
     },
     "execution_count": 56,
     "metadata": {},
     "output_type": "execute_result"
    }
   ],
   "source": [
    "df_cust_acc_tran.Churn = pd.Categorical(df_cust_acc_tran.Churn)\n",
    "df_cust_acc_tran\n"
   ]
  },
  {
   "cell_type": "code",
   "execution_count": null,
   "id": "d6df8452-2f9c-43a7-959d-a301d51e49c7",
   "metadata": {},
   "outputs": [],
   "source": []
  },
  {
   "cell_type": "code",
   "execution_count": null,
   "id": "91dfce69-90be-4e93-9795-a2385b252de5",
   "metadata": {},
   "outputs": [],
   "source": []
  },
  {
   "cell_type": "code",
   "execution_count": 57,
   "id": "bd8eec44-9e5c-4209-a6ca-e8670e826687",
   "metadata": {},
   "outputs": [],
   "source": [
    "categorical_features = ['Gender', 'Marital_Status', 'On_Demand_Deposit', 'Investment','Loan', 'Joint', 'Mortgage', 'Current', 'Deposit', 'Card','Income', 'Education']\n",
    "#categorical_features = ['Gender', 'Marital_Status', 'Card','Income', 'Credit_Card', 'Mortgage']\n",
    "#categorical_features = ['Marital_Status', 'Card','Income', 'Credit_Card', 'Mortgage']\n",
    "numerical_features = ['Customer_Service_Calls','Credit_Limit', 'num_trans', 'num_accs', 'nb_months', 'Age']\n",
    "#numerical_features = ['Customer_Service_Calls','Total_Revolving_Balance', 'num_trans', 'num_accs' ]\n",
    "\n",
    "\n",
    "other_features = ['Start_Date']\n",
    "\n",
    "\n",
    "features = categorical_features + numerical_features + other_features\n",
    "\n",
    "target = 'Churn'\n",
    "\n",
    "variables = features + [target]"
   ]
  },
  {
   "cell_type": "markdown",
   "id": "e160a185-03d1-4167-9332-648ab8caf88c",
   "metadata": {},
   "source": [
    "2nd pass we will still drop missing values for now"
   ]
  },
  {
   "cell_type": "code",
   "execution_count": 58,
   "id": "0c7f32e6-d55a-4f83-a312-f067f7511a37",
   "metadata": {},
   "outputs": [
    {
     "data": {
      "text/html": [
       "<div>\n",
       "<style scoped>\n",
       "    .dataframe tbody tr th:only-of-type {\n",
       "        vertical-align: middle;\n",
       "    }\n",
       "\n",
       "    .dataframe tbody tr th {\n",
       "        vertical-align: top;\n",
       "    }\n",
       "\n",
       "    .dataframe thead th {\n",
       "        text-align: right;\n",
       "    }\n",
       "</style>\n",
       "<table border=\"1\" class=\"dataframe\">\n",
       "  <thead>\n",
       "    <tr style=\"text-align: right;\">\n",
       "      <th></th>\n",
       "      <th>Gender</th>\n",
       "      <th>Marital_Status</th>\n",
       "      <th>On_Demand_Deposit</th>\n",
       "      <th>Investment</th>\n",
       "      <th>Loan</th>\n",
       "      <th>Joint</th>\n",
       "      <th>Mortgage</th>\n",
       "      <th>Current</th>\n",
       "      <th>Deposit</th>\n",
       "      <th>Card</th>\n",
       "      <th>Income</th>\n",
       "      <th>Education</th>\n",
       "      <th>Customer_Service_Calls</th>\n",
       "      <th>Credit_Limit</th>\n",
       "      <th>num_trans</th>\n",
       "      <th>num_accs</th>\n",
       "      <th>nb_months</th>\n",
       "      <th>Age</th>\n",
       "      <th>Start_Date</th>\n",
       "      <th>Churn</th>\n",
       "    </tr>\n",
       "  </thead>\n",
       "  <tbody>\n",
       "    <tr>\n",
       "      <th>0</th>\n",
       "      <td>F</td>\n",
       "      <td>Married</td>\n",
       "      <td>0</td>\n",
       "      <td>1</td>\n",
       "      <td>0</td>\n",
       "      <td>0</td>\n",
       "      <td>1</td>\n",
       "      <td>1</td>\n",
       "      <td>1</td>\n",
       "      <td>Silver</td>\n",
       "      <td>Less than €30K</td>\n",
       "      <td>Graduate</td>\n",
       "      <td>1</td>\n",
       "      <td>2315.0</td>\n",
       "      <td>90</td>\n",
       "      <td>25</td>\n",
       "      <td>34</td>\n",
       "      <td>48.000000</td>\n",
       "      <td>2020-06-01</td>\n",
       "      <td>0</td>\n",
       "    </tr>\n",
       "    <tr>\n",
       "      <th>1</th>\n",
       "      <td>F</td>\n",
       "      <td>Single</td>\n",
       "      <td>0</td>\n",
       "      <td>0</td>\n",
       "      <td>0</td>\n",
       "      <td>0</td>\n",
       "      <td>0</td>\n",
       "      <td>0</td>\n",
       "      <td>0</td>\n",
       "      <td>Silver</td>\n",
       "      <td>Less than €30K</td>\n",
       "      <td>Second level</td>\n",
       "      <td>1</td>\n",
       "      <td>7645.0</td>\n",
       "      <td>75</td>\n",
       "      <td>1</td>\n",
       "      <td>39</td>\n",
       "      <td>58.000000</td>\n",
       "      <td>2020-01-01</td>\n",
       "      <td>0</td>\n",
       "    </tr>\n",
       "    <tr>\n",
       "      <th>2</th>\n",
       "      <td>F</td>\n",
       "      <td>Single</td>\n",
       "      <td>0</td>\n",
       "      <td>0</td>\n",
       "      <td>0</td>\n",
       "      <td>0</td>\n",
       "      <td>0</td>\n",
       "      <td>1</td>\n",
       "      <td>0</td>\n",
       "      <td>Silver</td>\n",
       "      <td>Less than €30K</td>\n",
       "      <td>Second level</td>\n",
       "      <td>2</td>\n",
       "      <td>6394.0</td>\n",
       "      <td>69</td>\n",
       "      <td>4</td>\n",
       "      <td>39</td>\n",
       "      <td>55.000000</td>\n",
       "      <td>2020-01-01</td>\n",
       "      <td>0</td>\n",
       "    </tr>\n",
       "    <tr>\n",
       "      <th>3</th>\n",
       "      <td>F</td>\n",
       "      <td>Unknown</td>\n",
       "      <td>0</td>\n",
       "      <td>1</td>\n",
       "      <td>1</td>\n",
       "      <td>0</td>\n",
       "      <td>1</td>\n",
       "      <td>1</td>\n",
       "      <td>1</td>\n",
       "      <td>Silver</td>\n",
       "      <td>€30K - €50K</td>\n",
       "      <td>Graduate</td>\n",
       "      <td>3</td>\n",
       "      <td>4663.0</td>\n",
       "      <td>81</td>\n",
       "      <td>36</td>\n",
       "      <td>32</td>\n",
       "      <td>41.000000</td>\n",
       "      <td>2020-08-01</td>\n",
       "      <td>0</td>\n",
       "    </tr>\n",
       "    <tr>\n",
       "      <th>4</th>\n",
       "      <td>F</td>\n",
       "      <td>Single</td>\n",
       "      <td>0</td>\n",
       "      <td>1</td>\n",
       "      <td>0</td>\n",
       "      <td>0</td>\n",
       "      <td>1</td>\n",
       "      <td>1</td>\n",
       "      <td>1</td>\n",
       "      <td>Silver</td>\n",
       "      <td>Less than €30K</td>\n",
       "      <td>Second level</td>\n",
       "      <td>4</td>\n",
       "      <td>1879.0</td>\n",
       "      <td>88</td>\n",
       "      <td>25</td>\n",
       "      <td>26</td>\n",
       "      <td>37.000000</td>\n",
       "      <td>2021-02-01</td>\n",
       "      <td>0</td>\n",
       "    </tr>\n",
       "    <tr>\n",
       "      <th>...</th>\n",
       "      <td>...</td>\n",
       "      <td>...</td>\n",
       "      <td>...</td>\n",
       "      <td>...</td>\n",
       "      <td>...</td>\n",
       "      <td>...</td>\n",
       "      <td>...</td>\n",
       "      <td>...</td>\n",
       "      <td>...</td>\n",
       "      <td>...</td>\n",
       "      <td>...</td>\n",
       "      <td>...</td>\n",
       "      <td>...</td>\n",
       "      <td>...</td>\n",
       "      <td>...</td>\n",
       "      <td>...</td>\n",
       "      <td>...</td>\n",
       "      <td>...</td>\n",
       "      <td>...</td>\n",
       "      <td>...</td>\n",
       "    </tr>\n",
       "    <tr>\n",
       "      <th>6551</th>\n",
       "      <td>F</td>\n",
       "      <td>Married</td>\n",
       "      <td>1</td>\n",
       "      <td>0</td>\n",
       "      <td>0</td>\n",
       "      <td>0</td>\n",
       "      <td>0</td>\n",
       "      <td>1</td>\n",
       "      <td>0</td>\n",
       "      <td>Silver</td>\n",
       "      <td>Less than €30K</td>\n",
       "      <td>Unknown</td>\n",
       "      <td>3</td>\n",
       "      <td>3832.0</td>\n",
       "      <td>88</td>\n",
       "      <td>9</td>\n",
       "      <td>39</td>\n",
       "      <td>58.000000</td>\n",
       "      <td>2020-01-01</td>\n",
       "      <td>0</td>\n",
       "    </tr>\n",
       "    <tr>\n",
       "      <th>6552</th>\n",
       "      <td>F</td>\n",
       "      <td>Married</td>\n",
       "      <td>1</td>\n",
       "      <td>1</td>\n",
       "      <td>1</td>\n",
       "      <td>1</td>\n",
       "      <td>0</td>\n",
       "      <td>1</td>\n",
       "      <td>0</td>\n",
       "      <td>Silver</td>\n",
       "      <td>Less than €30K</td>\n",
       "      <td>Post LC</td>\n",
       "      <td>2</td>\n",
       "      <td>4167.0</td>\n",
       "      <td>85</td>\n",
       "      <td>36</td>\n",
       "      <td>44</td>\n",
       "      <td>60.000000</td>\n",
       "      <td>2019-08-01</td>\n",
       "      <td>0</td>\n",
       "    </tr>\n",
       "    <tr>\n",
       "      <th>6553</th>\n",
       "      <td>F</td>\n",
       "      <td>Married</td>\n",
       "      <td>0</td>\n",
       "      <td>1</td>\n",
       "      <td>0</td>\n",
       "      <td>0</td>\n",
       "      <td>0</td>\n",
       "      <td>1</td>\n",
       "      <td>1</td>\n",
       "      <td>Silver</td>\n",
       "      <td>€30K - €50K</td>\n",
       "      <td>Graduate</td>\n",
       "      <td>2</td>\n",
       "      <td>2470.0</td>\n",
       "      <td>82</td>\n",
       "      <td>16</td>\n",
       "      <td>40</td>\n",
       "      <td>42.000000</td>\n",
       "      <td>2019-12-01</td>\n",
       "      <td>0</td>\n",
       "    </tr>\n",
       "    <tr>\n",
       "      <th>6554</th>\n",
       "      <td>F</td>\n",
       "      <td>Married</td>\n",
       "      <td>1</td>\n",
       "      <td>1</td>\n",
       "      <td>0</td>\n",
       "      <td>0</td>\n",
       "      <td>0</td>\n",
       "      <td>1</td>\n",
       "      <td>0</td>\n",
       "      <td>Silver</td>\n",
       "      <td>Unknown</td>\n",
       "      <td>Second level</td>\n",
       "      <td>2</td>\n",
       "      <td>8138.0</td>\n",
       "      <td>29</td>\n",
       "      <td>16</td>\n",
       "      <td>39</td>\n",
       "      <td>47.121602</td>\n",
       "      <td>2020-01-01</td>\n",
       "      <td>0</td>\n",
       "    </tr>\n",
       "    <tr>\n",
       "      <th>6555</th>\n",
       "      <td>F</td>\n",
       "      <td>Single</td>\n",
       "      <td>0</td>\n",
       "      <td>0</td>\n",
       "      <td>0</td>\n",
       "      <td>0</td>\n",
       "      <td>0</td>\n",
       "      <td>1</td>\n",
       "      <td>1</td>\n",
       "      <td>Silver</td>\n",
       "      <td>Less than €30K</td>\n",
       "      <td>Second level</td>\n",
       "      <td>3</td>\n",
       "      <td>1653.0</td>\n",
       "      <td>35</td>\n",
       "      <td>9</td>\n",
       "      <td>32</td>\n",
       "      <td>37.000000</td>\n",
       "      <td>2020-08-01</td>\n",
       "      <td>1</td>\n",
       "    </tr>\n",
       "  </tbody>\n",
       "</table>\n",
       "<p>6556 rows × 20 columns</p>\n",
       "</div>"
      ],
      "text/plain": [
       "     Gender Marital_Status On_Demand_Deposit Investment Loan Joint Mortgage  \\\n",
       "0         F        Married                 0          1    0     0        1   \n",
       "1         F         Single                 0          0    0     0        0   \n",
       "2         F         Single                 0          0    0     0        0   \n",
       "3         F        Unknown                 0          1    1     0        1   \n",
       "4         F         Single                 0          1    0     0        1   \n",
       "...     ...            ...               ...        ...  ...   ...      ...   \n",
       "6551      F        Married                 1          0    0     0        0   \n",
       "6552      F        Married                 1          1    1     1        0   \n",
       "6553      F        Married                 0          1    0     0        0   \n",
       "6554      F        Married                 1          1    0     0        0   \n",
       "6555      F         Single                 0          0    0     0        0   \n",
       "\n",
       "     Current Deposit    Card          Income     Education  \\\n",
       "0          1       1  Silver  Less than €30K      Graduate   \n",
       "1          0       0  Silver  Less than €30K  Second level   \n",
       "2          1       0  Silver  Less than €30K  Second level   \n",
       "3          1       1  Silver     €30K - €50K      Graduate   \n",
       "4          1       1  Silver  Less than €30K  Second level   \n",
       "...      ...     ...     ...             ...           ...   \n",
       "6551       1       0  Silver  Less than €30K       Unknown   \n",
       "6552       1       0  Silver  Less than €30K       Post LC   \n",
       "6553       1       1  Silver     €30K - €50K      Graduate   \n",
       "6554       1       0  Silver         Unknown  Second level   \n",
       "6555       1       1  Silver  Less than €30K  Second level   \n",
       "\n",
       "      Customer_Service_Calls  Credit_Limit  num_trans  num_accs  nb_months  \\\n",
       "0                          1        2315.0         90        25         34   \n",
       "1                          1        7645.0         75         1         39   \n",
       "2                          2        6394.0         69         4         39   \n",
       "3                          3        4663.0         81        36         32   \n",
       "4                          4        1879.0         88        25         26   \n",
       "...                      ...           ...        ...       ...        ...   \n",
       "6551                       3        3832.0         88         9         39   \n",
       "6552                       2        4167.0         85        36         44   \n",
       "6553                       2        2470.0         82        16         40   \n",
       "6554                       2        8138.0         29        16         39   \n",
       "6555                       3        1653.0         35         9         32   \n",
       "\n",
       "            Age Start_Date Churn  \n",
       "0     48.000000 2020-06-01     0  \n",
       "1     58.000000 2020-01-01     0  \n",
       "2     55.000000 2020-01-01     0  \n",
       "3     41.000000 2020-08-01     0  \n",
       "4     37.000000 2021-02-01     0  \n",
       "...         ...        ...   ...  \n",
       "6551  58.000000 2020-01-01     0  \n",
       "6552  60.000000 2019-08-01     0  \n",
       "6553  42.000000 2019-12-01     0  \n",
       "6554  47.121602 2020-01-01     0  \n",
       "6555  37.000000 2020-08-01     1  \n",
       "\n",
       "[6556 rows x 20 columns]"
      ]
     },
     "execution_count": 58,
     "metadata": {},
     "output_type": "execute_result"
    }
   ],
   "source": [
    "df_model = df_cust_acc_tran[variables].dropna()\n",
    "df_model.shape\n",
    "df_model"
   ]
  },
  {
   "cell_type": "code",
   "execution_count": null,
   "id": "d8abb315-8920-40e4-8d83-7b44377b0fcc",
   "metadata": {},
   "outputs": [],
   "source": []
  },
  {
   "cell_type": "code",
   "execution_count": 59,
   "id": "30ebfd42-7e4e-4249-a13a-afe1c5c112b7",
   "metadata": {},
   "outputs": [
    {
     "data": {
      "image/png": "[encoded data removed]",
      "text/plain": [
       "<Figure size 1200x1000 with 8 Axes>"
      ]
     },
     "metadata": {},
     "output_type": "display_data"
    }
   ],
   "source": [
    "df_model[numerical_features].hist(figsize=(12, 10),\n",
    "                          bins=20,\n",
    "                          layout=(4, 2),\n",
    "                          color='steelblue',\n",
    "                          edgecolor='firebrick',\n",
    "                          linewidth=1.5);"
   ]
  },
  {
   "cell_type": "code",
   "execution_count": null,
   "id": "5a5cf9b4-7fb4-4046-a8c3-d40e15f8a24a",
   "metadata": {},
   "outputs": [],
   "source": []
  },
  {
   "cell_type": "code",
   "execution_count": null,
   "id": "64c3e268-2d10-4a26-b8b5-fd65bd80e4d7",
   "metadata": {},
   "outputs": [],
   "source": []
  },
  {
   "cell_type": "code",
   "execution_count": null,
   "id": "be22a093-a008-48b5-9685-9493a45aeb9c",
   "metadata": {},
   "outputs": [],
   "source": []
  },
  {
   "cell_type": "code",
   "execution_count": null,
   "id": "efc6bb74-f20a-46d2-8bce-7e7ade1c9784",
   "metadata": {},
   "outputs": [],
   "source": []
  },
  {
   "cell_type": "code",
   "execution_count": null,
   "id": "8495e343-ab11-49ed-a4ce-62fd14f896d6",
   "metadata": {},
   "outputs": [],
   "source": []
  },
  {
   "cell_type": "code",
   "execution_count": null,
   "id": "331c67b0-6e98-4e9d-bfa0-4ec6ee68a6f1",
   "metadata": {},
   "outputs": [],
   "source": []
  },
  {
   "cell_type": "code",
   "execution_count": 60,
   "id": "468ff705-422b-4568-a5d1-063498d094f3",
   "metadata": {},
   "outputs": [],
   "source": [
    "from sklearn.preprocessing import  StandardScaler"
   ]
  },
  {
   "cell_type": "code",
   "execution_count": 61,
   "id": "6b48e063-5c85-4894-9a0b-4faca4840616",
   "metadata": {},
   "outputs": [],
   "source": [
    "scaler = StandardScaler()"
   ]
  },
  {
   "cell_type": "code",
   "execution_count": 62,
   "id": "43da6e32-3d8b-4100-8d01-e4286b444b36",
   "metadata": {},
   "outputs": [],
   "source": [
    "\n",
    "\n",
    "df_model[numerical_features] = scaler.fit_transform(df_model[numerical_features])"
   ]
  },
  {
   "cell_type": "code",
   "execution_count": null,
   "id": "fdb84909-7069-4717-9338-8481ad9a70cd",
   "metadata": {},
   "outputs": [],
   "source": []
  },
  {
   "cell_type": "code",
   "execution_count": 63,
   "id": "050c4c62-3eb2-4824-8682-766af52debb2",
   "metadata": {},
   "outputs": [
    {
     "data": {
      "image/png": "[encoded data removed]",
      "text/plain": [
       "<Figure size 1200x1000 with 8 Axes>"
      ]
     },
     "metadata": {},
     "output_type": "display_data"
    }
   ],
   "source": [
    "df_model[numerical_features].hist(figsize=(12, 10),\n",
    "                          bins=20,\n",
    "                          layout=(4, 2),\n",
    "                          color='steelblue',\n",
    "                          edgecolor='firebrick',\n",
    "                          linewidth=1.5);"
   ]
  },
  {
   "cell_type": "code",
   "execution_count": null,
   "id": "89bf2b46-3848-4189-a2ed-cc0ae2af23e7",
   "metadata": {},
   "outputs": [],
   "source": []
  },
  {
   "cell_type": "code",
   "execution_count": 64,
   "id": "86ab0026-a794-447e-a328-03bf41ad354b",
   "metadata": {},
   "outputs": [
    {
     "data": {
      "image/png": "[encoded data removed]",
      "text/plain": [
       "<Figure size 700x600 with 2 Axes>"
      ]
     },
     "metadata": {},
     "output_type": "display_data"
    }
   ],
   "source": [
    "fig, ax = plt.subplots(figsize=(7, 6))\n",
    "\n",
    "sns.heatmap(df_model[numerical_features].corr(),\n",
    "            annot=True,\n",
    "            annot_kws={'fontsize': 16},\n",
    "            cmap='Blues',\n",
    "            ax=ax)\n",
    "\n",
    "ax.tick_params(axis='x', rotation=45)\n",
    "ax.tick_params(axis='y', rotation=360);"
   ]
  },
  {
   "cell_type": "markdown",
   "id": "3dfed8aa-fc69-4c89-9c33-9424d753c6c8",
   "metadata": {},
   "source": [
    "#### There is multicollinearity between some of the features\n",
    "#### Amount and num_trans\n",
    "#### Average utilisation ratio and total revolving balance\n"
   ]
  },
  {
   "cell_type": "code",
   "execution_count": 65,
   "id": "3668c4b1-81a2-4b4b-942e-c7ca4f257130",
   "metadata": {},
   "outputs": [],
   "source": [
    "df_model.to_pickle('output/df_model.pkl')"
   ]
  },
  {
   "cell_type": "code",
   "execution_count": null,
   "id": "bffaf13d-8448-487b-b7ea-0e89f4d656a4",
   "metadata": {},
   "outputs": [],
   "source": []
  },
  {
   "cell_type": "code",
   "execution_count": null,
   "id": "c5108587-b233-47b8-8b91-eb0e6f4cc36d",
   "metadata": {},
   "outputs": [],
   "source": []
  },
  {
   "cell_type": "code",
   "execution_count": null,
   "id": "a439a2de-1284-4465-85d3-d69405183a33",
   "metadata": {},
   "outputs": [],
   "source": []
  },
  {
   "cell_type": "code",
   "execution_count": null,
   "id": "9e372553-7c59-4705-9cf0-8c5572a4666e",
   "metadata": {},
   "outputs": [],
   "source": []
  },
  {
   "cell_type": "code",
   "execution_count": null,
   "id": "628825c3-a067-4126-a42d-f451d35735c0",
   "metadata": {},
   "outputs": [],
   "source": []
  },
  {
   "cell_type": "code",
   "execution_count": 66,
   "id": "f2615711-897a-483f-afc9-140b26d7840f",
   "metadata": {},
   "outputs": [
    {
     "data": {
      "text/plain": [
       "Index(['Income', 'Education', 'Customer_Service_Calls', 'Credit_Limit',\n",
       "       'num_trans', 'num_accs', 'nb_months', 'Age', 'Start_Date', 'Churn'],\n",
       "      dtype='object')"
      ]
     },
     "execution_count": 66,
     "metadata": {},
     "output_type": "execute_result"
    }
   ],
   "source": [
    "columns = df_model.columns[10:]\n",
    "columns"
   ]
  },
  {
   "cell_type": "code",
   "execution_count": 67,
   "id": "10b055d7-f2a5-4809-b926-554315383f41",
   "metadata": {},
   "outputs": [
    {
     "data": {
      "text/html": [
       "<div>\n",
       "<style scoped>\n",
       "    .dataframe tbody tr th:only-of-type {\n",
       "        vertical-align: middle;\n",
       "    }\n",
       "\n",
       "    .dataframe tbody tr th {\n",
       "        vertical-align: top;\n",
       "    }\n",
       "\n",
       "    .dataframe thead th {\n",
       "        text-align: right;\n",
       "    }\n",
       "</style>\n",
       "<table border=\"1\" class=\"dataframe\">\n",
       "  <thead>\n",
       "    <tr style=\"text-align: right;\">\n",
       "      <th></th>\n",
       "      <th>Customer_Service_Calls</th>\n",
       "      <th>Credit_Limit</th>\n",
       "      <th>num_trans</th>\n",
       "      <th>num_accs</th>\n",
       "      <th>nb_months</th>\n",
       "      <th>Age</th>\n",
       "    </tr>\n",
       "  </thead>\n",
       "  <tbody>\n",
       "    <tr>\n",
       "      <th>Customer_Service_Calls</th>\n",
       "      <td>1.000000</td>\n",
       "      <td>0.021585</td>\n",
       "      <td>-0.156321</td>\n",
       "      <td>0.048299</td>\n",
       "      <td>-0.003754</td>\n",
       "      <td>-0.016960</td>\n",
       "    </tr>\n",
       "    <tr>\n",
       "      <th>Credit_Limit</th>\n",
       "      <td>0.021585</td>\n",
       "      <td>1.000000</td>\n",
       "      <td>0.079372</td>\n",
       "      <td>-0.066424</td>\n",
       "      <td>0.010833</td>\n",
       "      <td>0.010101</td>\n",
       "    </tr>\n",
       "    <tr>\n",
       "      <th>num_trans</th>\n",
       "      <td>-0.156321</td>\n",
       "      <td>0.079372</td>\n",
       "      <td>1.000000</td>\n",
       "      <td>-0.215526</td>\n",
       "      <td>-0.053107</td>\n",
       "      <td>-0.052429</td>\n",
       "    </tr>\n",
       "    <tr>\n",
       "      <th>num_accs</th>\n",
       "      <td>0.048299</td>\n",
       "      <td>-0.066424</td>\n",
       "      <td>-0.215526</td>\n",
       "      <td>1.000000</td>\n",
       "      <td>-0.010011</td>\n",
       "      <td>-0.010919</td>\n",
       "    </tr>\n",
       "    <tr>\n",
       "      <th>nb_months</th>\n",
       "      <td>-0.003754</td>\n",
       "      <td>0.010833</td>\n",
       "      <td>-0.053107</td>\n",
       "      <td>-0.010011</td>\n",
       "      <td>1.000000</td>\n",
       "      <td>0.750506</td>\n",
       "    </tr>\n",
       "    <tr>\n",
       "      <th>Age</th>\n",
       "      <td>-0.016960</td>\n",
       "      <td>0.010101</td>\n",
       "      <td>-0.052429</td>\n",
       "      <td>-0.010919</td>\n",
       "      <td>0.750506</td>\n",
       "      <td>1.000000</td>\n",
       "    </tr>\n",
       "  </tbody>\n",
       "</table>\n",
       "</div>"
      ],
      "text/plain": [
       "                        Customer_Service_Calls  Credit_Limit  num_trans  \\\n",
       "Customer_Service_Calls                1.000000      0.021585  -0.156321   \n",
       "Credit_Limit                          0.021585      1.000000   0.079372   \n",
       "num_trans                            -0.156321      0.079372   1.000000   \n",
       "num_accs                              0.048299     -0.066424  -0.215526   \n",
       "nb_months                            -0.003754      0.010833  -0.053107   \n",
       "Age                                  -0.016960      0.010101  -0.052429   \n",
       "\n",
       "                        num_accs  nb_months       Age  \n",
       "Customer_Service_Calls  0.048299  -0.003754 -0.016960  \n",
       "Credit_Limit           -0.066424   0.010833  0.010101  \n",
       "num_trans              -0.215526  -0.053107 -0.052429  \n",
       "num_accs                1.000000  -0.010011 -0.010919  \n",
       "nb_months              -0.010011   1.000000  0.750506  \n",
       "Age                    -0.010919   0.750506  1.000000  "
      ]
     },
     "execution_count": 67,
     "metadata": {},
     "output_type": "execute_result"
    }
   ],
   "source": [
    "columns = df_model.columns[10:]\n",
    "corr = df_model[columns].corr()\n",
    "corr"
   ]
  },
  {
   "cell_type": "code",
   "execution_count": 68,
   "id": "9419bb12-b55d-4bbc-94ef-07bcf135c86a",
   "metadata": {},
   "outputs": [
    {
     "data": {
      "image/png": "[encoded data removed]",
      "text/plain": [
       "<Figure size 640x480 with 2 Axes>"
      ]
     },
     "metadata": {},
     "output_type": "display_data"
    }
   ],
   "source": [
    "cmap = sns.diverging_palette(230, 20, as_cmap=True)\n",
    "sns.heatmap(corr, square=True, vmin=-1, vmax=1, cmap=cmap);"
   ]
  },
  {
   "cell_type": "code",
   "execution_count": null,
   "id": "bbb922fc-b5e5-46fc-804c-24111bf52e9e",
   "metadata": {},
   "outputs": [],
   "source": []
  },
  {
   "cell_type": "code",
   "execution_count": null,
   "id": "88587666-db2f-436a-8090-9bfa38926fb3",
   "metadata": {},
   "outputs": [],
   "source": []
  },
  {
   "cell_type": "markdown",
   "id": "1cb4a708-d17b-4d07-94e5-f0421abb279f",
   "metadata": {},
   "source": [
    "### Train / Test Split"
   ]
  },
  {
   "cell_type": "code",
   "execution_count": 69,
   "id": "9f3a878a-6f44-42aa-9d25-c6d10034e3c6",
   "metadata": {},
   "outputs": [],
   "source": [
    "from sklearn.model_selection import train_test_split\n",
    "X_train, X_test, y_train, y_test = train_test_split(df_model[features], df_model.Churn, \n",
    "    train_size=0.7, random_state=SEED)"
   ]
  },
  {
   "cell_type": "code",
   "execution_count": 70,
   "id": "9f7d032f-ac4b-4333-aca6-c17d74b341bc",
   "metadata": {},
   "outputs": [
    {
     "data": {
      "text/html": [
       "<div>\n",
       "<style scoped>\n",
       "    .dataframe tbody tr th:only-of-type {\n",
       "        vertical-align: middle;\n",
       "    }\n",
       "\n",
       "    .dataframe tbody tr th {\n",
       "        vertical-align: top;\n",
       "    }\n",
       "\n",
       "    .dataframe thead th {\n",
       "        text-align: right;\n",
       "    }\n",
       "</style>\n",
       "<table border=\"1\" class=\"dataframe\">\n",
       "  <thead>\n",
       "    <tr style=\"text-align: right;\">\n",
       "      <th></th>\n",
       "      <th>Gender</th>\n",
       "      <th>Marital_Status</th>\n",
       "      <th>On_Demand_Deposit</th>\n",
       "      <th>Investment</th>\n",
       "      <th>Loan</th>\n",
       "      <th>Joint</th>\n",
       "      <th>Mortgage</th>\n",
       "      <th>Current</th>\n",
       "      <th>Deposit</th>\n",
       "      <th>Card</th>\n",
       "      <th>Income</th>\n",
       "      <th>Education</th>\n",
       "      <th>Customer_Service_Calls</th>\n",
       "      <th>Credit_Limit</th>\n",
       "      <th>num_trans</th>\n",
       "      <th>num_accs</th>\n",
       "      <th>nb_months</th>\n",
       "      <th>Age</th>\n",
       "      <th>Start_Date</th>\n",
       "    </tr>\n",
       "  </thead>\n",
       "  <tbody>\n",
       "    <tr>\n",
       "      <th>5945</th>\n",
       "      <td>F</td>\n",
       "      <td>Single</td>\n",
       "      <td>1</td>\n",
       "      <td>1</td>\n",
       "      <td>0</td>\n",
       "      <td>1</td>\n",
       "      <td>0</td>\n",
       "      <td>1</td>\n",
       "      <td>0</td>\n",
       "      <td>Silver</td>\n",
       "      <td>Less than €30K</td>\n",
       "      <td>Graduate</td>\n",
       "      <td>0.493507</td>\n",
       "      <td>-0.012209</td>\n",
       "      <td>0.372460</td>\n",
       "      <td>0.730587</td>\n",
       "      <td>-1.481443</td>\n",
       "      <td>-1.265988</td>\n",
       "      <td>2021-01-01</td>\n",
       "    </tr>\n",
       "    <tr>\n",
       "      <th>6022</th>\n",
       "      <td>F</td>\n",
       "      <td>Married</td>\n",
       "      <td>0</td>\n",
       "      <td>0</td>\n",
       "      <td>0</td>\n",
       "      <td>0</td>\n",
       "      <td>0</td>\n",
       "      <td>1</td>\n",
       "      <td>1</td>\n",
       "      <td>Silver</td>\n",
       "      <td>€30K - €50K</td>\n",
       "      <td>Post LC</td>\n",
       "      <td>-0.409236</td>\n",
       "      <td>-0.753928</td>\n",
       "      <td>0.542840</td>\n",
       "      <td>-0.668486</td>\n",
       "      <td>0.140670</td>\n",
       "      <td>0.610179</td>\n",
       "      <td>2019-12-01</td>\n",
       "    </tr>\n",
       "    <tr>\n",
       "      <th>4721</th>\n",
       "      <td>F</td>\n",
       "      <td>Married</td>\n",
       "      <td>0</td>\n",
       "      <td>1</td>\n",
       "      <td>0</td>\n",
       "      <td>0</td>\n",
       "      <td>0</td>\n",
       "      <td>1</td>\n",
       "      <td>1</td>\n",
       "      <td>Silver</td>\n",
       "      <td>Unknown</td>\n",
       "      <td>Graduate</td>\n",
       "      <td>0.493507</td>\n",
       "      <td>-0.357311</td>\n",
       "      <td>-1.501723</td>\n",
       "      <td>-0.056392</td>\n",
       "      <td>0.015892</td>\n",
       "      <td>0.485102</td>\n",
       "      <td>2020-01-01</td>\n",
       "    </tr>\n",
       "    <tr>\n",
       "      <th>3914</th>\n",
       "      <td>F</td>\n",
       "      <td>Single</td>\n",
       "      <td>0</td>\n",
       "      <td>0</td>\n",
       "      <td>0</td>\n",
       "      <td>0</td>\n",
       "      <td>0</td>\n",
       "      <td>1</td>\n",
       "      <td>1</td>\n",
       "      <td>Silver</td>\n",
       "      <td>Unknown</td>\n",
       "      <td>Graduate</td>\n",
       "      <td>0.493507</td>\n",
       "      <td>-0.706873</td>\n",
       "      <td>-0.862797</td>\n",
       "      <td>-0.668486</td>\n",
       "      <td>-1.481443</td>\n",
       "      <td>-1.140910</td>\n",
       "      <td>2021-01-01</td>\n",
       "    </tr>\n",
       "    <tr>\n",
       "      <th>4495</th>\n",
       "      <td>F</td>\n",
       "      <td>Married</td>\n",
       "      <td>1</td>\n",
       "      <td>1</td>\n",
       "      <td>1</td>\n",
       "      <td>0</td>\n",
       "      <td>0</td>\n",
       "      <td>1</td>\n",
       "      <td>0</td>\n",
       "      <td>Silver</td>\n",
       "      <td>Less than €30K</td>\n",
       "      <td>Second level</td>\n",
       "      <td>1.396250</td>\n",
       "      <td>-0.601280</td>\n",
       "      <td>-0.138681</td>\n",
       "      <td>0.730587</td>\n",
       "      <td>0.639782</td>\n",
       "      <td>0.860335</td>\n",
       "      <td>2019-08-01</td>\n",
       "    </tr>\n",
       "    <tr>\n",
       "      <th>...</th>\n",
       "      <td>...</td>\n",
       "      <td>...</td>\n",
       "      <td>...</td>\n",
       "      <td>...</td>\n",
       "      <td>...</td>\n",
       "      <td>...</td>\n",
       "      <td>...</td>\n",
       "      <td>...</td>\n",
       "      <td>...</td>\n",
       "      <td>...</td>\n",
       "      <td>...</td>\n",
       "      <td>...</td>\n",
       "      <td>...</td>\n",
       "      <td>...</td>\n",
       "      <td>...</td>\n",
       "      <td>...</td>\n",
       "      <td>...</td>\n",
       "      <td>...</td>\n",
       "      <td>...</td>\n",
       "    </tr>\n",
       "    <tr>\n",
       "      <th>6471</th>\n",
       "      <td>F</td>\n",
       "      <td>Married</td>\n",
       "      <td>1</td>\n",
       "      <td>0</td>\n",
       "      <td>0</td>\n",
       "      <td>0</td>\n",
       "      <td>0</td>\n",
       "      <td>1</td>\n",
       "      <td>0</td>\n",
       "      <td>Silver</td>\n",
       "      <td>Unknown</td>\n",
       "      <td>Post LC</td>\n",
       "      <td>1.396250</td>\n",
       "      <td>0.019569</td>\n",
       "      <td>1.309552</td>\n",
       "      <td>-0.668486</td>\n",
       "      <td>0.015892</td>\n",
       "      <td>-0.390443</td>\n",
       "      <td>2020-01-01</td>\n",
       "    </tr>\n",
       "    <tr>\n",
       "      <th>2454</th>\n",
       "      <td>M</td>\n",
       "      <td>Married</td>\n",
       "      <td>0</td>\n",
       "      <td>0</td>\n",
       "      <td>0</td>\n",
       "      <td>0</td>\n",
       "      <td>0</td>\n",
       "      <td>1</td>\n",
       "      <td>1</td>\n",
       "      <td>Silver</td>\n",
       "      <td>€50K - €80K</td>\n",
       "      <td>Graduate</td>\n",
       "      <td>-0.409236</td>\n",
       "      <td>-0.472048</td>\n",
       "      <td>-1.885079</td>\n",
       "      <td>-0.668486</td>\n",
       "      <td>0.764560</td>\n",
       "      <td>0.860335</td>\n",
       "      <td>2019-07-01</td>\n",
       "    </tr>\n",
       "    <tr>\n",
       "      <th>1292</th>\n",
       "      <td>F</td>\n",
       "      <td>Married</td>\n",
       "      <td>1</td>\n",
       "      <td>1</td>\n",
       "      <td>1</td>\n",
       "      <td>0</td>\n",
       "      <td>0</td>\n",
       "      <td>0</td>\n",
       "      <td>1</td>\n",
       "      <td>Silver</td>\n",
       "      <td>Unknown</td>\n",
       "      <td>Second level</td>\n",
       "      <td>-0.409236</td>\n",
       "      <td>0.065286</td>\n",
       "      <td>0.542840</td>\n",
       "      <td>0.730587</td>\n",
       "      <td>-0.732775</td>\n",
       "      <td>-0.265365</td>\n",
       "      <td>2020-07-01</td>\n",
       "    </tr>\n",
       "    <tr>\n",
       "      <th>5464</th>\n",
       "      <td>F</td>\n",
       "      <td>Single</td>\n",
       "      <td>1</td>\n",
       "      <td>1</td>\n",
       "      <td>0</td>\n",
       "      <td>0</td>\n",
       "      <td>1</td>\n",
       "      <td>1</td>\n",
       "      <td>0</td>\n",
       "      <td>Silver</td>\n",
       "      <td>€30K - €50K</td>\n",
       "      <td>Graduate</td>\n",
       "      <td>0.493507</td>\n",
       "      <td>-0.793366</td>\n",
       "      <td>0.670626</td>\n",
       "      <td>0.730587</td>\n",
       "      <td>0.015892</td>\n",
       "      <td>-0.265365</td>\n",
       "      <td>2020-01-01</td>\n",
       "    </tr>\n",
       "    <tr>\n",
       "      <th>2667</th>\n",
       "      <td>M</td>\n",
       "      <td>Single</td>\n",
       "      <td>0</td>\n",
       "      <td>0</td>\n",
       "      <td>0</td>\n",
       "      <td>0</td>\n",
       "      <td>0</td>\n",
       "      <td>0</td>\n",
       "      <td>0</td>\n",
       "      <td>Silver</td>\n",
       "      <td>Less than €30K</td>\n",
       "      <td>Graduate</td>\n",
       "      <td>0.493507</td>\n",
       "      <td>-0.299107</td>\n",
       "      <td>2.204048</td>\n",
       "      <td>-1.368023</td>\n",
       "      <td>-2.105333</td>\n",
       "      <td>-2.016455</td>\n",
       "      <td>2021-06-01</td>\n",
       "    </tr>\n",
       "  </tbody>\n",
       "</table>\n",
       "<p>4589 rows × 19 columns</p>\n",
       "</div>"
      ],
      "text/plain": [
       "     Gender Marital_Status On_Demand_Deposit Investment Loan Joint Mortgage  \\\n",
       "5945      F         Single                 1          1    0     1        0   \n",
       "6022      F        Married                 0          0    0     0        0   \n",
       "4721      F        Married                 0          1    0     0        0   \n",
       "3914      F         Single                 0          0    0     0        0   \n",
       "4495      F        Married                 1          1    1     0        0   \n",
       "...     ...            ...               ...        ...  ...   ...      ...   \n",
       "6471      F        Married                 1          0    0     0        0   \n",
       "2454      M        Married                 0          0    0     0        0   \n",
       "1292      F        Married                 1          1    1     0        0   \n",
       "5464      F         Single                 1          1    0     0        1   \n",
       "2667      M         Single                 0          0    0     0        0   \n",
       "\n",
       "     Current Deposit    Card          Income     Education  \\\n",
       "5945       1       0  Silver  Less than €30K      Graduate   \n",
       "6022       1       1  Silver     €30K - €50K       Post LC   \n",
       "4721       1       1  Silver         Unknown      Graduate   \n",
       "3914       1       1  Silver         Unknown      Graduate   \n",
       "4495       1       0  Silver  Less than €30K  Second level   \n",
       "...      ...     ...     ...             ...           ...   \n",
       "6471       1       0  Silver         Unknown       Post LC   \n",
       "2454       1       1  Silver     €50K - €80K      Graduate   \n",
       "1292       0       1  Silver         Unknown  Second level   \n",
       "5464       1       0  Silver     €30K - €50K      Graduate   \n",
       "2667       0       0  Silver  Less than €30K      Graduate   \n",
       "\n",
       "      Customer_Service_Calls  Credit_Limit  num_trans  num_accs  nb_months  \\\n",
       "5945                0.493507     -0.012209   0.372460  0.730587  -1.481443   \n",
       "6022               -0.409236     -0.753928   0.542840 -0.668486   0.140670   \n",
       "4721                0.493507     -0.357311  -1.501723 -0.056392   0.015892   \n",
       "3914                0.493507     -0.706873  -0.862797 -0.668486  -1.481443   \n",
       "4495                1.396250     -0.601280  -0.138681  0.730587   0.639782   \n",
       "...                      ...           ...        ...       ...        ...   \n",
       "6471                1.396250      0.019569   1.309552 -0.668486   0.015892   \n",
       "2454               -0.409236     -0.472048  -1.885079 -0.668486   0.764560   \n",
       "1292               -0.409236      0.065286   0.542840  0.730587  -0.732775   \n",
       "5464                0.493507     -0.793366   0.670626  0.730587   0.015892   \n",
       "2667                0.493507     -0.299107   2.204048 -1.368023  -2.105333   \n",
       "\n",
       "           Age Start_Date  \n",
       "5945 -1.265988 2021-01-01  \n",
       "6022  0.610179 2019-12-01  \n",
       "4721  0.485102 2020-01-01  \n",
       "3914 -1.140910 2021-01-01  \n",
       "4495  0.860335 2019-08-01  \n",
       "...        ...        ...  \n",
       "6471 -0.390443 2020-01-01  \n",
       "2454  0.860335 2019-07-01  \n",
       "1292 -0.265365 2020-07-01  \n",
       "5464 -0.265365 2020-01-01  \n",
       "2667 -2.016455 2021-06-01  \n",
       "\n",
       "[4589 rows x 19 columns]"
      ]
     },
     "execution_count": 70,
     "metadata": {},
     "output_type": "execute_result"
    }
   ],
   "source": [
    "X_train"
   ]
  },
  {
   "cell_type": "code",
   "execution_count": 71,
   "id": "a0e15fc0-ca60-4f29-8305-0a1708df8066",
   "metadata": {},
   "outputs": [
    {
     "data": {
      "text/plain": [
       "5945    0\n",
       "6022    0\n",
       "4721    0\n",
       "3914    1\n",
       "4495    0\n",
       "       ..\n",
       "6471    0\n",
       "2454    1\n",
       "1292    0\n",
       "5464    0\n",
       "2667    0\n",
       "Name: Churn, Length: 4589, dtype: category\n",
       "Categories (2, int64): [0, 1]"
      ]
     },
     "execution_count": 71,
     "metadata": {},
     "output_type": "execute_result"
    }
   ],
   "source": [
    "y_train"
   ]
  },
  {
   "cell_type": "code",
   "execution_count": null,
   "id": "a5eb4e18-502e-42ab-b964-50e1a3a93d99",
   "metadata": {},
   "outputs": [],
   "source": []
  },
  {
   "cell_type": "code",
   "execution_count": null,
   "id": "3d43bac3-ba91-41a4-9cfb-9c86741e31d0",
   "metadata": {},
   "outputs": [],
   "source": []
  },
  {
   "cell_type": "code",
   "execution_count": null,
   "id": "4ffb1fc1-db51-40fe-8bb6-97bb1ae69666",
   "metadata": {},
   "outputs": [],
   "source": []
  },
  {
   "cell_type": "markdown",
   "id": "98d6091c-2cf4-4d81-a339-4b90c58b10da",
   "metadata": {},
   "source": [
    "### Import Classifiers"
   ]
  },
  {
   "cell_type": "code",
   "execution_count": 72,
   "id": "76d40ddd-ebf3-4ff3-ac70-6ec91aaf83e8",
   "metadata": {},
   "outputs": [],
   "source": [
    "from sklearn.linear_model import LogisticRegression\n",
    "from sklearn.neighbors import KNeighborsClassifier\n",
    "from sklearn.naive_bayes import BernoulliNB\n",
    "from sklearn.ensemble import AdaBoostClassifier\n",
    "from sklearn.ensemble import GradientBoostingClassifier\n",
    "from xgboost import XGBClassifier\n",
    "\n",
    "from sklearn.naive_bayes import GaussianNB\n",
    "from sklearn.svm import SVC\n",
    "from sklearn.ensemble import RandomForestClassifier, VotingClassifier\n",
    "from lightgbm import LGBMClassifier"
   ]
  },
  {
   "cell_type": "code",
   "execution_count": 73,
   "id": "a2fb01da-9b95-455c-8de1-0194e33d5a30",
   "metadata": {},
   "outputs": [],
   "source": [
    "import joblib"
   ]
  },
  {
   "cell_type": "markdown",
   "id": "e3295615-f6e5-4d96-a8b6-2cd0517e2966",
   "metadata": {},
   "source": [
    "### Build a Pipeline"
   ]
  },
  {
   "cell_type": "code",
   "execution_count": 74,
   "id": "46a79c04-dc47-4bd4-9919-3b7c8501a164",
   "metadata": {},
   "outputs": [],
   "source": [
    "from sklearn.compose import ColumnTransformer\n",
    "from sklearn import preprocessing\n",
    "column_transformer = ColumnTransformer([\n",
    "    # List of transformation to apply and which columns to apply it to. Each entry here has structure \n",
    "    #( NAME,                  CODE,                           COLUMNS_TO_APPLY),\n",
    "    ( 'categorical_features', preprocessing.OneHotEncoder(),  categorical_features ),\n",
    "    ( 'numerical_features',   preprocessing.StandardScaler(), numerical_features ),\n",
    "])"
   ]
  },
  {
   "cell_type": "code",
   "execution_count": 75,
   "id": "b108410a-7b9d-4b9a-9d9b-3b2ddc845b07",
   "metadata": {},
   "outputs": [],
   "source": [
    "from sklearn.pipeline import Pipeline\n",
    "pipeline = Pipeline(steps=[\n",
    "    ( 'column_transformer', column_transformer ),\n",
    "    ( 'classifier', LogisticRegression(solver='lbfgs', max_iter=200) ),\n",
    "])"
   ]
  },
  {
   "cell_type": "markdown",
   "id": "3dcb2d71-d16d-4348-9e0c-4fe0844ecfea",
   "metadata": {},
   "source": [
    "### Score the model using cross validation scoring function to see how good the initial one is"
   ]
  },
  {
   "cell_type": "code",
   "execution_count": 76,
   "id": "2d264ada-bdb3-4e85-9a8f-303b40f4b4aa",
   "metadata": {},
   "outputs": [
    {
     "name": "stdout",
     "output_type": "stream",
     "text": [
      "CV estimate of accuracy is 86.84% +/ 0.28%\n"
     ]
    }
   ],
   "source": [
    "from sklearn.model_selection import cross_val_score\n",
    "scores = cross_val_score(pipeline, X_train, y_train, cv=5)\n",
    "print(f\"CV estimate of accuracy is {scores.mean():.2%} +/ {2*scores.std()/len(scores):.2%}\")"
   ]
  },
  {
   "cell_type": "code",
   "execution_count": 320,
   "id": "997eec87-eacd-4b26-a7b2-578f659fbb20",
   "metadata": {},
   "outputs": [
    {
     "data": {
      "text/plain": [
       "Pipeline(steps=[('column_transformer',\n",
       "                 ColumnTransformer(transformers=[('categorical_features',\n",
       "                                                  OneHotEncoder(),\n",
       "                                                  ['Marital_Status', 'Card',\n",
       "                                                   'Income', 'Credit_Card',\n",
       "                                                   'Mortgage']),\n",
       "                                                 ('numerical_features',\n",
       "                                                  StandardScaler(),\n",
       "                                                  ['Customer_Service_Calls',\n",
       "                                                   'Total_Revolving_Balance',\n",
       "                                                   'num_trans',\n",
       "                                                   'num_accs'])])),\n",
       "                ('classifier', LogisticRegression(max_iter=200))])"
      ]
     },
     "execution_count": 320,
     "metadata": {},
     "output_type": "execute_result"
    }
   ],
   "source": [
    "pipeline.fit(X_train, y_train)"
   ]
  },
  {
   "cell_type": "code",
   "execution_count": 321,
   "id": "be5973d3-24fe-4c90-947d-358b679f002d",
   "metadata": {},
   "outputs": [],
   "source": [
    "filename = \"Completed_model_LogReg.joblib\""
   ]
  },
  {
   "cell_type": "code",
   "execution_count": 322,
   "id": "60567fe4-b375-41f0-848d-6cfebc03257f",
   "metadata": {},
   "outputs": [
    {
     "data": {
      "text/plain": [
       "['Completed_model_LogReg.joblib']"
      ]
     },
     "execution_count": 322,
     "metadata": {},
     "output_type": "execute_result"
    }
   ],
   "source": [
    "joblib.dump(pipeline, filename)"
   ]
  },
  {
   "cell_type": "markdown",
   "id": "f3cf25c1-7d0b-4922-b196-90fa033bc51e",
   "metadata": {},
   "source": [
    "### CV estimate of accuracy is 87.26% +/ 0.25%"
   ]
  },
  {
   "cell_type": "code",
   "execution_count": 77,
   "id": "bb7eff7e-fd58-40bc-b7f0-16f92b786cc8",
   "metadata": {},
   "outputs": [],
   "source": [
    "from sklearn.pipeline import Pipeline\n",
    "pipeline = Pipeline(steps=[\n",
    "    ( 'column_transformer', column_transformer ),\n",
    "    ( 'classifier', AdaBoostClassifier() ),\n",
    "])"
   ]
  },
  {
   "cell_type": "code",
   "execution_count": 78,
   "id": "92c9b663-6136-4030-aa98-3206489df46a",
   "metadata": {},
   "outputs": [
    {
     "name": "stdout",
     "output_type": "stream",
     "text": [
      "CV estimate of accuracy is 89.04% +/ 0.23%\n"
     ]
    }
   ],
   "source": [
    "from sklearn.model_selection import cross_val_score\n",
    "scores = cross_val_score(pipeline, X_train, y_train, cv=10)\n",
    "print(f\"CV estimate of accuracy is {scores.mean():.2%} +/ {2*scores.std()/len(scores):.2%}\")"
   ]
  },
  {
   "cell_type": "code",
   "execution_count": 242,
   "id": "dced5a28-c28b-4435-9af4-01c67546e615",
   "metadata": {},
   "outputs": [
    {
     "data": {
      "text/plain": [
       "Pipeline(steps=[('column_transformer',\n",
       "                 ColumnTransformer(transformers=[('categorical_features',\n",
       "                                                  OneHotEncoder(),\n",
       "                                                  ['Gender', 'Marital_Status',\n",
       "                                                   'Card', 'Income',\n",
       "                                                   'Credit_Card', 'Mortgage']),\n",
       "                                                 ('numerical_features',\n",
       "                                                  StandardScaler(),\n",
       "                                                  ['Customer_Service_Calls',\n",
       "                                                   'Total_Revolving_Balance',\n",
       "                                                   'num_trans', 'num_accs',\n",
       "                                                   'nb_months'])])),\n",
       "                ('classifier', AdaBoostClassifier())])"
      ]
     },
     "execution_count": 242,
     "metadata": {},
     "output_type": "execute_result"
    }
   ],
   "source": [
    "pipeline.fit(X_train, y_train)"
   ]
  },
  {
   "cell_type": "markdown",
   "id": "116f84c4-b213-4535-8427-f20fa15e9bd9",
   "metadata": {},
   "source": [
    "## CV estimate of accuracy is 91.03% +/ 0.63%\n"
   ]
  },
  {
   "cell_type": "code",
   "execution_count": 243,
   "id": "2b2d21a5-2057-4b1a-832f-ca25d9dfb2de",
   "metadata": {},
   "outputs": [],
   "source": [
    "filename = \"Completed_model_ADABoost.joblib\""
   ]
  },
  {
   "cell_type": "code",
   "execution_count": 244,
   "id": "645cf543-6e0b-487e-b56a-06e9551b73e5",
   "metadata": {},
   "outputs": [
    {
     "data": {
      "text/plain": [
       "['Completed_model_ADABoost.joblib']"
      ]
     },
     "execution_count": 244,
     "metadata": {},
     "output_type": "execute_result"
    }
   ],
   "source": [
    "joblib.dump(pipeline, filename)"
   ]
  },
  {
   "cell_type": "code",
   "execution_count": null,
   "id": "78afa0f4-c0bb-4cc5-a5b6-a10c3a4965b0",
   "metadata": {},
   "outputs": [],
   "source": []
  },
  {
   "cell_type": "code",
   "execution_count": null,
   "id": "a6653ed9-c315-4014-8640-08f32477c793",
   "metadata": {},
   "outputs": [],
   "source": []
  },
  {
   "cell_type": "code",
   "execution_count": 79,
   "id": "58da0675-ed02-4a95-87b9-468a5afa3558",
   "metadata": {},
   "outputs": [],
   "source": [
    "from sklearn.pipeline import Pipeline\n",
    "pipeline = Pipeline(steps=[\n",
    "    ( 'column_transformer', column_transformer ),\n",
    "    ( 'classifier', GradientBoostingClassifier() ),\n",
    "])"
   ]
  },
  {
   "cell_type": "code",
   "execution_count": 80,
   "id": "471bb6af-4cd0-4185-bc54-637751638dd6",
   "metadata": {},
   "outputs": [
    {
     "name": "stdout",
     "output_type": "stream",
     "text": [
      "CV estimate of accuracy is 90.54% +/ 0.21%\n"
     ]
    }
   ],
   "source": [
    "from sklearn.model_selection import cross_val_score\n",
    "scores = cross_val_score(pipeline, X_train, y_train, cv=5)\n",
    "print(f\"CV estimate of accuracy is {scores.mean():.2%} +/ {2*scores.std()/len(scores):.2%}\")"
   ]
  },
  {
   "cell_type": "code",
   "execution_count": null,
   "id": "ded0dbdf-aa0d-4eba-ae40-df901ef3b66d",
   "metadata": {},
   "outputs": [],
   "source": []
  },
  {
   "cell_type": "code",
   "execution_count": 247,
   "id": "2d17e64e-f275-473e-8c97-17bf4158b3d0",
   "metadata": {},
   "outputs": [
    {
     "data": {
      "text/plain": [
       "Pipeline(steps=[('column_transformer',\n",
       "                 ColumnTransformer(transformers=[('categorical_features',\n",
       "                                                  OneHotEncoder(),\n",
       "                                                  ['Gender', 'Marital_Status',\n",
       "                                                   'Card', 'Income',\n",
       "                                                   'Credit_Card', 'Mortgage']),\n",
       "                                                 ('numerical_features',\n",
       "                                                  StandardScaler(),\n",
       "                                                  ['Customer_Service_Calls',\n",
       "                                                   'Total_Revolving_Balance',\n",
       "                                                   'num_trans', 'num_accs',\n",
       "                                                   'nb_months'])])),\n",
       "                ('classifier', GradientBoostingClassifier())])"
      ]
     },
     "execution_count": 247,
     "metadata": {},
     "output_type": "execute_result"
    }
   ],
   "source": [
    "pipeline.fit(X_train, y_train)"
   ]
  },
  {
   "cell_type": "markdown",
   "id": "11ba4692-445b-4e21-a095-3c07786d4c23",
   "metadata": {},
   "source": [
    "## CV estimate of accuracy is 91.03% +/ 0.63%\n"
   ]
  },
  {
   "cell_type": "code",
   "execution_count": 248,
   "id": "656406dc-aff8-4234-a806-cf22127c2ac1",
   "metadata": {},
   "outputs": [],
   "source": [
    "filename = \"Completed_model_GradBoost.joblib\""
   ]
  },
  {
   "cell_type": "code",
   "execution_count": 249,
   "id": "0d01c551-2658-42f9-bd21-bb34c4ab4966",
   "metadata": {},
   "outputs": [
    {
     "data": {
      "text/plain": [
       "['Completed_model_GradBoost.joblib']"
      ]
     },
     "execution_count": 249,
     "metadata": {},
     "output_type": "execute_result"
    }
   ],
   "source": [
    "joblib.dump(pipeline, filename)"
   ]
  },
  {
   "cell_type": "code",
   "execution_count": 81,
   "id": "b4b66a18-8d4d-4136-a40d-4df294d3abed",
   "metadata": {},
   "outputs": [],
   "source": [
    "from sklearn.pipeline import Pipeline\n",
    "pipeline = Pipeline(steps=[\n",
    "    ( 'column_transformer', column_transformer ),\n",
    "    ( 'classifier', GaussianNB() ),\n",
    "])"
   ]
  },
  {
   "cell_type": "code",
   "execution_count": 82,
   "id": "3c349971-3ff6-46aa-9e65-e44e9108a521",
   "metadata": {},
   "outputs": [
    {
     "name": "stdout",
     "output_type": "stream",
     "text": [
      "CV estimate of accuracy is 84.20% +/ 0.25%\n"
     ]
    }
   ],
   "source": [
    "from sklearn.model_selection import cross_val_score\n",
    "scores = cross_val_score(pipeline, X_train, y_train, cv=5)\n",
    "print(f\"CV estimate of accuracy is {scores.mean():.2%} +/ {2*scores.std()/len(scores):.2%}\")"
   ]
  },
  {
   "cell_type": "code",
   "execution_count": 252,
   "id": "78ab9f95-06e6-4037-813f-361715d2ce12",
   "metadata": {},
   "outputs": [
    {
     "data": {
      "text/plain": [
       "Pipeline(steps=[('column_transformer',\n",
       "                 ColumnTransformer(transformers=[('categorical_features',\n",
       "                                                  OneHotEncoder(),\n",
       "                                                  ['Gender', 'Marital_Status',\n",
       "                                                   'Card', 'Income',\n",
       "                                                   'Credit_Card', 'Mortgage']),\n",
       "                                                 ('numerical_features',\n",
       "                                                  StandardScaler(),\n",
       "                                                  ['Customer_Service_Calls',\n",
       "                                                   'Total_Revolving_Balance',\n",
       "                                                   'num_trans', 'num_accs',\n",
       "                                                   'nb_months'])])),\n",
       "                ('classifier', GaussianNB())])"
      ]
     },
     "execution_count": 252,
     "metadata": {},
     "output_type": "execute_result"
    }
   ],
   "source": [
    "pipeline.fit(X_train, y_train)"
   ]
  },
  {
   "cell_type": "markdown",
   "id": "e80b5d78-6a10-460e-a3f5-56ff85ee98a0",
   "metadata": {},
   "source": [
    "## CV estimate of accuracy is 91.03% +/ 0.63%\n"
   ]
  },
  {
   "cell_type": "code",
   "execution_count": 253,
   "id": "83b0b5e7-2128-4aad-bc63-2950fbaa9234",
   "metadata": {},
   "outputs": [],
   "source": [
    "filename = \"Completed_model_GaussianNB.joblib\""
   ]
  },
  {
   "cell_type": "code",
   "execution_count": 254,
   "id": "56ee7ab0-0f16-4070-ac83-de6fc71ab21b",
   "metadata": {},
   "outputs": [
    {
     "data": {
      "text/plain": [
       "['Completed_model_GaussianNB.joblib']"
      ]
     },
     "execution_count": 254,
     "metadata": {},
     "output_type": "execute_result"
    }
   ],
   "source": [
    "joblib.dump(pipeline, filename)"
   ]
  },
  {
   "cell_type": "code",
   "execution_count": 83,
   "id": "fcb0ee3f-13b4-4e65-80bd-6adcda3d9f5d",
   "metadata": {},
   "outputs": [],
   "source": [
    "from sklearn.pipeline import Pipeline\n",
    "pipeline = Pipeline(steps=[\n",
    "    ( 'column_transformer', column_transformer ),\n",
    "    ( 'classifier', XGBClassifier() ),\n",
    "])"
   ]
  },
  {
   "cell_type": "code",
   "execution_count": 84,
   "id": "64866b29-b579-424f-9357-3385e62829f9",
   "metadata": {},
   "outputs": [
    {
     "name": "stdout",
     "output_type": "stream",
     "text": [
      "CV estimate of accuracy is 89.61% +/ 0.24%\n"
     ]
    }
   ],
   "source": [
    "from sklearn.model_selection import cross_val_score\n",
    "scores = cross_val_score(pipeline, X_train, y_train, cv=5)\n",
    "print(f\"CV estimate of accuracy is {scores.mean():.2%} +/ {2*scores.std()/len(scores):.2%}\")"
   ]
  },
  {
   "cell_type": "code",
   "execution_count": 257,
   "id": "78baac08-8c6e-4803-b8cf-99d8cbb8f30f",
   "metadata": {},
   "outputs": [
    {
     "ename": "ValueError",
     "evalue": "Invalid classes inferred from unique values of `y`.  Expected: [0 1], got ['No' 'Yes']",
     "output_type": "error",
     "traceback": [
      "\u001b[1;31m---------------------------------------------------------------------------\u001b[0m",
      "\u001b[1;31mValueError\u001b[0m                                Traceback (most recent call last)",
      "\u001b[1;32m~\\AppData\\Local\\Temp\\ipykernel_26536\\3809708124.py\u001b[0m in \u001b[0;36m<module>\u001b[1;34m\u001b[0m\n\u001b[1;32m----> 1\u001b[1;33m \u001b[0mpipeline\u001b[0m\u001b[1;33m.\u001b[0m\u001b[0mfit\u001b[0m\u001b[1;33m(\u001b[0m\u001b[0mX_train\u001b[0m\u001b[1;33m,\u001b[0m \u001b[0my_train\u001b[0m\u001b[1;33m)\u001b[0m\u001b[1;33m\u001b[0m\u001b[1;33m\u001b[0m\u001b[0m\n\u001b[0m",
      "\u001b[1;32m~\\anaconda3\\lib\\site-packages\\sklearn\\pipeline.py\u001b[0m in \u001b[0;36mfit\u001b[1;34m(self, X, y, **fit_params)\u001b[0m\n\u001b[0;32m    392\u001b[0m             \u001b[1;32mif\u001b[0m \u001b[0mself\u001b[0m\u001b[1;33m.\u001b[0m\u001b[0m_final_estimator\u001b[0m \u001b[1;33m!=\u001b[0m \u001b[1;34m\"passthrough\"\u001b[0m\u001b[1;33m:\u001b[0m\u001b[1;33m\u001b[0m\u001b[1;33m\u001b[0m\u001b[0m\n\u001b[0;32m    393\u001b[0m                 \u001b[0mfit_params_last_step\u001b[0m \u001b[1;33m=\u001b[0m \u001b[0mfit_params_steps\u001b[0m\u001b[1;33m[\u001b[0m\u001b[0mself\u001b[0m\u001b[1;33m.\u001b[0m\u001b[0msteps\u001b[0m\u001b[1;33m[\u001b[0m\u001b[1;33m-\u001b[0m\u001b[1;36m1\u001b[0m\u001b[1;33m]\u001b[0m\u001b[1;33m[\u001b[0m\u001b[1;36m0\u001b[0m\u001b[1;33m]\u001b[0m\u001b[1;33m]\u001b[0m\u001b[1;33m\u001b[0m\u001b[1;33m\u001b[0m\u001b[0m\n\u001b[1;32m--> 394\u001b[1;33m                 \u001b[0mself\u001b[0m\u001b[1;33m.\u001b[0m\u001b[0m_final_estimator\u001b[0m\u001b[1;33m.\u001b[0m\u001b[0mfit\u001b[0m\u001b[1;33m(\u001b[0m\u001b[0mXt\u001b[0m\u001b[1;33m,\u001b[0m \u001b[0my\u001b[0m\u001b[1;33m,\u001b[0m \u001b[1;33m**\u001b[0m\u001b[0mfit_params_last_step\u001b[0m\u001b[1;33m)\u001b[0m\u001b[1;33m\u001b[0m\u001b[1;33m\u001b[0m\u001b[0m\n\u001b[0m\u001b[0;32m    395\u001b[0m \u001b[1;33m\u001b[0m\u001b[0m\n\u001b[0;32m    396\u001b[0m         \u001b[1;32mreturn\u001b[0m \u001b[0mself\u001b[0m\u001b[1;33m\u001b[0m\u001b[1;33m\u001b[0m\u001b[0m\n",
      "\u001b[1;32m~\\anaconda3\\lib\\site-packages\\xgboost\\core.py\u001b[0m in \u001b[0;36minner_f\u001b[1;34m(*args, **kwargs)\u001b[0m\n\u001b[0;32m    618\u001b[0m             \u001b[1;32mfor\u001b[0m \u001b[0mk\u001b[0m\u001b[1;33m,\u001b[0m \u001b[0marg\u001b[0m \u001b[1;32min\u001b[0m \u001b[0mzip\u001b[0m\u001b[1;33m(\u001b[0m\u001b[0msig\u001b[0m\u001b[1;33m.\u001b[0m\u001b[0mparameters\u001b[0m\u001b[1;33m,\u001b[0m \u001b[0margs\u001b[0m\u001b[1;33m)\u001b[0m\u001b[1;33m:\u001b[0m\u001b[1;33m\u001b[0m\u001b[1;33m\u001b[0m\u001b[0m\n\u001b[0;32m    619\u001b[0m                 \u001b[0mkwargs\u001b[0m\u001b[1;33m[\u001b[0m\u001b[0mk\u001b[0m\u001b[1;33m]\u001b[0m \u001b[1;33m=\u001b[0m \u001b[0marg\u001b[0m\u001b[1;33m\u001b[0m\u001b[1;33m\u001b[0m\u001b[0m\n\u001b[1;32m--> 620\u001b[1;33m             \u001b[1;32mreturn\u001b[0m \u001b[0mfunc\u001b[0m\u001b[1;33m(\u001b[0m\u001b[1;33m**\u001b[0m\u001b[0mkwargs\u001b[0m\u001b[1;33m)\u001b[0m\u001b[1;33m\u001b[0m\u001b[1;33m\u001b[0m\u001b[0m\n\u001b[0m\u001b[0;32m    621\u001b[0m \u001b[1;33m\u001b[0m\u001b[0m\n\u001b[0;32m    622\u001b[0m         \u001b[1;32mreturn\u001b[0m \u001b[0minner_f\u001b[0m\u001b[1;33m\u001b[0m\u001b[1;33m\u001b[0m\u001b[0m\n",
      "\u001b[1;32m~\\anaconda3\\lib\\site-packages\\xgboost\\sklearn.py\u001b[0m in \u001b[0;36mfit\u001b[1;34m(self, X, y, sample_weight, base_margin, eval_set, eval_metric, early_stopping_rounds, verbose, xgb_model, sample_weight_eval_set, base_margin_eval_set, feature_weights, callbacks)\u001b[0m\n\u001b[0;32m   1438\u001b[0m                 \u001b[1;32mor\u001b[0m \u001b[1;32mnot\u001b[0m \u001b[1;33m(\u001b[0m\u001b[0mself\u001b[0m\u001b[1;33m.\u001b[0m\u001b[0mclasses_\u001b[0m \u001b[1;33m==\u001b[0m \u001b[0mexpected_classes\u001b[0m\u001b[1;33m)\u001b[0m\u001b[1;33m.\u001b[0m\u001b[0mall\u001b[0m\u001b[1;33m(\u001b[0m\u001b[1;33m)\u001b[0m\u001b[1;33m\u001b[0m\u001b[1;33m\u001b[0m\u001b[0m\n\u001b[0;32m   1439\u001b[0m             ):\n\u001b[1;32m-> 1440\u001b[1;33m                 raise ValueError(\n\u001b[0m\u001b[0;32m   1441\u001b[0m                     \u001b[1;34mf\"Invalid classes inferred from unique values of `y`.  \"\u001b[0m\u001b[1;33m\u001b[0m\u001b[1;33m\u001b[0m\u001b[0m\n\u001b[0;32m   1442\u001b[0m                     \u001b[1;34mf\"Expected: {expected_classes}, got {self.classes_}\"\u001b[0m\u001b[1;33m\u001b[0m\u001b[1;33m\u001b[0m\u001b[0m\n",
      "\u001b[1;31mValueError\u001b[0m: Invalid classes inferred from unique values of `y`.  Expected: [0 1], got ['No' 'Yes']"
     ]
    }
   ],
   "source": [
    "pipeline.fit(X_train, y_train)"
   ]
  },
  {
   "cell_type": "code",
   "execution_count": 1,
   "id": "04854006-9b6e-4386-9fc0-800d2898bf52",
   "metadata": {},
   "outputs": [],
   "source": [
    "filename = \"Completed_model_XGBClassifier.joblib\""
   ]
  },
  {
   "cell_type": "code",
   "execution_count": 2,
   "id": "427dbfd6-f9c0-4a50-9e8d-1518eabf98d4",
   "metadata": {},
   "outputs": [
    {
     "ename": "NameError",
     "evalue": "name 'joblib' is not defined",
     "output_type": "error",
     "traceback": [
      "\u001b[1;31m---------------------------------------------------------------------------\u001b[0m",
      "\u001b[1;31mNameError\u001b[0m                                 Traceback (most recent call last)",
      "\u001b[1;32m~\\AppData\\Local\\Temp\\ipykernel_4032\\3992826456.py\u001b[0m in \u001b[0;36m<module>\u001b[1;34m\u001b[0m\n\u001b[1;32m----> 1\u001b[1;33m \u001b[0mjoblib\u001b[0m\u001b[1;33m.\u001b[0m\u001b[0mdump\u001b[0m\u001b[1;33m(\u001b[0m\u001b[0mpipeline\u001b[0m\u001b[1;33m,\u001b[0m \u001b[0mfilename\u001b[0m\u001b[1;33m)\u001b[0m\u001b[1;33m\u001b[0m\u001b[1;33m\u001b[0m\u001b[0m\n\u001b[0m",
      "\u001b[1;31mNameError\u001b[0m: name 'joblib' is not defined"
     ]
    }
   ],
   "source": [
    "joblib.dump(pipeline, filename)"
   ]
  },
  {
   "cell_type": "code",
   "execution_count": null,
   "id": "48dfd310-539f-4cfb-a65d-9ce89863814f",
   "metadata": {},
   "outputs": [],
   "source": []
  },
  {
   "cell_type": "code",
   "execution_count": null,
   "id": "9d93ca93-5015-4b17-8020-d9d4d0abbd7e",
   "metadata": {},
   "outputs": [],
   "source": []
  },
  {
   "cell_type": "code",
   "execution_count": null,
   "id": "5a0671f2-51ac-4523-acae-6b852655e36e",
   "metadata": {},
   "outputs": [],
   "source": []
  },
  {
   "cell_type": "code",
   "execution_count": 85,
   "id": "16f6380f-37f4-4dc6-bcab-2a13edd67171",
   "metadata": {},
   "outputs": [],
   "source": [
    "from sklearn.pipeline import Pipeline\n",
    "pipeline = Pipeline(steps=[\n",
    "    ( 'column_transformer', column_transformer ),\n",
    "    ( 'classifier', SVC() ),\n",
    "])"
   ]
  },
  {
   "cell_type": "code",
   "execution_count": 86,
   "id": "71d8a550-3414-460d-a0d2-c477762d9c53",
   "metadata": {},
   "outputs": [
    {
     "name": "stdout",
     "output_type": "stream",
     "text": [
      "CV estimate of accuracy is 87.88% +/ 0.24%\n"
     ]
    }
   ],
   "source": [
    "from sklearn.model_selection import cross_val_score\n",
    "scores = cross_val_score(pipeline, X_train, y_train, cv=5)\n",
    "print(f\"CV estimate of accuracy is {scores.mean():.2%} +/ {2*scores.std()/len(scores):.2%}\")"
   ]
  },
  {
   "cell_type": "code",
   "execution_count": 262,
   "id": "c020dc19-5b68-4985-96fb-d39e9f0c7230",
   "metadata": {},
   "outputs": [
    {
     "data": {
      "text/plain": [
       "Pipeline(steps=[('column_transformer',\n",
       "                 ColumnTransformer(transformers=[('categorical_features',\n",
       "                                                  OneHotEncoder(),\n",
       "                                                  ['Gender', 'Marital_Status',\n",
       "                                                   'Card', 'Income',\n",
       "                                                   'Credit_Card', 'Mortgage']),\n",
       "                                                 ('numerical_features',\n",
       "                                                  StandardScaler(),\n",
       "                                                  ['Customer_Service_Calls',\n",
       "                                                   'Total_Revolving_Balance',\n",
       "                                                   'num_trans', 'num_accs',\n",
       "                                                   'nb_months'])])),\n",
       "                ('classifier', SVC())])"
      ]
     },
     "execution_count": 262,
     "metadata": {},
     "output_type": "execute_result"
    }
   ],
   "source": [
    "pipeline.fit(X_train, y_train)"
   ]
  },
  {
   "cell_type": "markdown",
   "id": "5f0ee20a-8fbb-4c7c-be02-d1b67d325a5e",
   "metadata": {},
   "source": [
    "## CV estimate of accuracy is 91.03% +/ 0.63%\n"
   ]
  },
  {
   "cell_type": "code",
   "execution_count": 263,
   "id": "3adc6436-841a-4dd8-9e46-144d64e75175",
   "metadata": {},
   "outputs": [],
   "source": [
    "filename = \"Completed_model_ColTrans.joblib\""
   ]
  },
  {
   "cell_type": "code",
   "execution_count": 264,
   "id": "cfc72167-db49-4895-acda-36c28ce9f31e",
   "metadata": {},
   "outputs": [
    {
     "data": {
      "text/plain": [
       "['Completed_model_ColTrans.joblib']"
      ]
     },
     "execution_count": 264,
     "metadata": {},
     "output_type": "execute_result"
    }
   ],
   "source": [
    "joblib.dump(pipeline, filename)"
   ]
  },
  {
   "cell_type": "code",
   "execution_count": 87,
   "id": "265cbc4a-d2c8-499d-83bc-7e60763549a5",
   "metadata": {},
   "outputs": [],
   "source": [
    "from sklearn.pipeline import Pipeline\n",
    "pipeline = Pipeline(steps=[\n",
    "    ( 'column_transformer', column_transformer ),\n",
    "    ( 'classifier', RandomForestClassifier() ),\n",
    "])"
   ]
  },
  {
   "cell_type": "code",
   "execution_count": 88,
   "id": "343bd996-b983-4ff4-8d96-5c58d5492e85",
   "metadata": {},
   "outputs": [
    {
     "name": "stdout",
     "output_type": "stream",
     "text": [
      "CV estimate of accuracy is 89.52% +/ 0.37%\n"
     ]
    }
   ],
   "source": [
    "from sklearn.model_selection import cross_val_score\n",
    "scores = cross_val_score(pipeline, X_train, y_train, cv=5)\n",
    "print(f\"CV estimate of accuracy is {scores.mean():.2%} +/ {2*scores.std()/len(scores):.2%}\")"
   ]
  },
  {
   "cell_type": "code",
   "execution_count": null,
   "id": "50011604-0171-4402-b657-059fcec2f2ef",
   "metadata": {},
   "outputs": [],
   "source": []
  },
  {
   "cell_type": "code",
   "execution_count": 267,
   "id": "9835fdc5-fc78-4094-a06d-f43c5cd91cb6",
   "metadata": {},
   "outputs": [
    {
     "data": {
      "text/plain": [
       "Pipeline(steps=[('column_transformer',\n",
       "                 ColumnTransformer(transformers=[('categorical_features',\n",
       "                                                  OneHotEncoder(),\n",
       "                                                  ['Gender', 'Marital_Status',\n",
       "                                                   'Card', 'Income',\n",
       "                                                   'Credit_Card', 'Mortgage']),\n",
       "                                                 ('numerical_features',\n",
       "                                                  StandardScaler(),\n",
       "                                                  ['Customer_Service_Calls',\n",
       "                                                   'Total_Revolving_Balance',\n",
       "                                                   'num_trans', 'num_accs',\n",
       "                                                   'nb_months'])])),\n",
       "                ('classifier', RandomForestClassifier())])"
      ]
     },
     "execution_count": 267,
     "metadata": {},
     "output_type": "execute_result"
    }
   ],
   "source": [
    "pipeline.fit(X_train, y_train)"
   ]
  },
  {
   "cell_type": "code",
   "execution_count": 268,
   "id": "c9d98275-3f10-46f9-b1e6-2340933d60df",
   "metadata": {},
   "outputs": [],
   "source": [
    "filename = \"Completed_model_RandForest.joblib\""
   ]
  },
  {
   "cell_type": "code",
   "execution_count": 269,
   "id": "a0cad73c-9294-4640-a6d2-e4ff869202dd",
   "metadata": {},
   "outputs": [],
   "source": [
    "import joblib"
   ]
  },
  {
   "cell_type": "code",
   "execution_count": 270,
   "id": "12659ecc-996c-4555-8afc-e1873c9109bc",
   "metadata": {},
   "outputs": [
    {
     "data": {
      "text/plain": [
       "['Completed_model_RandForest.joblib']"
      ]
     },
     "execution_count": 270,
     "metadata": {},
     "output_type": "execute_result"
    }
   ],
   "source": [
    "joblib.dump(pipeline, filename)"
   ]
  },
  {
   "cell_type": "code",
   "execution_count": 271,
   "id": "309fcd04-f0fb-4496-a458-028bf72e85af",
   "metadata": {},
   "outputs": [],
   "source": [
    "y_pred = pipeline.predict(X_test)"
   ]
  },
  {
   "cell_type": "code",
   "execution_count": 272,
   "id": "efbe4c45-b167-4881-a7b2-ff2e3ae63898",
   "metadata": {},
   "outputs": [
    {
     "data": {
      "text/plain": [
       "array(['Yes', 'No', 'No', ..., 'No', 'No', 'No'], dtype=object)"
      ]
     },
     "execution_count": 272,
     "metadata": {},
     "output_type": "execute_result"
    }
   ],
   "source": [
    "y_pred"
   ]
  },
  {
   "cell_type": "code",
   "execution_count": null,
   "id": "842d2d68-a1f2-487d-9039-e3ac15f65215",
   "metadata": {},
   "outputs": [],
   "source": []
  },
  {
   "cell_type": "code",
   "execution_count": 89,
   "id": "6e90e5e2-d325-4a48-bfb0-9a4e5fc7bc70",
   "metadata": {},
   "outputs": [],
   "source": [
    "from sklearn.pipeline import Pipeline\n",
    "pipeline = Pipeline(steps=[\n",
    "    ( 'column_transformer', column_transformer ),\n",
    "    ( 'classifier', LGBMClassifier() ),\n",
    "])"
   ]
  },
  {
   "cell_type": "code",
   "execution_count": 90,
   "id": "e0333f61-8870-48c0-9671-d8012c4e1b50",
   "metadata": {},
   "outputs": [
    {
     "name": "stdout",
     "output_type": "stream",
     "text": [
      "CV estimate of accuracy is 89.80% +/ 0.19%\n"
     ]
    }
   ],
   "source": [
    "from sklearn.model_selection import cross_val_score\n",
    "scores = cross_val_score(pipeline, X_train, y_train, cv=5)\n",
    "print(f\"CV estimate of accuracy is {scores.mean():.2%} +/ {2*scores.std()/len(scores):.2%}\")"
   ]
  },
  {
   "cell_type": "code",
   "execution_count": 275,
   "id": "16e866f6-cfc0-492a-8566-d82d19466fd4",
   "metadata": {},
   "outputs": [
    {
     "data": {
      "text/plain": [
       "Pipeline(steps=[('column_transformer',\n",
       "                 ColumnTransformer(transformers=[('categorical_features',\n",
       "                                                  OneHotEncoder(),\n",
       "                                                  ['Gender', 'Marital_Status',\n",
       "                                                   'Card', 'Income',\n",
       "                                                   'Credit_Card', 'Mortgage']),\n",
       "                                                 ('numerical_features',\n",
       "                                                  StandardScaler(),\n",
       "                                                  ['Customer_Service_Calls',\n",
       "                                                   'Total_Revolving_Balance',\n",
       "                                                   'num_trans', 'num_accs',\n",
       "                                                   'nb_months'])])),\n",
       "                ('classifier', LGBMClassifier())])"
      ]
     },
     "execution_count": 275,
     "metadata": {},
     "output_type": "execute_result"
    }
   ],
   "source": [
    "pipeline.fit(X_train, y_train)"
   ]
  },
  {
   "cell_type": "code",
   "execution_count": 276,
   "id": "a0e23db7-9e84-49c2-9e85-1a2a0a7a4f44",
   "metadata": {},
   "outputs": [],
   "source": [
    "filename = \"Completed_model_LGBM.joblib\""
   ]
  },
  {
   "cell_type": "code",
   "execution_count": 277,
   "id": "86cd4d3b-7b11-49ab-9c64-9bb49f447290",
   "metadata": {},
   "outputs": [
    {
     "data": {
      "text/plain": [
       "['Completed_model_LGBM.joblib']"
      ]
     },
     "execution_count": 277,
     "metadata": {},
     "output_type": "execute_result"
    }
   ],
   "source": [
    "joblib.dump(pipeline, filename)"
   ]
  },
  {
   "cell_type": "code",
   "execution_count": null,
   "id": "8b175087-651f-4bc9-9089-db8c8ae20baa",
   "metadata": {},
   "outputs": [],
   "source": []
  },
  {
   "cell_type": "code",
   "execution_count": null,
   "id": "4b5d225a-92f0-4b5d-a6d1-2003751a8eed",
   "metadata": {},
   "outputs": [],
   "source": []
  },
  {
   "cell_type": "code",
   "execution_count": 278,
   "id": "b973896b-ef2e-4344-ad42-80c4605e37bd",
   "metadata": {},
   "outputs": [],
   "source": [
    "###############################################################"
   ]
  },
  {
   "cell_type": "code",
   "execution_count": null,
   "id": "01d2baf9-414e-46df-8485-2e51ee62f59a",
   "metadata": {},
   "outputs": [],
   "source": []
  },
  {
   "cell_type": "code",
   "execution_count": null,
   "id": "80316fe6-eb10-4c19-bb01-f7588dce6966",
   "metadata": {},
   "outputs": [],
   "source": []
  },
  {
   "cell_type": "code",
   "execution_count": null,
   "id": "e6d59f55-e656-4e75-a067-039d90f2da93",
   "metadata": {},
   "outputs": [],
   "source": []
  },
  {
   "cell_type": "code",
   "execution_count": null,
   "id": "1736958e-6c6b-48d5-94a3-ac99468cb94f",
   "metadata": {},
   "outputs": [],
   "source": []
  },
  {
   "cell_type": "code",
   "execution_count": 91,
   "id": "6ba97432-a566-4014-953e-a874cf159e91",
   "metadata": {},
   "outputs": [],
   "source": [
    "from sklearn.pipeline import Pipeline\n",
    "pipeline = Pipeline(steps=[\n",
    "    ( 'column_transformer', column_transformer ),\n",
    "    ( 'classifier', BernoulliNB() ),\n",
    "])"
   ]
  },
  {
   "cell_type": "code",
   "execution_count": 92,
   "id": "31f1dd4d-b305-44cb-9ff4-9b3cc7658cf1",
   "metadata": {},
   "outputs": [
    {
     "name": "stdout",
     "output_type": "stream",
     "text": [
      "CV estimate of accuracy is 86.40% +/ 0.28%\n"
     ]
    }
   ],
   "source": [
    "from sklearn.model_selection import cross_val_score\n",
    "scores = cross_val_score(pipeline, X_train, y_train, cv=5)\n",
    "print(f\"CV estimate of accuracy is {scores.mean():.2%} +/ {2*scores.std()/len(scores):.2%}\")"
   ]
  },
  {
   "cell_type": "code",
   "execution_count": 281,
   "id": "f24c3349-15de-4b69-9b35-853f84241963",
   "metadata": {},
   "outputs": [
    {
     "data": {
      "text/plain": [
       "Pipeline(steps=[('column_transformer',\n",
       "                 ColumnTransformer(transformers=[('categorical_features',\n",
       "                                                  OneHotEncoder(),\n",
       "                                                  ['Gender', 'Marital_Status',\n",
       "                                                   'Card', 'Income',\n",
       "                                                   'Credit_Card', 'Mortgage']),\n",
       "                                                 ('numerical_features',\n",
       "                                                  StandardScaler(),\n",
       "                                                  ['Customer_Service_Calls',\n",
       "                                                   'Total_Revolving_Balance',\n",
       "                                                   'num_trans', 'num_accs',\n",
       "                                                   'nb_months'])])),\n",
       "                ('classifier', BernoulliNB())])"
      ]
     },
     "execution_count": 281,
     "metadata": {},
     "output_type": "execute_result"
    }
   ],
   "source": [
    "pipeline.fit(X_train, y_train)"
   ]
  },
  {
   "cell_type": "markdown",
   "id": "34e3e428-3293-4968-9cc1-2a8d44071595",
   "metadata": {},
   "source": [
    "## CV estimate of accuracy is 91.03% +/ 0.63%\n"
   ]
  },
  {
   "cell_type": "code",
   "execution_count": 282,
   "id": "129c01f2-525e-4376-b7ac-b7ae11a82624",
   "metadata": {},
   "outputs": [],
   "source": [
    "filename = \"Completed_model_BernNB.joblib\""
   ]
  },
  {
   "cell_type": "code",
   "execution_count": 283,
   "id": "3db0ab6c-ddeb-4171-9ef0-4d8d499d00a5",
   "metadata": {},
   "outputs": [
    {
     "data": {
      "text/plain": [
       "['Completed_model_BernNB.joblib']"
      ]
     },
     "execution_count": 283,
     "metadata": {},
     "output_type": "execute_result"
    }
   ],
   "source": [
    "joblib.dump(pipeline, filename)"
   ]
  },
  {
   "cell_type": "markdown",
   "id": "9ede68e0-cfa7-4007-8fc7-96ed77f3f0a4",
   "metadata": {},
   "source": [
    "## CV estimate of accuracy is 83.07% +/ 0.23%"
   ]
  },
  {
   "cell_type": "code",
   "execution_count": 93,
   "id": "855c5522-249d-4169-910d-93e3b40cf840",
   "metadata": {},
   "outputs": [],
   "source": [
    "from sklearn.pipeline import Pipeline\n",
    "pipeline = Pipeline(steps=[\n",
    "    ( 'column_transformer', column_transformer ),\n",
    "    ( 'classifier', KNeighborsClassifier(n_neighbors=13) ),\n",
    "])"
   ]
  },
  {
   "cell_type": "code",
   "execution_count": 94,
   "id": "4359270c-dcba-4ac4-a5de-d5c0d9b14ca9",
   "metadata": {},
   "outputs": [
    {
     "name": "stderr",
     "output_type": "stream",
     "text": [
      "C:\\Users\\mccab\\anaconda3\\lib\\site-packages\\sklearn\\neighbors\\_classification.py:228: FutureWarning: Unlike other reduction functions (e.g. `skew`, `kurtosis`), the default behavior of `mode` typically preserves the axis it acts along. In SciPy 1.11.0, this behavior will change: the default value of `keepdims` will become False, the `axis` over which the statistic is taken will be eliminated, and the value None will no longer be accepted. Set `keepdims` to True or False to avoid this warning.\n",
      "  mode, _ = stats.mode(_y[neigh_ind, k], axis=1)\n",
      "C:\\Users\\mccab\\anaconda3\\lib\\site-packages\\sklearn\\neighbors\\_classification.py:228: FutureWarning: Unlike other reduction functions (e.g. `skew`, `kurtosis`), the default behavior of `mode` typically preserves the axis it acts along. In SciPy 1.11.0, this behavior will change: the default value of `keepdims` will become False, the `axis` over which the statistic is taken will be eliminated, and the value None will no longer be accepted. Set `keepdims` to True or False to avoid this warning.\n",
      "  mode, _ = stats.mode(_y[neigh_ind, k], axis=1)\n",
      "C:\\Users\\mccab\\anaconda3\\lib\\site-packages\\sklearn\\neighbors\\_classification.py:228: FutureWarning: Unlike other reduction functions (e.g. `skew`, `kurtosis`), the default behavior of `mode` typically preserves the axis it acts along. In SciPy 1.11.0, this behavior will change: the default value of `keepdims` will become False, the `axis` over which the statistic is taken will be eliminated, and the value None will no longer be accepted. Set `keepdims` to True or False to avoid this warning.\n",
      "  mode, _ = stats.mode(_y[neigh_ind, k], axis=1)\n",
      "C:\\Users\\mccab\\anaconda3\\lib\\site-packages\\sklearn\\neighbors\\_classification.py:228: FutureWarning: Unlike other reduction functions (e.g. `skew`, `kurtosis`), the default behavior of `mode` typically preserves the axis it acts along. In SciPy 1.11.0, this behavior will change: the default value of `keepdims` will become False, the `axis` over which the statistic is taken will be eliminated, and the value None will no longer be accepted. Set `keepdims` to True or False to avoid this warning.\n",
      "  mode, _ = stats.mode(_y[neigh_ind, k], axis=1)\n",
      "C:\\Users\\mccab\\anaconda3\\lib\\site-packages\\sklearn\\neighbors\\_classification.py:228: FutureWarning: Unlike other reduction functions (e.g. `skew`, `kurtosis`), the default behavior of `mode` typically preserves the axis it acts along. In SciPy 1.11.0, this behavior will change: the default value of `keepdims` will become False, the `axis` over which the statistic is taken will be eliminated, and the value None will no longer be accepted. Set `keepdims` to True or False to avoid this warning.\n",
      "  mode, _ = stats.mode(_y[neigh_ind, k], axis=1)\n",
      "C:\\Users\\mccab\\anaconda3\\lib\\site-packages\\sklearn\\neighbors\\_classification.py:228: FutureWarning: Unlike other reduction functions (e.g. `skew`, `kurtosis`), the default behavior of `mode` typically preserves the axis it acts along. In SciPy 1.11.0, this behavior will change: the default value of `keepdims` will become False, the `axis` over which the statistic is taken will be eliminated, and the value None will no longer be accepted. Set `keepdims` to True or False to avoid this warning.\n",
      "  mode, _ = stats.mode(_y[neigh_ind, k], axis=1)\n",
      "C:\\Users\\mccab\\anaconda3\\lib\\site-packages\\sklearn\\neighbors\\_classification.py:228: FutureWarning: Unlike other reduction functions (e.g. `skew`, `kurtosis`), the default behavior of `mode` typically preserves the axis it acts along. In SciPy 1.11.0, this behavior will change: the default value of `keepdims` will become False, the `axis` over which the statistic is taken will be eliminated, and the value None will no longer be accepted. Set `keepdims` to True or False to avoid this warning.\n",
      "  mode, _ = stats.mode(_y[neigh_ind, k], axis=1)\n",
      "C:\\Users\\mccab\\anaconda3\\lib\\site-packages\\sklearn\\neighbors\\_classification.py:228: FutureWarning: Unlike other reduction functions (e.g. `skew`, `kurtosis`), the default behavior of `mode` typically preserves the axis it acts along. In SciPy 1.11.0, this behavior will change: the default value of `keepdims` will become False, the `axis` over which the statistic is taken will be eliminated, and the value None will no longer be accepted. Set `keepdims` to True or False to avoid this warning.\n",
      "  mode, _ = stats.mode(_y[neigh_ind, k], axis=1)\n",
      "C:\\Users\\mccab\\anaconda3\\lib\\site-packages\\sklearn\\neighbors\\_classification.py:228: FutureWarning: Unlike other reduction functions (e.g. `skew`, `kurtosis`), the default behavior of `mode` typically preserves the axis it acts along. In SciPy 1.11.0, this behavior will change: the default value of `keepdims` will become False, the `axis` over which the statistic is taken will be eliminated, and the value None will no longer be accepted. Set `keepdims` to True or False to avoid this warning.\n",
      "  mode, _ = stats.mode(_y[neigh_ind, k], axis=1)\n",
      "C:\\Users\\mccab\\anaconda3\\lib\\site-packages\\sklearn\\neighbors\\_classification.py:228: FutureWarning: Unlike other reduction functions (e.g. `skew`, `kurtosis`), the default behavior of `mode` typically preserves the axis it acts along. In SciPy 1.11.0, this behavior will change: the default value of `keepdims` will become False, the `axis` over which the statistic is taken will be eliminated, and the value None will no longer be accepted. Set `keepdims` to True or False to avoid this warning.\n",
      "  mode, _ = stats.mode(_y[neigh_ind, k], axis=1)\n",
      "C:\\Users\\mccab\\anaconda3\\lib\\site-packages\\sklearn\\neighbors\\_classification.py:228: FutureWarning: Unlike other reduction functions (e.g. `skew`, `kurtosis`), the default behavior of `mode` typically preserves the axis it acts along. In SciPy 1.11.0, this behavior will change: the default value of `keepdims` will become False, the `axis` over which the statistic is taken will be eliminated, and the value None will no longer be accepted. Set `keepdims` to True or False to avoid this warning.\n",
      "  mode, _ = stats.mode(_y[neigh_ind, k], axis=1)\n",
      "C:\\Users\\mccab\\anaconda3\\lib\\site-packages\\sklearn\\neighbors\\_classification.py:228: FutureWarning: Unlike other reduction functions (e.g. `skew`, `kurtosis`), the default behavior of `mode` typically preserves the axis it acts along. In SciPy 1.11.0, this behavior will change: the default value of `keepdims` will become False, the `axis` over which the statistic is taken will be eliminated, and the value None will no longer be accepted. Set `keepdims` to True or False to avoid this warning.\n",
      "  mode, _ = stats.mode(_y[neigh_ind, k], axis=1)\n"
     ]
    },
    {
     "name": "stdout",
     "output_type": "stream",
     "text": [
      "CV estimate of accuracy is 86.95% +/ 0.15%\n"
     ]
    },
    {
     "name": "stderr",
     "output_type": "stream",
     "text": [
      "C:\\Users\\mccab\\anaconda3\\lib\\site-packages\\sklearn\\neighbors\\_classification.py:228: FutureWarning: Unlike other reduction functions (e.g. `skew`, `kurtosis`), the default behavior of `mode` typically preserves the axis it acts along. In SciPy 1.11.0, this behavior will change: the default value of `keepdims` will become False, the `axis` over which the statistic is taken will be eliminated, and the value None will no longer be accepted. Set `keepdims` to True or False to avoid this warning.\n",
      "  mode, _ = stats.mode(_y[neigh_ind, k], axis=1)\n",
      "C:\\Users\\mccab\\anaconda3\\lib\\site-packages\\sklearn\\neighbors\\_classification.py:228: FutureWarning: Unlike other reduction functions (e.g. `skew`, `kurtosis`), the default behavior of `mode` typically preserves the axis it acts along. In SciPy 1.11.0, this behavior will change: the default value of `keepdims` will become False, the `axis` over which the statistic is taken will be eliminated, and the value None will no longer be accepted. Set `keepdims` to True or False to avoid this warning.\n",
      "  mode, _ = stats.mode(_y[neigh_ind, k], axis=1)\n",
      "C:\\Users\\mccab\\anaconda3\\lib\\site-packages\\sklearn\\neighbors\\_classification.py:228: FutureWarning: Unlike other reduction functions (e.g. `skew`, `kurtosis`), the default behavior of `mode` typically preserves the axis it acts along. In SciPy 1.11.0, this behavior will change: the default value of `keepdims` will become False, the `axis` over which the statistic is taken will be eliminated, and the value None will no longer be accepted. Set `keepdims` to True or False to avoid this warning.\n",
      "  mode, _ = stats.mode(_y[neigh_ind, k], axis=1)\n"
     ]
    }
   ],
   "source": [
    "from sklearn.model_selection import cross_val_score\n",
    "scores = cross_val_score(pipeline, X_train, y_train, cv=15)\n",
    "print(f\"CV estimate of accuracy is {scores.mean():.2%} +/ {2*scores.std()/len(scores):.2%}\")"
   ]
  },
  {
   "cell_type": "code",
   "execution_count": 286,
   "id": "88db1fae-4d18-4630-964e-adaad5a09349",
   "metadata": {},
   "outputs": [
    {
     "data": {
      "text/plain": [
       "Pipeline(steps=[('column_transformer',\n",
       "                 ColumnTransformer(transformers=[('categorical_features',\n",
       "                                                  OneHotEncoder(),\n",
       "                                                  ['Gender', 'Marital_Status',\n",
       "                                                   'Card', 'Income',\n",
       "                                                   'Credit_Card', 'Mortgage']),\n",
       "                                                 ('numerical_features',\n",
       "                                                  StandardScaler(),\n",
       "                                                  ['Customer_Service_Calls',\n",
       "                                                   'Total_Revolving_Balance',\n",
       "                                                   'num_trans', 'num_accs',\n",
       "                                                   'nb_months'])])),\n",
       "                ('classifier', KNeighborsClassifier(n_neighbors=9))])"
      ]
     },
     "execution_count": 286,
     "metadata": {},
     "output_type": "execute_result"
    }
   ],
   "source": [
    "pipeline.fit(X_train, y_train)"
   ]
  },
  {
   "cell_type": "markdown",
   "id": "5f6c740c-56f3-496f-bbea-904449f63026",
   "metadata": {},
   "source": [
    "## CV estimate of accuracy is 91.03% +/ 0.63%\n"
   ]
  },
  {
   "cell_type": "code",
   "execution_count": 287,
   "id": "f0a4560f-3dd8-48bb-84de-051a269ce549",
   "metadata": {},
   "outputs": [],
   "source": [
    "filename = \"Completed_model_KNear.joblib\""
   ]
  },
  {
   "cell_type": "code",
   "execution_count": 288,
   "id": "6c374ed2-5715-4b45-9ed2-d841105775fd",
   "metadata": {},
   "outputs": [
    {
     "data": {
      "text/plain": [
       "['Completed_model_KNear.joblib']"
      ]
     },
     "execution_count": 288,
     "metadata": {},
     "output_type": "execute_result"
    }
   ],
   "source": [
    "joblib.dump(pipeline, filename)"
   ]
  },
  {
   "cell_type": "code",
   "execution_count": 294,
   "id": "989e27b3-9135-4b39-8b3d-b13c44d4c707",
   "metadata": {},
   "outputs": [],
   "source": [
    "from sklearn.model_selection import GridSearchCV\n",
    "\n",
    "param_grid = [\n",
    "    { \n",
    "        'classifier__n_neighbors': range(3,17,2),\n",
    "    }\n",
    "]\n",
    "\n",
    "gs = GridSearchCV(pipeline, param_grid=param_grid, scoring='accuracy', cv=15, n_jobs=-1)"
   ]
  },
  {
   "cell_type": "markdown",
   "id": "5533e1bd-a5ff-434e-98ef-b0fa8962a4ba",
   "metadata": {},
   "source": [
    "### CV estimate of accuracy is 86.24% +/ 0.27%"
   ]
  },
  {
   "cell_type": "code",
   "execution_count": null,
   "id": "c5b4501a-8b57-47eb-b7a4-ee894d62dcb3",
   "metadata": {},
   "outputs": [],
   "source": []
  },
  {
   "cell_type": "code",
   "execution_count": 295,
   "id": "5e69dd89-3056-4e08-a3e6-d12e49a0ce69",
   "metadata": {},
   "outputs": [],
   "source": [
    "gs.fit(X_train, y_train);"
   ]
  },
  {
   "cell_type": "code",
   "execution_count": 296,
   "id": "738ad9e4-680c-4b4c-aca2-99defa2c24cc",
   "metadata": {},
   "outputs": [
    {
     "data": {
      "text/plain": [
       "{'classifier__n_neighbors': 13}"
      ]
     },
     "execution_count": 296,
     "metadata": {},
     "output_type": "execute_result"
    }
   ],
   "source": [
    "gs.best_params_"
   ]
  },
  {
   "cell_type": "code",
   "execution_count": null,
   "id": "f14e84a0-d65d-4e5d-8d46-eb2ea486d0e5",
   "metadata": {},
   "outputs": [],
   "source": []
  },
  {
   "cell_type": "code",
   "execution_count": null,
   "id": "f4c345dd-e391-48d4-868a-e841032ce50e",
   "metadata": {},
   "outputs": [],
   "source": []
  }
 ],
 "metadata": {
  "kernelspec": {
   "display_name": "Python 3 (ipykernel)",
   "language": "python",
   "name": "python3"
  },
  "language_info": {
   "codemirror_mode": {
    "name": "ipython",
    "version": 3
   },
   "file_extension": ".py",
   "mimetype": "text/x-python",
   "name": "python",
   "nbconvert_exporter": "python",
   "pygments_lexer": "ipython3",
   "version": "3.9.13"
  }
 },
 "nbformat": 4,
 "nbformat_minor": 5
}
